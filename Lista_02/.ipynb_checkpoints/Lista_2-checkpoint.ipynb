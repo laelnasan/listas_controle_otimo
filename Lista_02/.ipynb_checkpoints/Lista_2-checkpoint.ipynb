{
 "cells": [
  {
   "cell_type": "markdown",
   "metadata": {},
   "source": [
    "# Lista de Exercícios 2\n",
    "## Programação Dinâmica\n",
    "\n",
    "### Ex. 1\n",
    "#### a) Discretize as equações:"
   ]
  },
  {
   "cell_type": "code",
   "execution_count": 1,
   "metadata": {},
   "outputs": [],
   "source": [
    "import sympy as sp\n",
    "from sympy import Function\n",
    "sp.init_printing()\n",
    "\n",
    "# define-se as grandezas\n",
    "t, Delta_t, k = sp.symbols('t \\Delta\\ t k')\n",
    "x1, dx1, x2, dx2, u = (\n",
    "    Function(x)(t) for x in ('x_1', '\\dot{x}_1', 'x_2', '\\dot{x}_2', 'u') )"
   ]
  },
  {
   "cell_type": "code",
   "execution_count": 2,
   "metadata": {},
   "outputs": [],
   "source": [
    "eq2r = -x1 + x2 * (1 - x1 ** 2) + u"
   ]
  },
  {
   "cell_type": "code",
   "execution_count": 3,
   "metadata": {},
   "outputs": [
    {
     "data": {
      "image/png": "[encoded data removed]",
      "text/latex": [
       "$\\displaystyle \\dot{x}_1{\\left(t \\right)} = \\operatorname{x_{2}}{\\left(t \\right)}$"
      ],
      "text/plain": [
       "\\dot{x}₁(t) = x₂(t)"
      ]
     },
     "execution_count": 3,
     "metadata": {},
     "output_type": "execute_result"
    }
   ],
   "source": [
    "sp.Eq(dx1, x2)"
   ]
  },
  {
   "cell_type": "code",
   "execution_count": 4,
   "metadata": {},
   "outputs": [
    {
     "data": {
      "image/png": "[encoded data removed]",
      "text/latex": [
       "$\\displaystyle \\dot{x}_2{\\left(t \\right)} = \\left(1 - \\operatorname{x_{1}}^{2}{\\left(t \\right)}\\right) \\operatorname{x_{2}}{\\left(t \\right)} + u{\\left(t \\right)} - \\operatorname{x_{1}}{\\left(t \\right)}$"
      ],
      "text/plain": [
       "              ⎛      2   ⎞                     \n",
       "\\dot{x}₂(t) = ⎝1 - x₁ (t)⎠⋅x₂(t) + u(t) - x₁(t)"
      ]
     },
     "execution_count": 4,
     "metadata": {},
     "output_type": "execute_result"
    }
   ],
   "source": [
    "sp.Eq(dx2, eq2r)"
   ]
  },
  {
   "cell_type": "code",
   "execution_count": 5,
   "metadata": {},
   "outputs": [],
   "source": [
    "# substitui-se t por k * Delta t\n",
    "x1, x2, u = (x.subs(t, k * Delta_t) for x in (x1, x2, u))\n",
    "# aproxima-se a derivada pela inclinação da reta\n",
    "dx1, dx2 = ((x.subs(k, k + 1) - x) / Delta_t for x in (x1, x2))\n",
    "\n",
    "# redefine-se as equações\n",
    "eq1l, eq1r = dx1, x2\n",
    "eq2l, eq2r = dx2, -x1 + x2 * (1 - x1 ** 2) + u"
   ]
  },
  {
   "cell_type": "code",
   "execution_count": 6,
   "metadata": {},
   "outputs": [
    {
     "data": {
      "image/png": "[encoded data removed]",
      "text/latex": [
       "$\\displaystyle \\frac{- \\operatorname{x_{1}}{\\left(\\Delta t k \\right)} + \\operatorname{x_{1}}{\\left(\\Delta t \\left(k + 1\\right) \\right)}}{\\Delta t} = \\operatorname{x_{2}}{\\left(\\Delta t k \\right)}$"
      ],
      "text/plain": [
       "-x₁(\\Delta t⋅k) + x₁(\\Delta t⋅(k + 1))                 \n",
       "────────────────────────────────────── = x₂(\\Delta t⋅k)\n",
       "               \\Delta t                                "
      ]
     },
     "execution_count": 6,
     "metadata": {},
     "output_type": "execute_result"
    }
   ],
   "source": [
    "sp.Eq(eq1l, eq1r)"
   ]
  },
  {
   "cell_type": "code",
   "execution_count": 7,
   "metadata": {},
   "outputs": [
    {
     "data": {
      "image/png": "[encoded data removed]",
      "text/latex": [
       "$\\displaystyle \\frac{- \\operatorname{x_{2}}{\\left(\\Delta t k \\right)} + \\operatorname{x_{2}}{\\left(\\Delta t \\left(k + 1\\right) \\right)}}{\\Delta t} = \\left(1 - \\operatorname{x_{1}}^{2}{\\left(\\Delta t k \\right)}\\right) \\operatorname{x_{2}}{\\left(\\Delta t k \\right)} + u{\\left(\\Delta t k \\right)} - \\operatorname{x_{1}}{\\left(\\Delta t k \\right)}$"
      ],
      "text/plain": [
       "-x₂(\\Delta t⋅k) + x₂(\\Delta t⋅(k + 1))   ⎛      2            ⎞                \n",
       "────────────────────────────────────── = ⎝1 - x₁ (\\Delta t⋅k)⎠⋅x₂(\\Delta t⋅k) \n",
       "               \\Delta t                                                       \n",
       "\n",
       "                                \n",
       "+ u(\\Delta t⋅k) - x₁(\\Delta t⋅k)\n",
       "                                "
      ]
     },
     "execution_count": 7,
     "metadata": {},
     "output_type": "execute_result"
    }
   ],
   "source": [
    "sp.Eq(eq2l, eq2r)"
   ]
  },
  {
   "cell_type": "code",
   "execution_count": 8,
   "metadata": {},
   "outputs": [],
   "source": [
    "# Multiplica-se ambos os lados das equações por Delta t\n",
    "eq1l, eq1r, eq2l, eq2r = (\n",
    "    eq * Delta_t \\\n",
    "    for eq in (dx1, x2, eq2l, eq2r))"
   ]
  },
  {
   "cell_type": "code",
   "execution_count": 9,
   "metadata": {},
   "outputs": [
    {
     "data": {
      "image/png": "[encoded data removed]",
      "text/latex": [
       "$\\displaystyle - \\operatorname{x_{1}}{\\left(\\Delta t k \\right)} + \\operatorname{x_{1}}{\\left(\\Delta t \\left(k + 1\\right) \\right)} = \\Delta t \\operatorname{x_{2}}{\\left(\\Delta t k \\right)}$"
      ],
      "text/plain": [
       "-x₁(\\Delta t⋅k) + x₁(\\Delta t⋅(k + 1)) = \\Delta t⋅x₂(\\Delta t⋅k)"
      ]
     },
     "execution_count": 9,
     "metadata": {},
     "output_type": "execute_result"
    }
   ],
   "source": [
    "sp.Eq(eq1l, eq1r)"
   ]
  },
  {
   "cell_type": "code",
   "execution_count": 10,
   "metadata": {},
   "outputs": [
    {
     "data": {
      "image/png": "[encoded data removed]",
      "text/latex": [
       "$\\displaystyle - \\operatorname{x_{2}}{\\left(\\Delta t k \\right)} + \\operatorname{x_{2}}{\\left(\\Delta t \\left(k + 1\\right) \\right)} = \\Delta t \\left(\\left(1 - \\operatorname{x_{1}}^{2}{\\left(\\Delta t k \\right)}\\right) \\operatorname{x_{2}}{\\left(\\Delta t k \\right)} + u{\\left(\\Delta t k \\right)} - \\operatorname{x_{1}}{\\left(\\Delta t k \\right)}\\right)$"
      ],
      "text/plain": [
       "                                                  ⎛⎛      2            ⎞      \n",
       "-x₂(\\Delta t⋅k) + x₂(\\Delta t⋅(k + 1)) = \\Delta t⋅⎝⎝1 - x₁ (\\Delta t⋅k)⎠⋅x₂(\\D\n",
       "\n",
       "                                          ⎞\n",
       "elta t⋅k) + u(\\Delta t⋅k) - x₁(\\Delta t⋅k)⎠"
      ]
     },
     "execution_count": 10,
     "metadata": {},
     "output_type": "execute_result"
    }
   ],
   "source": [
    "sp.Eq(eq2l, eq2r)"
   ]
  },
  {
   "cell_type": "code",
   "execution_count": 11,
   "metadata": {},
   "outputs": [],
   "source": [
    "# isola-se o termo futuro\n",
    "eq1l, eq1r = (eq + x1 for eq in (eq1l, eq1r))\n",
    "eq2l, eq2r = (eq + x2 for eq in (eq2l, eq2r))"
   ]
  },
  {
   "cell_type": "code",
   "execution_count": 12,
   "metadata": {},
   "outputs": [
    {
     "data": {
      "image/png": "[encoded data removed]",
      "text/latex": [
       "$\\displaystyle \\operatorname{x_{1}}{\\left(\\Delta t \\left(k + 1\\right) \\right)} = \\Delta t \\operatorname{x_{2}}{\\left(\\Delta t k \\right)} + \\operatorname{x_{1}}{\\left(\\Delta t k \\right)}$"
      ],
      "text/plain": [
       "x₁(\\Delta t⋅(k + 1)) = \\Delta t⋅x₂(\\Delta t⋅k) + x₁(\\Delta t⋅k)"
      ]
     },
     "execution_count": 12,
     "metadata": {},
     "output_type": "execute_result"
    }
   ],
   "source": [
    "sp.Eq(eq1l, eq1r)"
   ]
  },
  {
   "cell_type": "code",
   "execution_count": 13,
   "metadata": {},
   "outputs": [
    {
     "data": {
      "image/png": "[encoded data removed]",
      "text/latex": [
       "$\\displaystyle \\operatorname{x_{2}}{\\left(\\Delta t \\left(k + 1\\right) \\right)} = \\Delta t \\left(\\left(1 - \\operatorname{x_{1}}^{2}{\\left(\\Delta t k \\right)}\\right) \\operatorname{x_{2}}{\\left(\\Delta t k \\right)} + u{\\left(\\Delta t k \\right)} - \\operatorname{x_{1}}{\\left(\\Delta t k \\right)}\\right) + \\operatorname{x_{2}}{\\left(\\Delta t k \\right)}$"
      ],
      "text/plain": [
       "                                ⎛⎛      2            ⎞                        \n",
       "x₂(\\Delta t⋅(k + 1)) = \\Delta t⋅⎝⎝1 - x₁ (\\Delta t⋅k)⎠⋅x₂(\\Delta t⋅k) + u(\\Del\n",
       "\n",
       "                        ⎞                 \n",
       "ta t⋅k) - x₁(\\Delta t⋅k)⎠ + x₂(\\Delta t⋅k)"
      ]
     },
     "execution_count": 13,
     "metadata": {},
     "output_type": "execute_result"
    }
   ],
   "source": [
    "sp.Eq(eq2l, eq2r)"
   ]
  },
  {
   "cell_type": "code",
   "execution_count": 14,
   "metadata": {},
   "outputs": [],
   "source": [
    "# por fim, define-se as equações de diferenças\n",
    "eq1l, eq1r, eq2l, eq2r = \\\n",
    " (eq.subs(Delta_t*k, k)\\\n",
    "    .subs(Delta_t*(k+1), k+1)\\\n",
    "    for eq in (eq1l, eq1r, eq2l, eq2r))"
   ]
  },
  {
   "cell_type": "code",
   "execution_count": 15,
   "metadata": {},
   "outputs": [
    {
     "data": {
      "image/png": "[encoded data removed]",
      "text/latex": [
       "$\\displaystyle \\operatorname{x_{1}}{\\left(k + 1 \\right)} = \\Delta t \\operatorname{x_{2}}{\\left(k \\right)} + \\operatorname{x_{1}}{\\left(k \\right)}$"
      ],
      "text/plain": [
       "x₁(k + 1) = \\Delta t⋅x₂(k) + x₁(k)"
      ]
     },
     "execution_count": 15,
     "metadata": {},
     "output_type": "execute_result"
    }
   ],
   "source": [
    "sp.Eq(eq1l, eq1r)"
   ]
  },
  {
   "cell_type": "code",
   "execution_count": 16,
   "metadata": {},
   "outputs": [
    {
     "data": {
      "image/png": "[encoded data removed]",
      "text/latex": [
       "$\\displaystyle \\operatorname{x_{2}}{\\left(k + 1 \\right)} = \\Delta t \\left(\\left(1 - \\operatorname{x_{1}}^{2}{\\left(k \\right)}\\right) \\operatorname{x_{2}}{\\left(k \\right)} + u{\\left(k \\right)} - \\operatorname{x_{1}}{\\left(k \\right)}\\right) + \\operatorname{x_{2}}{\\left(k \\right)}$"
      ],
      "text/plain": [
       "                     ⎛⎛      2   ⎞                     ⎞        \n",
       "x₂(k + 1) = \\Delta t⋅⎝⎝1 - x₁ (k)⎠⋅x₂(k) + u(k) - x₁(k)⎠ + x₂(k)"
      ]
     },
     "execution_count": 16,
     "metadata": {},
     "output_type": "execute_result"
    }
   ],
   "source": [
    "sp.Eq(eq2l, eq2r)"
   ]
  },
  {
   "cell_type": "markdown",
   "metadata": {},
   "source": [
    "de igual modo, a função custo toma a forma:"
   ]
  },
  {
   "cell_type": "code",
   "execution_count": 17,
   "metadata": {},
   "outputs": [],
   "source": [
    "# N é o tempo máximo\n",
    "N = sp.Symbol('N')\n",
    "# x_i(k)\n",
    "x1, x2, u = (x.subs(Delta_t, 1) for x in (x1, x2, u))\n",
    "\n",
    "h = (x1.subs(k, N) - 5) ** 2\n",
    "g = x2 ** 2 + 20 * (x1 - 5) ** 2 + u ** 2\n",
    "\n",
    "J = Delta_t * sp.Sum(g, (k, 0, N - 1)) + h"
   ]
  },
  {
   "cell_type": "code",
   "execution_count": 18,
   "metadata": {},
   "outputs": [
    {
     "data": {
      "image/png": "[encoded data removed]",
      "text/latex": [
       "$\\displaystyle J = \\Delta t \\sum_{k=0}^{N - 1} \\left(20 \\left(\\operatorname{x_{1}}{\\left(k \\right)} - 5\\right)^{2} + u^{2}{\\left(k \\right)} + \\operatorname{x_{2}}^{2}{\\left(k \\right)}\\right) + \\left(\\operatorname{x_{1}}{\\left(N \\right)} - 5\\right)^{2}$"
      ],
      "text/plain": [
       "             N - 1                                                  \n",
       "              ___                                                   \n",
       "              ╲                                                     \n",
       "               ╲   ⎛              2    2        2   ⎞              2\n",
       "J = \\Delta t⋅  ╱   ⎝20⋅(x₁(k) - 5)  + u (k) + x₂ (k)⎠ + (x₁(N) - 5) \n",
       "              ╱                                                     \n",
       "              ‾‾‾                                                   \n",
       "             k = 0                                                  "
      ]
     },
     "execution_count": 18,
     "metadata": {},
     "output_type": "execute_result"
    }
   ],
   "source": [
    "sp.Eq(sp.Symbol('J'), J)"
   ]
  },
  {
   "cell_type": "markdown",
   "metadata": {},
   "source": [
    "#### b) Quais ajustes devem ser feitos para programação dinâmica?\n",
    "\n",
    "Nenhum ajuste precisa ser feito, pois o método independe da linearidade ou invariância no tempo do sistema."
   ]
  },
  {
   "cell_type": "markdown",
   "metadata": {},
   "source": [
    "### Ex. 2\n",
    "#### a) Elabore a mão as etapas computacionais necessárias para determinar a lei de controle ótima. Quantize $x_k$ e $u_k$ em passos de 0,1 e use interpolação.\n",
    "\n",
    "Para facilitar os cálculos, reescreve-se a função custo como:\n",
    "$$ J = |x_k(N)| + \\sum_{k=0}^{N-1} |x_k(k)| $$"
   ]
  },
  {
   "cell_type": "code",
   "execution_count": 19,
   "metadata": {},
   "outputs": [
    {
     "name": "stdout",
     "output_type": "stream",
     "text": [
      "\u001b[H\u001b[2J"
     ]
    }
   ],
   "source": [
    "%clear\n",
    "import numpy as np\n",
    "\n",
    "# definindo o espaço vetorial\n",
    "N = 2;\n",
    "x_k = 0.1 * np.array(range(-2, 3))\n",
    "u_k = 0.1 * np.array(range(-1, 2))"
   ]
  },
  {
   "cell_type": "code",
   "execution_count": 20,
   "metadata": {},
   "outputs": [
    {
     "data": {
      "text/plain": [
       "array([-0.2, -0.1,  0. ,  0.1,  0.2])"
      ]
     },
     "execution_count": 20,
     "metadata": {},
     "output_type": "execute_result"
    }
   ],
   "source": [
    "x_k"
   ]
  },
  {
   "cell_type": "code",
   "execution_count": 21,
   "metadata": {},
   "outputs": [
    {
     "data": {
      "text/plain": [
       "array([-0.1,  0. ,  0.1])"
      ]
     },
     "execution_count": 21,
     "metadata": {},
     "output_type": "execute_result"
    }
   ],
   "source": [
    "u_k"
   ]
  },
  {
   "cell_type": "code",
   "execution_count": 22,
   "metadata": {},
   "outputs": [],
   "source": [
    "# para cada valor discretizado do espaço de estados possível em k = N:\n",
    "from scipy.interpolate import interp1d\n",
    "J_2 = abs(x_k)\n",
    "J_2 = interp1d(x_k, J_2)"
   ]
  },
  {
   "cell_type": "code",
   "execution_count": 23,
   "metadata": {},
   "outputs": [
    {
     "data": {
      "text/plain": [
       "[array([-0.1]),\n",
       " array([-0.1,  0. ]),\n",
       " array([0.]),\n",
       " array([0. , 0.1]),\n",
       " array([0.1])]"
      ]
     },
     "execution_count": 23,
     "metadata": {},
     "output_type": "execute_result"
    }
   ],
   "source": [
    "# demais passos são obtidos escolhendo-se o valor de controle que gera o menor custo\n",
    "# desejamos saber em cada ponto do espaço de estados, qual o valor de u que leva ao menor\n",
    "# valor de J\n",
    "\n",
    "min_u_k = [u_k[J_2(u_k - 0.5 * x) == min(J_2(u_k - 0.5 * x))] for x in x_k]\n",
    "min_u_k"
   ]
  },
  {
   "cell_type": "code",
   "execution_count": 24,
   "metadata": {},
   "outputs": [
    {
     "data": {
      "image/png": "[encoded data removed]",
      "text/latex": [
       "$\\displaystyle \\left[ -0.1, \\  0.0, \\  0.0, \\  0.0, \\  0.1\\right]$"
      ],
      "text/plain": [
       "[-0.1, 0.0, 0.0, 0.0, 0.1]"
      ]
     },
     "execution_count": 24,
     "metadata": {},
     "output_type": "execute_result"
    }
   ],
   "source": [
    "# verifica-se que existem pontos em que a função custo é igual para dois valores de u\n",
    "# isso se dá por não possuirmos uma função custo que considere a ação de controle.\n",
    "# em todo caso, opta-se pela ação de controle mais próxima de zero:\n",
    "u_12 = [ min(u, key=(lambda u : abs(u))) for u in min_u_k ]\n",
    "u_12"
   ]
  },
  {
   "cell_type": "code",
   "execution_count": 25,
   "metadata": {},
   "outputs": [
    {
     "data": {
      "text/plain": [
       "array([0.2 , 0.15, 0.  , 0.15, 0.2 ])"
      ]
     },
     "execution_count": 25,
     "metadata": {},
     "output_type": "execute_result"
    }
   ],
   "source": [
    "# o valor da função custo se torna:\n",
    "J_12 = interp1d(x_k, abs(x_k) + J_2(u_12 - 0.5 * x_k))\n",
    "J_12(x_k)"
   ]
  },
  {
   "cell_type": "code",
   "execution_count": 26,
   "metadata": {},
   "outputs": [],
   "source": [
    "# repete-se o mesmo procedimento para o póximo passo:\n",
    "min_u_k = [u_k[J_12(u_k - 0.5 * x) == min(J_12(u_k - 0.5 * x))] for x in x_k]\n",
    "u_01 = [ min(u, key=(lambda u : abs(u))) for u in min_u_k ]\n",
    "J_01 = interp1d(x_k, abs(x_k) + J_12(u_01 - 0.5 * x_k))"
   ]
  },
  {
   "cell_type": "code",
   "execution_count": 27,
   "metadata": {},
   "outputs": [
    {
     "data": {
      "text/plain": [
       "array([0.2  , 0.175, 0.   , 0.175, 0.2  ])"
      ]
     },
     "execution_count": 27,
     "metadata": {},
     "output_type": "execute_result"
    }
   ],
   "source": [
    "J_01(x_k)"
   ]
  },
  {
   "cell_type": "code",
   "execution_count": 28,
   "metadata": {},
   "outputs": [],
   "source": [
    "u = [ interp1d(x_k, u) for u in (u_01, u_12) ]"
   ]
  },
  {
   "cell_type": "code",
   "execution_count": 29,
   "metadata": {},
   "outputs": [
    {
     "data": {
      "text/plain": [
       "array([-0.1,  0. ,  0. ,  0. ,  0.1])"
      ]
     },
     "execution_count": 29,
     "metadata": {},
     "output_type": "execute_result"
    }
   ],
   "source": [
    "u[0](x_k)"
   ]
  },
  {
   "cell_type": "code",
   "execution_count": 30,
   "metadata": {},
   "outputs": [
    {
     "data": {
      "text/plain": [
       "array([-0.1,  0. ,  0. ,  0. ,  0.1])"
      ]
     },
     "execution_count": 30,
     "metadata": {},
     "output_type": "execute_result"
    }
   ],
   "source": [
    "u[1](x_k)"
   ]
  },
  {
   "cell_type": "markdown",
   "metadata": {},
   "source": [
    "#### b) Qual a sequência de controle ótima para o estado inicial $x_0$ = 0,2?"
   ]
  },
  {
   "cell_type": "code",
   "execution_count": 31,
   "metadata": {},
   "outputs": [
    {
     "data": {
      "image/png": "[encoded data removed]",
      "text/latex": [
       "$\\displaystyle \\left[ 0.1, \\  0.0\\right]$"
      ],
      "text/plain": [
       "[0.1, 0.0]"
      ]
     },
     "execution_count": 31,
     "metadata": {},
     "output_type": "execute_result"
    }
   ],
   "source": [
    "x_n = (lambda x, u : u - 0.5 * x)\n",
    "x = [0.2]\n",
    "u_min = []\n",
    "\n",
    "for t in range(2):\n",
    "    u_min.append(float(u[t](x[t])))\n",
    "    x.append(x_n(x[t], u_min[t]))\n",
    "\n",
    "u_min"
   ]
  },
  {
   "cell_type": "code",
   "execution_count": 32,
   "metadata": {},
   "outputs": [
    {
     "data": {
      "image/png": "[encoded data removed]",
      "text/latex": [
       "$\\displaystyle \\left[ 0.2, \\  0.0, \\  0.0\\right]$"
      ],
      "text/plain": [
       "[0.2, 0.0, 0.0]"
      ]
     },
     "execution_count": 32,
     "metadata": {},
     "output_type": "execute_result"
    }
   ],
   "source": [
    "x"
   ]
  },
  {
   "cell_type": "code",
   "execution_count": 33,
   "metadata": {},
   "outputs": [
    {
     "data": {
      "image/png": "[encoded data removed]",
      "text/latex": [
       "$\\displaystyle 0.2$"
      ],
      "text/plain": [
       "0.2"
      ]
     },
     "execution_count": 33,
     "metadata": {},
     "output_type": "execute_result"
    }
   ],
   "source": [
    "#J = \n",
    "sum([abs(X) for X in x])"
   ]
  },
  {
   "cell_type": "markdown",
   "metadata": {},
   "source": [
    "### Ex. 3: \n",
    "#### a) \n",
    " Para a função custo apresentada, o controle ótimo não necessariamente leva o sistema\n",
    " a zero em dois passos. Para melhorar a resposta do controlador, assume-se\n",
    " $$ h(x_k, N) = 100|x_N| $$\n",
    " de forma a garantir a convergência do sistema em malha fechada."
   ]
  },
  {
   "cell_type": "code",
   "execution_count": 34,
   "metadata": {},
   "outputs": [],
   "source": [
    "# definindo espaço de estados\n",
    "x_k = np.array(range(-3,4))\n",
    "u_k = 0.5 * np.array(range(-2,3))\n",
    "N = 2\n",
    "\n",
    "a = (lambda x, u : u - 0.5 * x)\n",
    "g = (lambda x, u : abs(x + 5 * u))"
   ]
  },
  {
   "cell_type": "code",
   "execution_count": 35,
   "metadata": {},
   "outputs": [],
   "source": [
    "# J_N = 0 * abs(x_k) # função custo original\n",
    "J_N = 100 * abs(x_k)\n",
    "\n",
    "J = [interp1d(x_k, J_N)]\n",
    "u_op = []\n",
    "for t in range(N):\n",
    "    # função custo no passo\n",
    "    j_n = (lambda x, u : g(x, u) + J[0](a(x, u)))\n",
    "    \n",
    "    # define controle ótimo no passo\n",
    "    min_u = [min(u_k, key=(lambda k : j_n(x, k))) \\\n",
    "            for x in x_k]\n",
    "    \n",
    "    # adiciona a interpolação de controle do passo\n",
    "    u_op.insert(0, interp1d(x_k, min_u))\n",
    "    \n",
    "    # adiciona interpolação de função custo do passo\n",
    "    J   .insert(0, interp1d(x_k, \n",
    "        j_n(x_k, u_op[0](x_k))))"
   ]
  },
  {
   "cell_type": "code",
   "execution_count": 36,
   "metadata": {},
   "outputs": [
    {
     "data": {
      "text/plain": [
       "array([ 0.5,  0. ,  0. ,  0. ,  0. ,  0. , -0.5])"
      ]
     },
     "execution_count": 36,
     "metadata": {},
     "output_type": "execute_result"
    }
   ],
   "source": [
    "u_op[0](x_k) # ação de controle para k = 0"
   ]
  },
  {
   "cell_type": "code",
   "execution_count": 37,
   "metadata": {},
   "outputs": [
    {
     "data": {
      "text/plain": [
       "array([-1. , -1. , -0.5,  0. ,  0.5,  1. ,  1. ])"
      ]
     },
     "execution_count": 37,
     "metadata": {},
     "output_type": "execute_result"
    }
   ],
   "source": [
    "u_op[1](x_k) # ação de controle para k = 1"
   ]
  },
  {
   "cell_type": "code",
   "execution_count": 38,
   "metadata": {},
   "outputs": [
    {
     "data": {
      "text/plain": [
       "array([300., 200., 100.,   0., 100., 200., 300.])"
      ]
     },
     "execution_count": 38,
     "metadata": {},
     "output_type": "execute_result"
    }
   ],
   "source": [
    "J[2](x_k) # h(x_N)"
   ]
  },
  {
   "cell_type": "code",
   "execution_count": 39,
   "metadata": {},
   "outputs": [
    {
     "data": {
      "text/plain": [
       "array([58. ,  7. ,  3.5,  0. ,  3.5,  7. , 58. ])"
      ]
     },
     "execution_count": 39,
     "metadata": {},
     "output_type": "execute_result"
    }
   ],
   "source": [
    "J[1](x_k) # J_12"
   ]
  },
  {
   "cell_type": "code",
   "execution_count": 40,
   "metadata": {},
   "outputs": [
    {
     "data": {
      "text/plain": [
       "array([7.5 , 5.5 , 2.75, 0.  , 2.75, 5.5 , 7.5 ])"
      ]
     },
     "execution_count": 40,
     "metadata": {},
     "output_type": "execute_result"
    }
   ],
   "source": [
    "J[0](x_k) # J_01"
   ]
  },
  {
   "cell_type": "code",
   "execution_count": 41,
   "metadata": {},
   "outputs": [
    {
     "name": "stdout",
     "output_type": "stream",
     "text": [
      "x:  -2 u:  0.0\n",
      "x:  1.0 u:  0.5\n",
      "x:  0.0\n"
     ]
    }
   ],
   "source": [
    "# trajetória de x_0 = -2\n",
    "x = -2\n",
    "print(\"x: \", x, \"u: \", u_op[0](x))\n",
    "x = a(x, u_op[0](x))\n",
    "print(\"x: \", x, \"u: \", u_op[1](x))\n",
    "x = a(x, u_op[1](x))\n",
    "print(\"x: \", x)"
   ]
  },
  {
   "cell_type": "markdown",
   "metadata": {},
   "source": [
    "### Ex. 4"
   ]
  },
  {
   "cell_type": "code",
   "execution_count": 42,
   "metadata": {},
   "outputs": [],
   "source": [
    "# definindo espaço de estados\n",
    "x_k = 0.5 * np.array(range(3))\n",
    "u_k = 0.2 * np.array(range(-2,3))\n",
    "N = 2\n",
    "\n",
    "a = (lambda x, u : x -0.4 * x ** 2 + u)\n",
    "g = (lambda x, u : abs(u))\n",
    "\n",
    "u_valido = (lambda x, u : 0 <= a(x, u) <= 1)"
   ]
  },
  {
   "cell_type": "code",
   "execution_count": 43,
   "metadata": {},
   "outputs": [],
   "source": [
    "J_N = 4 * abs(x_k)\n",
    "\n",
    "J = [interp1d(x_k, list(J_N))]\n",
    "u_op = []\n",
    "for t in range(N):\n",
    "    # função custo no passo\n",
    "    j_n = (lambda x, u : g(x, u) + J[0](a(x, u)) )\n",
    "\n",
    "    # define controle ótimo no passo\n",
    "    min_u = [min( # função de mínimo\n",
    "                [u for u in u_k if u_valido(x, u)], # seleciona controles válidos\n",
    "                key=(lambda k : j_n(x, k)) # indica qual o indice a ser minimizado\n",
    "              ) for x in x_k] \n",
    "    \n",
    "    # adiciona a interpolação de controle do passo\n",
    "    u_op.insert(0, interp1d(x_k, min_u))\n",
    "    \n",
    "    # adiciona interpolação de função custo do passo\n",
    "    J   .insert(0, interp1d(x_k, \n",
    "        j_n(x_k, u_op[0](x_k))))"
   ]
  },
  {
   "cell_type": "code",
   "execution_count": 44,
   "metadata": {},
   "outputs": [
    {
     "data": {
      "text/plain": [
       "array([0.  , 0.32, 0.52])"
      ]
     },
     "execution_count": 44,
     "metadata": {},
     "output_type": "execute_result"
    }
   ],
   "source": [
    "J[0](x_k)"
   ]
  },
  {
   "cell_type": "code",
   "execution_count": 45,
   "metadata": {},
   "outputs": [
    {
     "data": {
      "text/plain": [
       "array([ 0. ,  0. , -0.2])"
      ]
     },
     "execution_count": 45,
     "metadata": {},
     "output_type": "execute_result"
    }
   ],
   "source": [
    "u_op[0](x_k)"
   ]
  },
  {
   "cell_type": "code",
   "execution_count": 46,
   "metadata": {},
   "outputs": [
    {
     "data": {
      "text/plain": [
       "array([0. , 0.4, 1.2])"
      ]
     },
     "execution_count": 46,
     "metadata": {},
     "output_type": "execute_result"
    }
   ],
   "source": [
    "J[1](x_k)"
   ]
  },
  {
   "cell_type": "code",
   "execution_count": 47,
   "metadata": {},
   "outputs": [
    {
     "data": {
      "text/plain": [
       "array([ 0. , -0.4, -0.4])"
      ]
     },
     "execution_count": 47,
     "metadata": {},
     "output_type": "execute_result"
    }
   ],
   "source": [
    "u_op[1](x_k)"
   ]
  },
  {
   "cell_type": "code",
   "execution_count": 48,
   "metadata": {},
   "outputs": [
    {
     "data": {
      "text/plain": [
       "array([0., 2., 4.])"
      ]
     },
     "execution_count": 48,
     "metadata": {},
     "output_type": "execute_result"
    }
   ],
   "source": [
    "J[2](x_k)"
   ]
  },
  {
   "cell_type": "markdown",
   "metadata": {},
   "source": [
    "#### b) trajetória ótima para $x_0$ = 1"
   ]
  },
  {
   "cell_type": "code",
   "execution_count": 49,
   "metadata": {},
   "outputs": [
    {
     "name": "stdout",
     "output_type": "stream",
     "text": [
      "x:  1 u:  -0.2\n",
      "x:  0.39999999999999997 u:  -0.32\n",
      "x:  0.01599999999999996\n"
     ]
    }
   ],
   "source": [
    "x = 1\n",
    "print(\"x: \", x, \"u: \", u_op[0](x))\n",
    "x = a(x, u_op[0](x))\n",
    "print(\"x: \", x, \"u: \", u_op[1](x))\n",
    "x = a(x, u_op[1](x))\n",
    "print(\"x: \", x)"
   ]
  },
  {
   "cell_type": "markdown",
   "metadata": {},
   "source": [
    "### Ex. 5\n",
    "\n",
    "Da teoria do Regulador Linear Quadrático, tem-se que dada uma função custo\n",
    "$$ J = \\frac{1}{2} x(N)^T H x(N) + \\frac{1}{2}\\sum_{k=0}^{N-1} x(k)^TQx(k) + u(k)^TRu(k)$$\n",
    "tal que $R$, $H$ e $Q$ são matrizes reais simétricas, $R$ positiva definida e $H$, $Q$ positivas semi-definidas; obtém-se um controlador ótimo para o sistema invariante no tempo:\n",
    "\n",
    "$$ u^*(N - k) = F(N - k)x(N - k)$$\n",
    "$$ F(N - k) = -[R + B^TP(k-1)B]^{-1} B^TP(k-1)A $$\n",
    "$$ P(k) = [A + BF(N - K)]^T P(k-1)[A + BF(N-k)] + F(N-k)^TRF(N-k) + Q$$\n",
    "$$ P(0) = H $$\n",
    "#### a) Apresente os gráficos dos ganhos F(N-k)"
   ]
  },
  {
   "cell_type": "code",
   "execution_count": 50,
   "metadata": {},
   "outputs": [],
   "source": [
    "from scipy import signal as sg\n",
    "import matplotlib.pyplot as plt\n",
    "\n",
    "#definições\n",
    "N = 200\n",
    "A = np.array([[0.9974, 0.0539], [-0.1078, 1.1591]])\n",
    "B = np.array([[0.0013], [0.0539]])"
   ]
  },
  {
   "cell_type": "code",
   "execution_count": 51,
   "metadata": {},
   "outputs": [
    {
     "data": {
      "text/plain": [
       "array([[ 0.9974,  0.0539],\n",
       "       [-0.1078,  1.1591]])"
      ]
     },
     "execution_count": 51,
     "metadata": {},
     "output_type": "execute_result"
    }
   ],
   "source": [
    "A"
   ]
  },
  {
   "cell_type": "code",
   "execution_count": 52,
   "metadata": {},
   "outputs": [
    {
     "data": {
      "text/plain": [
       "array([[0.0013],\n",
       "       [0.0539]])"
      ]
     },
     "execution_count": 52,
     "metadata": {},
     "output_type": "execute_result"
    }
   ],
   "source": [
    "B"
   ]
  },
  {
   "cell_type": "code",
   "execution_count": 53,
   "metadata": {},
   "outputs": [
    {
     "data": {
      "image/png": "[encoded data removed]",
      "text/plain": [
       "<Figure size 432x288 with 1 Axes>"
      ]
     },
     "metadata": {
      "needs_background": "light"
     },
     "output_type": "display_data"
    }
   ],
   "source": [
    "sys1 = sg.StateSpace(A, B, [1, 0], [0], dt=1)\n",
    "sys2 = sg.StateSpace(A, B, [0, 1], [0], dt=1)\n",
    "sol1 = sg.dimpulse(sys1, n=200)\n",
    "sol2 = sg.dimpulse(sys2, n=200)\n",
    "\n",
    "plt.figure(1)\n",
    "plt.plot(sol1[0], sol1[1][0], 'k-',linewidth=2,label=\"$x_1$\")\n",
    "plt.plot(sol2[0], sol2[1][0], 'k:',linewidth=2,label=\"$x_2$\")\n",
    "plt.legend(loc='best')\n",
    "plt.show()"
   ]
  },
  {
   "cell_type": "code",
   "execution_count": null,
   "metadata": {},
   "outputs": [],
   "source": []
  },
  {
   "cell_type": "code",
   "execution_count": 54,
   "metadata": {},
   "outputs": [],
   "source": [
    "H = np.array([[0,0],[0,0]])\n",
    "Q = np.array([[0.25, 0], [0, 0.05]])\n",
    "R = 0.05"
   ]
  },
  {
   "cell_type": "code",
   "execution_count": 55,
   "metadata": {},
   "outputs": [
    {
     "data": {
      "text/plain": [
       "array([[0, 0],\n",
       "       [0, 0]])"
      ]
     },
     "execution_count": 55,
     "metadata": {},
     "output_type": "execute_result"
    }
   ],
   "source": [
    "H"
   ]
  },
  {
   "cell_type": "code",
   "execution_count": 56,
   "metadata": {},
   "outputs": [
    {
     "data": {
      "text/plain": [
       "array([[0.25, 0.  ],\n",
       "       [0.  , 0.05]])"
      ]
     },
     "execution_count": 56,
     "metadata": {},
     "output_type": "execute_result"
    }
   ],
   "source": [
    "Q"
   ]
  },
  {
   "cell_type": "code",
   "execution_count": 57,
   "metadata": {},
   "outputs": [
    {
     "data": {
      "image/png": "[encoded data removed]",
      "text/latex": [
       "$\\displaystyle 0.05$"
      ],
      "text/plain": [
       "0.05"
      ]
     },
     "execution_count": 57,
     "metadata": {},
     "output_type": "execute_result"
    }
   ],
   "source": [
    "R"
   ]
  },
  {
   "cell_type": "markdown",
   "metadata": {},
   "source": [
    "#### a) Apresente o gráfico dos ganhos"
   ]
  },
  {
   "cell_type": "code",
   "execution_count": 58,
   "metadata": {},
   "outputs": [],
   "source": [
    "P = [H] # P[0] = H\n",
    "F = []"
   ]
  },
  {
   "cell_type": "code",
   "execution_count": 59,
   "metadata": {},
   "outputs": [],
   "source": [
    "for k in range(N): # N iterações\n",
    "    F.insert(0, # insere no início da lista\n",
    "        # P[-1]: último valor de P calculado\n",
    "        # matriz resultante 1x1:\n",
    "        -1 / (R + float(B.transpose() @ P[-1] @ B)) \\\n",
    "        * (B.transpose() @ P[-1] @ A)\n",
    "    )\n",
    "    \n",
    "    V = A + B @ F[0] # F[0]: último valor de F calculado\n",
    "    \n",
    "    P.append(\n",
    "        V.transpose() @ P[-1] @ V \\\n",
    "        + F[0].transpose() @ F[0] * R + Q # R unidimensional\n",
    "    )"
   ]
  },
  {
   "cell_type": "code",
   "execution_count": 60,
   "metadata": {},
   "outputs": [
    {
     "data": {
      "image/png": "[encoded data removed]",
      "text/plain": [
       "<Figure size 432x288 with 1 Axes>"
      ]
     },
     "metadata": {
      "needs_background": "light"
     },
     "output_type": "display_data"
    }
   ],
   "source": [
    "plt.figure(1)\n",
    "plt.plot([f[0][0] for f in F], linewidth=2,label=\"$F_1$\")\n",
    "plt.plot([f[0][1] for f in F], linewidth=2,label=\"$F_2$\")\n",
    "plt.legend(loc='best')\n",
    "plt.show()"
   ]
  },
  {
   "cell_type": "code",
   "execution_count": 61,
   "metadata": {},
   "outputs": [
    {
     "data": {
      "text/plain": [
       "array([[-0.55222965, -5.96901509]])"
      ]
     },
     "execution_count": 61,
     "metadata": {},
     "output_type": "execute_result"
    }
   ],
   "source": [
    "F[0]"
   ]
  },
  {
   "cell_type": "markdown",
   "metadata": {},
   "source": [
    "#### b) Apresente o gráfico das trajetórias ótimas dos estados e da ação de controle"
   ]
  },
  {
   "cell_type": "code",
   "execution_count": 62,
   "metadata": {},
   "outputs": [],
   "source": [
    "# para um valor inicial x = [2 1]^T\n",
    "x = [np.array([[2],[1]])]\n",
    "u = (lambda x, f: f @ x)\n",
    "for t in range(N):\n",
    "    x.append(A @ x[-1] + B @ u(x[-1], F[t]) )"
   ]
  },
  {
   "cell_type": "code",
   "execution_count": 63,
   "metadata": {},
   "outputs": [],
   "source": [
    "u = [float(u(x[t], F[t])) for t in range(200)]"
   ]
  },
  {
   "cell_type": "code",
   "execution_count": 64,
   "metadata": {},
   "outputs": [
    {
     "data": {
      "image/png": "[encoded data removed]",
      "text/plain": [
       "<Figure size 432x288 with 1 Axes>"
      ]
     },
     "metadata": {
      "needs_background": "light"
     },
     "output_type": "display_data"
    }
   ],
   "source": [
    "plt.figure(1)\n",
    "plt.plot([f[0] for f in x], linewidth=2,label=\"$x_1$\")\n",
    "plt.plot([f[1] for f in x], linewidth=2,label=\"$x_2$\")\n",
    "plt.plot(u, linewidth=2,label=\"$u$\")\n",
    "plt.legend(loc='best')\n",
    "plt.show()"
   ]
  },
  {
   "cell_type": "markdown",
   "metadata": {},
   "source": [
    "#### c) Implemente a lei sub-ótima com F constante"
   ]
  },
  {
   "cell_type": "code",
   "execution_count": 65,
   "metadata": {},
   "outputs": [
    {
     "data": {
      "image/png": "[encoded data removed]",
      "text/plain": [
       "<Figure size 432x288 with 1 Axes>"
      ]
     },
     "metadata": {
      "needs_background": "light"
     },
     "output_type": "display_data"
    }
   ],
   "source": [
    "# para um valor inicial x = [2 1]^T\n",
    "x_f = [np.array([[2],[1]])]\n",
    "\n",
    "# lei de controle invariante no tempo:\n",
    "u_f = (lambda x: F[0] @ x)\n",
    "\n",
    "for t in range(N): x_f.append(A @ x_f[-1] + B @ u_f(x_f[-1]))\n",
    "\n",
    "u_f = [float(u_f(x_f[t])) for t in range(200)]\n",
    "\n",
    "plt.figure(1)\n",
    "plt.plot([f[0] for f in x_f], linewidth=2,label=\"$x_1$\")\n",
    "plt.plot([f[1] for f in x_f], linewidth=2,label=\"$x_2$\")\n",
    "plt.plot(u_f, linewidth=2,label=\"$u$\")\n",
    "plt.legend(loc='best')\n",
    "plt.show()"
   ]
  },
  {
   "cell_type": "code",
   "execution_count": 66,
   "metadata": {},
   "outputs": [
    {
     "data": {
      "image/png": "[encoded data removed]",
      "text/plain": [
       "<Figure size 432x288 with 1 Axes>"
      ]
     },
     "metadata": {
      "needs_background": "light"
     },
     "output_type": "display_data"
    }
   ],
   "source": [
    "# erro entre implementações:\n",
    "plt.figure(1)\n",
    "plt.plot([x_f[t][0] - x[t][0] for t in range(200)], linewidth=2,label=\"$x_1$\")\n",
    "plt.plot([x_f[t][1] - x[t][1] for t in range(200)], linewidth=2,label=\"$x_2$\")\n",
    "plt.plot([u_f[t] - u[t] for t in range(200)], linewidth=2,label=\"$u$\")\n",
    "plt.legend(loc='best')\n",
    "plt.show()"
   ]
  },
  {
   "cell_type": "markdown",
   "metadata": {},
   "source": [
    "#### d) diferentes condições iniciais:\n"
   ]
  },
  {
   "cell_type": "code",
   "execution_count": 67,
   "metadata": {},
   "outputs": [],
   "source": [
    "# para um valor inicial x = [2 1]^T\n",
    "x_1 = [np.array([[2],[1]])]\n",
    "x_2 = [np.array([[-1],[-2]])]\n",
    "x_3 = [np.array([[0],[-1]])]\n",
    "x_4 = [np.array([[10],[0]])]\n",
    "\n",
    "# lei de controle invariante no tempo:\n",
    "u = (lambda x: F[0] @ x)\n",
    "\n",
    "for t in range(N): \n",
    "    x_1.append(A @ x_1[-1] + B @ u(x_1[-1]))\n",
    "    x_2.append(A @ x_2[-1] + B @ u(x_2[-1]))\n",
    "    x_3.append(A @ x_3[-1] + B @ u(x_3[-1]))\n",
    "    x_4.append(A @ x_4[-1] + B @ u(x_4[-1]))\n",
    "\n",
    "u_1 = [float(u(x_1[t])) for t in range(200)]\n",
    "u_2 = [float(u(x_2[t])) for t in range(200)]\n",
    "u_3 = [float(u(x_3[t])) for t in range(200)]\n",
    "u_4 = [float(u(x_4[t])) for t in range(200)]"
   ]
  },
  {
   "cell_type": "code",
   "execution_count": 68,
   "metadata": {},
   "outputs": [
    {
     "data": {
      "image/png": "[encoded data removed]",
      "text/plain": [
       "<Figure size 432x288 with 1 Axes>"
      ]
     },
     "metadata": {
      "needs_background": "light"
     },
     "output_type": "display_data"
    }
   ],
   "source": [
    "# x_1:\n",
    "plt.figure(1)\n",
    "plt.plot([f[0] for f in x_1], linewidth=2,label=\"caso I\")\n",
    "plt.plot([f[0] for f in x_2], linewidth=2,label=\"caso II\")\n",
    "plt.plot([f[0] for f in x_3], linewidth=2,label=\"caso III\")\n",
    "plt.plot([f[0] for f in x_4], linewidth=2,label=\"caso VI\")\n",
    "plt.legend(loc='best')\n",
    "plt.show()"
   ]
  },
  {
   "cell_type": "code",
   "execution_count": 69,
   "metadata": {},
   "outputs": [
    {
     "data": {
      "image/png": "[encoded data removed]",
      "text/plain": [
       "<Figure size 432x288 with 1 Axes>"
      ]
     },
     "metadata": {
      "needs_background": "light"
     },
     "output_type": "display_data"
    }
   ],
   "source": [
    "# x_2:\n",
    "plt.figure(1)\n",
    "plt.plot([f[1] for f in x_1], linewidth=2,label=\"caso I\")\n",
    "plt.plot([f[1] for f in x_2], linewidth=2,label=\"caso II\")\n",
    "plt.plot([f[1] for f in x_3], linewidth=2,label=\"caso III\")\n",
    "plt.plot([f[1] for f in x_4], linewidth=2,label=\"caso VI\")\n",
    "plt.legend(loc='best')\n",
    "plt.show()"
   ]
  },
  {
   "cell_type": "code",
   "execution_count": 70,
   "metadata": {},
   "outputs": [
    {
     "data": {
      "image/png": "[encoded data removed]",
      "text/plain": [
       "<Figure size 432x288 with 1 Axes>"
      ]
     },
     "metadata": {
      "needs_background": "light"
     },
     "output_type": "display_data"
    }
   ],
   "source": [
    "# u:\n",
    "plt.figure(1)\n",
    "plt.plot(u_1, linewidth=2,label=\"caso I\")\n",
    "plt.plot(u_2, linewidth=2,label=\"caso II\")\n",
    "plt.plot(u_3, linewidth=2,label=\"caso III\")\n",
    "plt.plot(u_4, linewidth=2,label=\"caso VI\")\n",
    "plt.legend(loc='best')\n",
    "plt.show()"
   ]
  },
  {
   "cell_type": "markdown",
   "metadata": {},
   "source": [
    "#### e) Implementar uma saturação para o controle"
   ]
  },
  {
   "cell_type": "code",
   "execution_count": 71,
   "metadata": {},
   "outputs": [],
   "source": [
    "# para um valor inicial x = [2 1]^T\n",
    "x_1 = [np.array([[2],[1]])]\n",
    "x_2 = [np.array([[-1],[-2]])]\n",
    "x_3 = [np.array([[0],[-1]])]\n",
    "x_4 = [np.array([[10],[0]])]\n",
    "\n",
    "# lei de controle invariante no tempo com saturação:\n",
    "u = (lambda x, u_max: F[0] @ x if abs(F[0] @ x) <= u_max \\\n",
    "                else np.sign(F[0] @ x) * u_max)\n",
    "\n",
    "for t in range(N): \n",
    "    x_1.append(A @ x_1[-1] + B @ u(x_1[-1], 8))\n",
    "    x_2.append(A @ x_2[-1] + B @ u(x_2[-1], 10))\n",
    "    x_3.append(A @ x_3[-1] + B @ u(x_3[-1], 5))\n",
    "    x_4.append(A @ x_4[-1] + B @ u(x_4[-1], 30))\n",
    "\n",
    "u_1 = [float(u(x_1[t], 10)) for t in range(200)]\n",
    "u_2 = [float(u(x_2[t], 10)) for t in range(200)]\n",
    "u_3 = [float(u(x_3[t], 5)) for t in range(200)]\n",
    "u_4 = [float(u(x_4[t], 30)) for t in range(200)]"
   ]
  },
  {
   "cell_type": "code",
   "execution_count": 72,
   "metadata": {},
   "outputs": [
    {
     "data": {
      "image/png": "[encoded data removed]",
      "text/plain": [
       "<Figure size 432x288 with 1 Axes>"
      ]
     },
     "metadata": {
      "needs_background": "light"
     },
     "output_type": "display_data"
    }
   ],
   "source": [
    "# x_1:\n",
    "plt.figure(1)\n",
    "plt.plot([f[0] for f in x_1], linewidth=2,label=\"caso I\")\n",
    "plt.plot([f[0] for f in x_2], linewidth=2,label=\"caso II\")\n",
    "plt.plot([f[0] for f in x_3], linewidth=2,label=\"caso III\")\n",
    "plt.plot([f[0] for f in x_4], linewidth=2,label=\"caso VI\")\n",
    "plt.legend(loc='best')\n",
    "plt.show()"
   ]
  },
  {
   "cell_type": "code",
   "execution_count": 73,
   "metadata": {},
   "outputs": [
    {
     "data": {
      "image/png": "[encoded data removed]",
      "text/plain": [
       "<Figure size 432x288 with 1 Axes>"
      ]
     },
     "metadata": {
      "needs_background": "light"
     },
     "output_type": "display_data"
    }
   ],
   "source": [
    "# x_2:\n",
    "plt.figure(1)\n",
    "plt.plot([f[1] for f in x_1], linewidth=2,label=\"caso I\")\n",
    "plt.plot([f[1] for f in x_2], linewidth=2,label=\"caso II\")\n",
    "plt.plot([f[1] for f in x_3], linewidth=2,label=\"caso III\")\n",
    "plt.plot([f[1] for f in x_4], linewidth=2,label=\"caso VI\")\n",
    "plt.legend(loc='best')\n",
    "plt.show()"
   ]
  },
  {
   "cell_type": "code",
   "execution_count": 74,
   "metadata": {},
   "outputs": [
    {
     "data": {
      "image/png": "[encoded data removed]",
      "text/plain": [
       "<Figure size 432x288 with 1 Axes>"
      ]
     },
     "metadata": {
      "needs_background": "light"
     },
     "output_type": "display_data"
    }
   ],
   "source": [
    "# u:\n",
    "plt.figure(1)\n",
    "plt.plot(u_1, linewidth=2,label=\"caso I\")\n",
    "plt.plot(u_2, linewidth=2,label=\"caso II\")\n",
    "plt.plot(u_3, linewidth=2,label=\"caso III\")\n",
    "plt.plot(u_4, linewidth=2,label=\"caso VI\")\n",
    "plt.legend(loc='best')\n",
    "plt.show()"
   ]
  },
  {
   "cell_type": "markdown",
   "metadata": {},
   "source": [
    "#### f) Verifique a estabilidade em malha fechada do item c)\n",
    "\n",
    "Uma vez definida a lei de controle:\n",
    "$$ x_{k+1} = Ax_k + Bu $$\n",
    "$$ x_{k+1} = Ax_k + B[F(0) x_k] $$\n",
    "$$ x_{k+1} = [A+BF(0)] x_k $$\n",
    "bastando analizarmos os autovalores da nova matriz de transferência de estados."
   ]
  },
  {
   "cell_type": "code",
   "execution_count": 75,
   "metadata": {},
   "outputs": [
    {
     "data": {
      "text/plain": [
       "array([ True,  True])"
      ]
     },
     "execution_count": 75,
     "metadata": {},
     "output_type": "execute_result"
    }
   ],
   "source": [
    "abs(np.linalg.eigvals(A + B @ F[0])) < 1"
   ]
  },
  {
   "cell_type": "markdown",
   "metadata": {},
   "source": [
    "verifica-se que os autovalores da matriz possuem módulo menor que a unidade, tornando o sistema discreto **estável**."
   ]
  },
  {
   "cell_type": "markdown",
   "metadata": {},
   "source": [
    "### Ex. 6\n",
    "Da equação de Hamilton-Jacobi-Bellman tem-se que:\n",
    "\n",
    "$$ \\frac{\\partial J^*(x(t), t)}{\\partial t} + \\mathcal{H}\\left(x(t), \\mathbf u^*\\left(x(t),\\frac{\\partial J^*}{\\partial x}, t\\right), \\frac{\\partial J^*}{\\partial x},t \\right) = 0 \\tag{1}$$"
   ]
  },
  {
   "cell_type": "markdown",
   "metadata": {},
   "source": [
    "$$ \\mathcal{H}\\left(x(t), \\mathbf u^*\\left(x(t),\\frac{\\partial J^*}{\\partial x}, t\\right), \\frac{\\partial J^*}{\\partial x},t \\right) = \\min_{u(t)}\\left\\{ \\mathcal{H}\\left(x(t), \\mathbf u\\left(x(t),\\frac{\\partial J^*}{\\partial x}, t\\right), \\frac{\\partial J^*}{\\partial x},t \\right) \\right\\}$$\n",
    "\n",
    "$$ \\mathcal{H}\\left(x(t), \\mathbf u\\left(x(t),\\frac{\\partial J^*}{\\partial x}, t\\right), \\frac{\\partial J^*}{\\partial x},t \\right) = g(x(t), u(t). t) + \\left[\\frac{\\partial J^*}{\\partial x} \\right]^T[a(x(t), u(t), t)] $$\n",
    "\n",
    "$$J^*(x(t_f), t_f) = h(x(t_f), t_f)$$"
   ]
  },
  {
   "cell_type": "code",
   "execution_count": 76,
   "metadata": {},
   "outputs": [
    {
     "name": "stdout",
     "output_type": "stream",
     "text": [
      "\u001b[H\u001b[2J"
     ]
    }
   ],
   "source": [
    "%clear\n",
    "import sympy as sp\n",
    "#sp.init_printing(use_unicode=True)\n",
    "# define-se x(t) como símbolo para evitar problemas\n",
    "# com derivação em relação a t\n",
    "t, x = sp.symbols('t x(t)')\n",
    "u = sp.Function('u')(t)\n",
    "\n",
    "J_star = sp.Function('J^*')(x,t)\n",
    "J_x = J_star.diff(x)\n",
    "\n",
    "a = -10 * x + u\n",
    "h = 0.5 * x.subs(x, sp.var('x(t_{f})')) ** 2\n",
    "g = 0.25 * x **2 + 0.5 * u ** 2\n",
    "\n",
    "H = g + J_x * a # J_x é unidimensional"
   ]
  },
  {
   "cell_type": "code",
   "execution_count": 77,
   "metadata": {},
   "outputs": [
    {
     "data": {
      "image/png": "[encoded data removed]",
      "text/latex": [
       "$\\displaystyle - 10 x(t) + u{\\left(t \\right)}$"
      ],
      "text/plain": [
       "-10⋅x(t) + u(t)"
      ]
     },
     "execution_count": 77,
     "metadata": {},
     "output_type": "execute_result"
    }
   ],
   "source": [
    "a"
   ]
  },
  {
   "cell_type": "code",
   "execution_count": 78,
   "metadata": {},
   "outputs": [
    {
     "data": {
      "image/png": "[encoded data removed]",
      "text/latex": [
       "$\\displaystyle 0.5 x(t_{f})^{2}$"
      ],
      "text/plain": [
       "            2\n",
       "0.5⋅x(t_{f}) "
      ]
     },
     "execution_count": 78,
     "metadata": {},
     "output_type": "execute_result"
    }
   ],
   "source": [
    "h"
   ]
  },
  {
   "cell_type": "code",
   "execution_count": 79,
   "metadata": {},
   "outputs": [
    {
     "data": {
      "image/png": "[encoded data removed]",
      "text/latex": [
       "$\\displaystyle 0.25 x(t)^{2} + 0.5 u^{2}{\\left(t \\right)}$"
      ],
      "text/plain": [
       "         2        2   \n",
       "0.25⋅x(t)  + 0.5⋅u (t)"
      ]
     },
     "execution_count": 79,
     "metadata": {},
     "output_type": "execute_result"
    }
   ],
   "source": [
    "g"
   ]
  },
  {
   "cell_type": "code",
   "execution_count": 80,
   "metadata": {},
   "outputs": [
    {
     "data": {
      "image/png": "[encoded data removed]",
      "text/latex": [
       "$\\displaystyle 0.25 x(t)^{2} + \\left(- 10 x(t) + u{\\left(t \\right)}\\right) \\frac{\\partial}{\\partial x(t)} \\operatorname{J^{*}}{\\left(x(t),t \\right)} + 0.5 u^{2}{\\left(t \\right)}$"
      ],
      "text/plain": [
       "         2                       ∂                         2   \n",
       "0.25⋅x(t)  + (-10⋅x(t) + u(t))⋅─────(J__*(x(t), t)) + 0.5⋅u (t)\n",
       "                               ∂x(t)                           "
      ]
     },
     "execution_count": 80,
     "metadata": {},
     "output_type": "execute_result"
    }
   ],
   "source": [
    "H # hamiltoniano"
   ]
  },
  {
   "cell_type": "code",
   "execution_count": 81,
   "metadata": {},
   "outputs": [
    {
     "data": {
      "image/png": "[encoded data removed]",
      "text/latex": [
       "$\\displaystyle 1.0 u{\\left(t \\right)} + \\frac{\\partial}{\\partial x(t)} \\operatorname{J^{*}}{\\left(x(t),t \\right)} = 0$"
      ],
      "text/plain": [
       "             ∂                     \n",
       "1.0⋅u(t) + ─────(J__*(x(t), t)) = 0\n",
       "           ∂x(t)                   "
      ]
     },
     "execution_count": 81,
     "metadata": {},
     "output_type": "execute_result"
    }
   ],
   "source": [
    "# primeira derivada em relação u(t) igual a zero\n",
    "sp.Eq(H.diff(u), 0)"
   ]
  },
  {
   "cell_type": "code",
   "execution_count": 82,
   "metadata": {},
   "outputs": [
    {
     "data": {
      "image/png": "[encoded data removed]",
      "text/latex": [
       "$\\displaystyle \\text{True}$"
      ],
      "text/plain": [
       "True"
      ]
     },
     "execution_count": 82,
     "metadata": {},
     "output_type": "execute_result"
    }
   ],
   "source": [
    "# é mínimo se a segunda derivada for positiva:\n",
    "H.diff(u, u) > 0"
   ]
  },
  {
   "cell_type": "code",
   "execution_count": 83,
   "metadata": {},
   "outputs": [
    {
     "data": {
      "image/png": "[encoded data removed]",
      "text/latex": [
       "$\\displaystyle u^{*} = - \\frac{\\partial}{\\partial x(t)} \\operatorname{J^{*}}{\\left(x(t),t \\right)}$"
      ],
      "text/plain": [
       "          ∂                 \n",
       "u__* = -─────(J__*(x(t), t))\n",
       "        ∂x(t)               "
      ]
     },
     "execution_count": 83,
     "metadata": {},
     "output_type": "execute_result"
    }
   ],
   "source": [
    "# portanto o controle ótimo é dado por\n",
    "u_star = u - H.diff(u)\n",
    "sp.Eq(sp.var('u^*'), u_star)"
   ]
  },
  {
   "cell_type": "code",
   "execution_count": 84,
   "metadata": {},
   "outputs": [
    {
     "data": {
      "image/png": "[encoded data removed]",
      "text/latex": [
       "$\\displaystyle \\operatorname{J^{*}}{\\left(x(t),t \\right)} = - \\frac{x(t)^{2} K{\\left(t \\right)}}{2}$"
      ],
      "text/plain": [
       "                     2      \n",
       "                -x(t) ⋅K(t) \n",
       "J__*(x(t), t) = ────────────\n",
       "                     2      "
      ]
     },
     "execution_count": 84,
     "metadata": {},
     "output_type": "execute_result"
    }
   ],
   "source": [
    "# assumindo uma forma para a função custo ótima como\n",
    "k = sp.Function('K')(t)\n",
    "J_k = -k * x ** 2 / 2\n",
    "sp.Eq(J_star, J_k)"
   ]
  },
  {
   "cell_type": "code",
   "execution_count": 85,
   "metadata": {},
   "outputs": [
    {
     "data": {
      "image/png": "[encoded data removed]",
      "text/latex": [
       "$\\displaystyle \\operatorname{J^{*}}{\\left(x(t_{f}),t_{f} \\right)} = - \\frac{x(t_{f})^{2} K{\\left(t_{f} \\right)}}{2}$"
      ],
      "text/plain": [
       "                               2        \n",
       "                      -x(t_{f}) ⋅K(t_f) \n",
       "J__*(x(t_{f}), t_f) = ──────────────────\n",
       "                              2         "
      ]
     },
     "execution_count": 85,
     "metadata": {},
     "output_type": "execute_result"
    }
   ],
   "source": [
    "# substituindo em t_f\n",
    "sp.Eq(J_star, J_k).subs(x, sp.var('x(t_{f})')).subs(t, sp.var('t_f'))"
   ]
  },
  {
   "cell_type": "code",
   "execution_count": 86,
   "metadata": {},
   "outputs": [
    {
     "data": {
      "image/png": "[encoded data removed]",
      "text/latex": [
       "$\\displaystyle 0.5 x(t_{f})^{2} = - \\frac{x(t_{f})^{2} K{\\left(t_{f} \\right)}}{2}$"
      ],
      "text/plain": [
       "                         2        \n",
       "            2   -x(t_{f}) ⋅K(t_f) \n",
       "0.5⋅x(t_{f})  = ──────────────────\n",
       "                        2         "
      ]
     },
     "execution_count": 86,
     "metadata": {},
     "output_type": "execute_result"
    }
   ],
   "source": [
    "sp.Eq(h, J_k).subs(x, sp.var('x(t_{f})')).subs(t, sp.var('t_f'))"
   ]
  },
  {
   "cell_type": "code",
   "execution_count": 87,
   "metadata": {},
   "outputs": [
    {
     "data": {
      "image/png": "[encoded data removed]",
      "text/latex": [
       "$\\displaystyle K{\\left(t_{f} \\right)} = -1.0$"
      ],
      "text/plain": [
       "K(t_f) = -1.0"
      ]
     },
     "execution_count": 87,
     "metadata": {},
     "output_type": "execute_result"
    }
   ],
   "source": [
    "sp.Eq(-2 * J_k, -2 *h).subs(x, sp.var('x(t_{f})')).subs(t, sp.var('t_f')).subs(sp.var('x(t_{f})'), 1)"
   ]
  },
  {
   "cell_type": "code",
   "execution_count": 88,
   "metadata": {},
   "outputs": [
    {
     "data": {
      "image/png": "[encoded data removed]",
      "text/latex": [
       "$\\displaystyle u^{*} = - \\frac{\\partial}{\\partial x(t)} \\left(- \\frac{x(t)^{2} K{\\left(t \\right)}}{2}\\right)$"
      ],
      "text/plain": [
       "             ⎛     2      ⎞\n",
       "          ∂  ⎜-x(t) ⋅K(t) ⎟\n",
       "u__* = -─────⎜────────────⎟\n",
       "        ∂x(t)⎝     2      ⎠"
      ]
     },
     "execution_count": 88,
     "metadata": {},
     "output_type": "execute_result"
    }
   ],
   "source": [
    "# a lei de controle toma a forma:\n",
    "sp.Eq(sp.var('u^*'), u_star.subs(J_star, J_k))"
   ]
  },
  {
   "cell_type": "code",
   "execution_count": 89,
   "metadata": {},
   "outputs": [
    {
     "data": {
      "image/png": "[encoded data removed]",
      "text/latex": [
       "$\\displaystyle x(t)^{2} \\left(- 0.5 K^{2}{\\left(t \\right)} + 10.0 K{\\left(t \\right)} - 0.5 \\frac{d}{d t} K{\\left(t \\right)} + 0.25\\right) = 0$"
      ],
      "text/plain": [
       "    2 ⎛       2                      d              ⎞    \n",
       "x(t) ⋅⎜- 0.5⋅K (t) + 10.0⋅K(t) - 0.5⋅──(K(t)) + 0.25⎟ = 0\n",
       "      ⎝                              dt             ⎠    "
      ]
     },
     "execution_count": 89,
     "metadata": {},
     "output_type": "execute_result"
    }
   ],
   "source": [
    "# substituindo em (1)\n",
    "hjb = J_k.diff(t)\\\n",
    "    +  H.subs(u, u_star)\\\n",
    "        .subs(J_star, J_k)\\\n",
    "        .doit()\n",
    "sp.Eq(hjb, 0).simplify()"
   ]
  },
  {
   "cell_type": "code",
   "execution_count": 90,
   "metadata": {},
   "outputs": [
    {
     "data": {
      "image/png": "[encoded data removed]",
      "text/latex": [
       "$\\displaystyle \\frac{d}{d t} K{\\left(t \\right)} = - K^{2}{\\left(t \\right)} + 20.0 K{\\left(t \\right)} + 0.5$"
      ],
      "text/plain": [
       "d             2                     \n",
       "──(K(t)) = - K (t) + 20.0⋅K(t) + 0.5\n",
       "dt                                  "
      ]
     },
     "execution_count": 90,
     "metadata": {},
     "output_type": "execute_result"
    }
   ],
   "source": [
    "eq = -2 * (hjb / x ** 2).simplify()\n",
    "sp.Eq(k.diff(t), k.diff(t) - eq)"
   ]
  },
  {
   "cell_type": "code",
   "execution_count": 91,
   "metadata": {},
   "outputs": [
    {
     "data": {
      "image/png": "[encoded data removed]",
      "text/latex": [
       "$\\displaystyle \\left[ -0.0249688278817107, \\  20.0249688278817\\right]$"
      ],
      "text/plain": [
       "[-0.0249688278817107, 20.0249688278817]"
      ]
     },
     "execution_count": 91,
     "metadata": {},
     "output_type": "execute_result"
    }
   ],
   "source": [
    "# pontos de equilíbrio:\n",
    "sp.solve(sp.Eq(k.diff(t) - eq, 0), [k])"
   ]
  },
  {
   "cell_type": "code",
   "execution_count": 92,
   "metadata": {},
   "outputs": [
    {
     "data": {
      "image/png": "[encoded data removed]",
      "text/plain": [
       "<Figure size 432x288 with 1 Axes>"
      ]
     },
     "metadata": {
      "needs_background": "light"
     },
     "output_type": "display_data"
    }
   ],
   "source": [
    "# solução numérica:\n",
    "from scipy.integrate import solve_ivp as solve\n",
    "\n",
    "def k_eq(t, k): return k ** 2 - 20 * k - 0.5\n",
    "# para t_f = 50\n",
    "sol = solve(k_eq, [0, 50], [-1], atol=1e-12, rtol=1e-13)\n",
    "\n",
    "plt.figure(1)\n",
    "plt.plot(sol.t[sol.t>2], sol.y[0][sol.t>2])\n",
    "plt.show()"
   ]
  },
  {
   "cell_type": "code",
   "execution_count": 93,
   "metadata": {},
   "outputs": [
    {
     "data": {
      "image/png": "[encoded data removed]",
      "text/latex": [
       "$\\displaystyle u(x(t)) = - 0.0249688278817107 x(t)$"
      ],
      "text/plain": [
       "u(x(t)) = -0.0249688278817107⋅x(t)"
      ]
     },
     "execution_count": 93,
     "metadata": {},
     "output_type": "execute_result"
    }
   ],
   "source": [
    "# o valor de K rapidamente converge para -0.0249688278817107\n",
    "# portanto, um controle sub-ótimo possível é\n",
    "sp.Eq(sp.var('u(x(t))'), u_star .subs(J_star, J_k)\\\n",
    "                                .subs(k, -0.0249688278817107)\\\n",
    "                                .doit())"
   ]
  },
  {
   "cell_type": "markdown",
   "metadata": {},
   "source": [
    "### Ex. 7 - 8\n"
   ]
  },
  {
   "cell_type": "code",
   "execution_count": 94,
   "metadata": {},
   "outputs": [
    {
     "name": "stdout",
     "output_type": "stream",
     "text": [
      "\u001b[H\u001b[2J"
     ]
    }
   ],
   "source": [
    "%clear\n",
    "import numpy as np\n",
    "import sympy as sp\n",
    "from scipy.integrate import solve_ivp as solve"
   ]
  },
  {
   "cell_type": "code",
   "execution_count": 95,
   "metadata": {},
   "outputs": [],
   "source": [
    "# definições Ex. 7\n",
    "A = sp.Matrix([[0.,  1.],\n",
    "              [-1.,-2.]])\n",
    "B = sp.Matrix([[0.],\n",
    "              [1.]])\n",
    "\n",
    "H = sp.Matrix([[0., 0.],\n",
    "              [0., 20.]])\n",
    "Q = sp.Matrix([[1., 0.],\n",
    "              [0., 2.]])\n",
    "R = sp.Matrix([[1]])\n",
    "\n",
    "t_f = 10"
   ]
  },
  {
   "cell_type": "code",
   "execution_count": 96,
   "metadata": {},
   "outputs": [],
   "source": [
    "# definições Ex. 8\n",
    "A = sp.Matrix([[0., 1.],\n",
    "              [-1., 2.]])\n",
    "B = sp.Matrix([[0.],\n",
    "              [1.]])\n",
    "\n",
    "H = sp.Matrix([[0., 0.],\n",
    "              [0., 20.]])\n",
    "Q = sp.Matrix([[1., 0.],\n",
    "              [0., 2.]])\n",
    "R = sp.Matrix([[1]])\n",
    "\n",
    "t_f = 10"
   ]
  },
  {
   "cell_type": "code",
   "execution_count": 97,
   "metadata": {},
   "outputs": [
    {
     "data": {
      "image/png": "[encoded data removed]",
      "text/latex": [
       "$\\displaystyle \\left[\\begin{matrix}0.0 & 1.0\\\\-1.0 & 2.0\\end{matrix}\\right]$"
      ],
      "text/plain": [
       "⎡0.0   1.0⎤\n",
       "⎢         ⎥\n",
       "⎣-1.0  2.0⎦"
      ]
     },
     "execution_count": 97,
     "metadata": {},
     "output_type": "execute_result"
    }
   ],
   "source": [
    "A"
   ]
  },
  {
   "cell_type": "code",
   "execution_count": 98,
   "metadata": {},
   "outputs": [
    {
     "data": {
      "image/png": "[encoded data removed]",
      "text/latex": [
       "$\\displaystyle \\left[\\begin{matrix}0.0\\\\1.0\\end{matrix}\\right]$"
      ],
      "text/plain": [
       "⎡0.0⎤\n",
       "⎢   ⎥\n",
       "⎣1.0⎦"
      ]
     },
     "execution_count": 98,
     "metadata": {},
     "output_type": "execute_result"
    }
   ],
   "source": [
    "B"
   ]
  },
  {
   "cell_type": "code",
   "execution_count": 99,
   "metadata": {},
   "outputs": [
    {
     "data": {
      "image/png": "[encoded data removed]",
      "text/latex": [
       "$\\displaystyle \\left[\\begin{matrix}0.0 & 0.0\\\\0.0 & 20.0\\end{matrix}\\right]$"
      ],
      "text/plain": [
       "⎡0.0  0.0 ⎤\n",
       "⎢         ⎥\n",
       "⎣0.0  20.0⎦"
      ]
     },
     "execution_count": 99,
     "metadata": {},
     "output_type": "execute_result"
    }
   ],
   "source": [
    "H"
   ]
  },
  {
   "cell_type": "code",
   "execution_count": 100,
   "metadata": {},
   "outputs": [
    {
     "data": {
      "image/png": "[encoded data removed]",
      "text/latex": [
       "$\\displaystyle \\left[\\begin{matrix}1.0 & 0.0\\\\0.0 & 2.0\\end{matrix}\\right]$"
      ],
      "text/plain": [
       "⎡1.0  0.0⎤\n",
       "⎢        ⎥\n",
       "⎣0.0  2.0⎦"
      ]
     },
     "execution_count": 100,
     "metadata": {},
     "output_type": "execute_result"
    }
   ],
   "source": [
    "Q"
   ]
  },
  {
   "cell_type": "code",
   "execution_count": 101,
   "metadata": {},
   "outputs": [
    {
     "data": {
      "image/png": "[encoded data removed]",
      "text/latex": [
       "$\\displaystyle \\left[\\begin{matrix}1\\end{matrix}\\right]$"
      ],
      "text/plain": [
       "[1]"
      ]
     },
     "execution_count": 101,
     "metadata": {},
     "output_type": "execute_result"
    }
   ],
   "source": [
    "R"
   ]
  },
  {
   "cell_type": "markdown",
   "metadata": {},
   "source": [
    "#### a) Da integração da equação de Ricatti\n",
    "\n",
    "$$u^*(t) = R^{-1}B^TK(t)x$$"
   ]
  },
  {
   "cell_type": "code",
   "execution_count": 102,
   "metadata": {},
   "outputs": [],
   "source": [
    "from sympy.abc import t\n",
    "k11, k12, k21, k22 = sp.symbols('K_{11} K_{12} K_{21} K_{22}', cls=sp.Function)\n",
    "K = sp.Matrix([[k11(t), k12(t)],\n",
    "               [k21(t), k22(t)]])"
   ]
  },
  {
   "cell_type": "code",
   "execution_count": 103,
   "metadata": {},
   "outputs": [
    {
     "data": {
      "image/png": "[encoded data removed]",
      "text/latex": [
       "$\\displaystyle \\left[\\begin{matrix}- \\frac{d}{d t} \\operatorname{K_{11}}{\\left(t \\right)}\\\\- \\frac{d}{d t} \\operatorname{K_{21}}{\\left(t \\right)}\\\\- \\frac{d}{d t} \\operatorname{K_{12}}{\\left(t \\right)}\\\\- \\frac{d}{d t} \\operatorname{K_{22}}{\\left(t \\right)}\\end{matrix}\\right] = \\left[\\begin{matrix}- 1.0 \\operatorname{K_{12}}{\\left(t \\right)} \\operatorname{K_{21}}{\\left(t \\right)} - 1.0 \\operatorname{K_{12}}{\\left(t \\right)} - 1.0 \\operatorname{K_{21}}{\\left(t \\right)} + 1.0\\\\1.0 \\operatorname{K_{11}}{\\left(t \\right)} - 1.0 \\operatorname{K_{21}}{\\left(t \\right)} \\operatorname{K_{22}}{\\left(t \\right)} + 2.0 \\operatorname{K_{21}}{\\left(t \\right)} - 1.0 \\operatorname{K_{22}}{\\left(t \\right)}\\\\1.0 \\operatorname{K_{11}}{\\left(t \\right)} - 1.0 \\operatorname{K_{12}}{\\left(t \\right)} \\operatorname{K_{22}}{\\left(t \\right)} + 2.0 \\operatorname{K_{12}}{\\left(t \\right)} - 1.0 \\operatorname{K_{22}}{\\left(t \\right)}\\\\1.0 \\operatorname{K_{12}}{\\left(t \\right)} + 1.0 \\operatorname{K_{21}}{\\left(t \\right)} - 1.0 \\operatorname{K_{22}}^{2}{\\left(t \\right)} + 4.0 \\operatorname{K_{22}}{\\left(t \\right)} + 2.0\\end{matrix}\\right]$"
      ],
      "text/plain": [
       "⎡ d            ⎤                                                              \n",
       "⎢-──(K_{11}(t))⎥                                                              \n",
       "⎢ dt           ⎥                                                              \n",
       "⎢              ⎥   ⎡    -1.0⋅K_{12}(t)⋅K_{21}(t) - 1.0⋅K_{12}(t) - 1.0⋅K_{21}(\n",
       "⎢ d            ⎥   ⎢                                                          \n",
       "⎢-──(K_{21}(t))⎥   ⎢1.0⋅K_{11}(t) - 1.0⋅K_{21}(t)⋅K_{22}(t) + 2.0⋅K_{21}(t) - \n",
       "⎢ dt           ⎥   ⎢                                                          \n",
       "⎢              ⎥ = ⎢1.0⋅K_{11}(t) - 1.0⋅K_{12}(t)⋅K_{22}(t) + 2.0⋅K_{12}(t) - \n",
       "⎢ d            ⎥   ⎢                                                          \n",
       "⎢-──(K_{12}(t))⎥   ⎢                                           2              \n",
       "⎢ dt           ⎥   ⎣ 1.0⋅K_{12}(t) + 1.0⋅K_{21}(t) - 1.0⋅K_{22} (t) + 4.0⋅K_{2\n",
       "⎢              ⎥                                                              \n",
       "⎢ d            ⎥                                                              \n",
       "⎢-──(K_{22}(t))⎥                                                              \n",
       "⎣ dt           ⎦                                                              \n",
       "\n",
       "              \n",
       "              \n",
       "              \n",
       "t) + 1.0     ⎤\n",
       "             ⎥\n",
       "1.0⋅K_{22}(t)⎥\n",
       "             ⎥\n",
       "1.0⋅K_{22}(t)⎥\n",
       "             ⎥\n",
       "             ⎥\n",
       "2}(t) + 2.0  ⎦\n",
       "              \n",
       "              \n",
       "              \n",
       "              "
      ]
     },
     "execution_count": 103,
     "metadata": {},
     "output_type": "execute_result"
    }
   ],
   "source": [
    "k_eq = (Q - K * B * R ** -1 * B.T * K + K * A + A.T * K).vec()\n",
    "sp.Eq(-K.diff(t).vec(), k_eq)"
   ]
  },
  {
   "cell_type": "markdown",
   "metadata": {},
   "source": [
    "Uma vez que a condição de contorno faz da matriz $K$ diagonal:\n",
    "$$K_{12} = K_{21}$$"
   ]
  },
  {
   "cell_type": "code",
   "execution_count": 104,
   "metadata": {},
   "outputs": [],
   "source": [
    "k_eq = k_eq.subs(k21(t), k12(t))\n",
    "k_eq.row_del(2)"
   ]
  },
  {
   "cell_type": "code",
   "execution_count": 105,
   "metadata": {},
   "outputs": [],
   "source": [
    "def eq(n, w):\n",
    "    k1, k2, k3 = w\n",
    "    dk = k_eq.subs(k11(t), k1)\\\n",
    "             .subs(k12(t), k2)\\\n",
    "             .subs(k22(t), k3)\n",
    "    \n",
    "    return [float(x) for x in dk]"
   ]
  },
  {
   "cell_type": "code",
   "execution_count": 106,
   "metadata": {},
   "outputs": [
    {
     "data": {
      "image/png": "[encoded data removed]",
      "text/plain": [
       "<Figure size 432x288 with 1 Axes>"
      ]
     },
     "metadata": {
      "needs_background": "light"
     },
     "output_type": "display_data"
    },
    {
     "data": {
      "image/png": "[encoded data removed]",
      "text/plain": [
       "<Figure size 432x288 with 1 Axes>"
      ]
     },
     "metadata": {
      "needs_background": "light"
     },
     "output_type": "display_data"
    },
    {
     "data": {
      "image/png": "[encoded data removed]",
      "text/plain": [
       "<Figure size 432x288 with 1 Axes>"
      ]
     },
     "metadata": {
      "needs_background": "light"
     },
     "output_type": "display_data"
    }
   ],
   "source": [
    "sol = solve(eq, [0, t_f], [H[0], H[1], H[3]], max_step=0.02)\n",
    "\n",
    "plt.figure(1)\n",
    "plt.plot(t_f - sol.t, sol.y[0], label=\"$\"+str(k11)+\"$\")\n",
    "plt.legend(loc='best')\n",
    "plt.figure(2)\n",
    "plt.plot(t_f - sol.t, sol.y[1], label=\"$\"+str(k12)+\", \"+str(k21)+\"$\")\n",
    "plt.legend(loc='best')\n",
    "plt.figure(3)\n",
    "plt.plot(t_f - sol.t, sol.y[2], label=\"$\"+str(k22)+\"$\")\n",
    "plt.legend(loc='best')\n",
    "plt.show()"
   ]
  },
  {
   "cell_type": "code",
   "execution_count": 107,
   "metadata": {},
   "outputs": [
    {
     "data": {
      "image/png": "[encoded data removed]",
      "text/latex": [
       "$\\displaystyle \\left[\\begin{matrix}1.0 \\operatorname{K_{21}}{\\left(t \\right)} & 1.0 \\operatorname{K_{22}}{\\left(t \\right)}\\end{matrix}\\right]$"
      ],
      "text/plain": [
       "[1.0⋅K_{21}(t)  1.0⋅K_{22}(t)]"
      ]
     },
     "execution_count": 107,
     "metadata": {},
     "output_type": "execute_result"
    }
   ],
   "source": [
    "# u^*(t) / x(t) =\n",
    "R ** -1 * B.T * K"
   ]
  },
  {
   "cell_type": "code",
   "execution_count": 108,
   "metadata": {},
   "outputs": [
    {
     "data": {
      "image/png": "[encoded data removed]",
      "text/latex": [
       "$\\displaystyle \\left[\\begin{matrix}0.41420575664369 & 4.61312170536339\\end{matrix}\\right]$"
      ],
      "text/plain": [
       "[0.41420575664369  4.61312170536339]"
      ]
     },
     "execution_count": 108,
     "metadata": {},
     "output_type": "execute_result"
    }
   ],
   "source": [
    "# t_f -> inf\n",
    "u_x = sp.Matrix([[sol.y[1][-1], sol.y[2][-1]]])\n",
    "u_x"
   ]
  },
  {
   "cell_type": "markdown",
   "metadata": {},
   "source": [
    "#### b) Da resolução das equações recursivas com $\\Delta t$ = 0,02\n",
    "\n",
    "$$\\dot x(t) = \\frac{x(t+\\Delta t) - x(t)}{\\Delta t}$$\n",
    "$$ x(t + \\Delta t) =  \\dot x(t)\\Delta t + x(t) $$\n",
    "$$ x(t + \\Delta t) =  \\left[ Ax(t) + Bu(t) \\right]\\Delta t + x(t) $$\n",
    "$$ x(t + \\Delta t) =  \\left[1 + \\Delta tA \\right] x(t) + \\Delta tBu(t) $$\n",
    "$$ J = 10x_1^2(N) + \\frac{1}{2} \\sum_{k=0}^{N-1} [x_1^2(t) + 2x_2^2(t) + u^2(t)]\\Delta t$$"
   ]
  },
  {
   "cell_type": "code",
   "execution_count": 109,
   "metadata": {},
   "outputs": [],
   "source": [
    "Dt = 0.02\n",
    "\n",
    "Ad = A * Dt + sp.ones(2)\n",
    "Bd = B * Dt\n",
    "Rd = R * Dt\n",
    "Qd = Q * Dt"
   ]
  },
  {
   "cell_type": "code",
   "execution_count": 110,
   "metadata": {},
   "outputs": [
    {
     "data": {
      "image/png": "[encoded data removed]",
      "text/latex": [
       "$\\displaystyle \\left[\\begin{matrix}1 & 1.02\\\\0.98 & 1.04\\end{matrix}\\right]$"
      ],
      "text/plain": [
       "⎡ 1    1.02⎤\n",
       "⎢          ⎥\n",
       "⎣0.98  1.04⎦"
      ]
     },
     "execution_count": 110,
     "metadata": {},
     "output_type": "execute_result"
    }
   ],
   "source": [
    "Ad"
   ]
  },
  {
   "cell_type": "code",
   "execution_count": 111,
   "metadata": {},
   "outputs": [
    {
     "data": {
      "image/png": "[encoded data removed]",
      "text/latex": [
       "$\\displaystyle \\left[\\begin{matrix}0\\\\0.02\\end{matrix}\\right]$"
      ],
      "text/plain": [
       "⎡ 0  ⎤\n",
       "⎢    ⎥\n",
       "⎣0.02⎦"
      ]
     },
     "execution_count": 111,
     "metadata": {},
     "output_type": "execute_result"
    }
   ],
   "source": [
    "Bd"
   ]
  },
  {
   "cell_type": "code",
   "execution_count": 112,
   "metadata": {},
   "outputs": [
    {
     "data": {
      "image/png": "[encoded data removed]",
      "text/latex": [
       "$\\displaystyle \\left[\\begin{matrix}0.02\\end{matrix}\\right]$"
      ],
      "text/plain": [
       "[0.02]"
      ]
     },
     "execution_count": 112,
     "metadata": {},
     "output_type": "execute_result"
    }
   ],
   "source": [
    "Rd"
   ]
  },
  {
   "cell_type": "code",
   "execution_count": 113,
   "metadata": {},
   "outputs": [
    {
     "data": {
      "image/png": "[encoded data removed]",
      "text/latex": [
       "$\\displaystyle \\left[\\begin{matrix}0.02 & 0\\\\0 & 0.04\\end{matrix}\\right]$"
      ],
      "text/plain": [
       "⎡0.02   0  ⎤\n",
       "⎢          ⎥\n",
       "⎣ 0    0.04⎦"
      ]
     },
     "execution_count": 113,
     "metadata": {},
     "output_type": "execute_result"
    }
   ],
   "source": [
    "Qd"
   ]
  },
  {
   "cell_type": "code",
   "execution_count": 114,
   "metadata": {},
   "outputs": [],
   "source": [
    "P = [H] # P(0)\n",
    "F = []\n",
    "for k in range(int(t_f / Dt)):\n",
    "    F.insert(0, # insere no começo da lista\n",
    "        -(Rd + Bd.T * P[-1] * Bd) ** -1 * Bd.T * P[-1] * Ad\n",
    "    )\n",
    "\n",
    "    V = Ad + Bd * F[0] # valor recem calculado de F\n",
    "    \n",
    "    P.append(\n",
    "        V.T * P[-1] * V + F[0].T * Rd * F[0] + Qd\n",
    "    )"
   ]
  },
  {
   "cell_type": "code",
   "execution_count": 115,
   "metadata": {},
   "outputs": [
    {
     "data": {
      "image/png": "[encoded data removed]",
      "text/latex": [
       "$\\displaystyle \\left[\\begin{matrix}-73.2576552492503 & -76.247955584399\\end{matrix}\\right]$"
      ],
      "text/plain": [
       "[-73.2576552492503  -76.247955584399]"
      ]
     },
     "execution_count": 115,
     "metadata": {},
     "output_type": "execute_result"
    }
   ],
   "source": [
    "# pata t_f -> inf:\n",
    "# u(t) / x(t) =\n",
    "F[0]"
   ]
  },
  {
   "cell_type": "code",
   "execution_count": 116,
   "metadata": {},
   "outputs": [
    {
     "data": {
      "image/png": "[encoded data removed]",
      "text/plain": [
       "<Figure size 432x288 with 1 Axes>"
      ]
     },
     "metadata": {
      "needs_background": "light"
     },
     "output_type": "display_data"
    },
    {
     "data": {
      "image/png": "[encoded data removed]",
      "text/plain": [
       "<Figure size 432x288 with 1 Axes>"
      ]
     },
     "metadata": {
      "needs_background": "light"
     },
     "output_type": "display_data"
    }
   ],
   "source": [
    "plt.figure(1)\n",
    "plt.plot(range(int(t_f / Dt)), [f[0] for f in F] , label=\"$F_1$\")\n",
    "plt.legend(loc='best')\n",
    "plt.show()\n",
    "plt.figure(2)\n",
    "plt.plot(range(int(t_f / Dt)), [f[1] for f in F] , label=\"$F_2$\")\n",
    "plt.legend(loc='best')\n",
    "plt.show()"
   ]
  },
  {
   "cell_type": "markdown",
   "metadata": {},
   "source": [
    "#### c) Implemente as ações de controle\n",
    "\n",
    "i) de a)\n",
    "$$ \\dot x = Ax + Bu$$\n",
    "\n",
    "$$ \\dot x = Ax + B[K_{12} K_{22}]x$$\n",
    "\n",
    "$$ \\dot x = (A + B[K_{12} K_{22}])x$$"
   ]
  },
  {
   "cell_type": "code",
   "execution_count": 117,
   "metadata": {},
   "outputs": [],
   "source": [
    "from scipy.signal import lsim, dlsim, StateSpace\n",
    "\n",
    "# y = [x_1 x_2 u]^T\n",
    "sys_c = StateSpace(A + B * u_x, \n",
    "                [[0],[0]], \n",
    "                [[1, 0], [0, 1], u_x], \n",
    "                [[0], [0], [0]])\n",
    "sys_d = StateSpace(Ad + Bd * F[0],\n",
    "                [[0],[0]], \n",
    "                [[1, 0], [0, 1], F[0]], \n",
    "                [[0], [0], [0]], \n",
    "                dt=Dt)\n",
    "\n",
    "x_0 = [100, 50]"
   ]
  },
  {
   "cell_type": "code",
   "execution_count": 118,
   "metadata": {},
   "outputs": [
    {
     "data": {
      "text/plain": [
       "StateSpaceContinuous(\n",
       "array([[0, 1.00000000000000],\n",
       "       [-0.585794243356310, 6.61312170536339]], dtype=object),\n",
       "array([[0],\n",
       "       [0]]),\n",
       "array([[1, 0],\n",
       "       [0, 1],\n",
       "       [0.414205756643690, 4.61312170536339]], dtype=object),\n",
       "array([[0],\n",
       "       [0],\n",
       "       [0]]),\n",
       "dt: None\n",
       ")"
      ]
     },
     "execution_count": 118,
     "metadata": {},
     "output_type": "execute_result"
    }
   ],
   "source": [
    "sys_c"
   ]
  },
  {
   "cell_type": "code",
   "execution_count": 119,
   "metadata": {},
   "outputs": [
    {
     "data": {
      "text/plain": [
       "StateSpaceDiscrete(\n",
       "array([[1, 1.02000000000000],\n",
       "       [-0.485153104985006, -0.484959111687981]], dtype=object),\n",
       "array([[0],\n",
       "       [0]]),\n",
       "array([[1, 0],\n",
       "       [0, 1],\n",
       "       [-73.2576552492503, -76.2479555843990]], dtype=object),\n",
       "array([[0],\n",
       "       [0],\n",
       "       [0]]),\n",
       "dt: 0.02\n",
       ")"
      ]
     },
     "execution_count": 119,
     "metadata": {},
     "output_type": "execute_result"
    }
   ],
   "source": [
    "sys_d"
   ]
  },
  {
   "cell_type": "code",
   "execution_count": 120,
   "metadata": {},
   "outputs": [
    {
     "data": {
      "image/png": "[encoded data removed]",
      "text/plain": [
       "<Figure size 432x288 with 1 Axes>"
      ]
     },
     "metadata": {
      "needs_background": "light"
     },
     "output_type": "display_data"
    },
    {
     "data": {
      "image/png": "[encoded data removed]",
      "text/plain": [
       "<Figure size 432x288 with 1 Axes>"
      ]
     },
     "metadata": {
      "needs_background": "light"
     },
     "output_type": "display_data"
    },
    {
     "data": {
      "image/png": "[encoded data removed]",
      "text/plain": [
       "<Figure size 432x288 with 1 Axes>"
      ]
     },
     "metadata": {
      "needs_background": "light"
     },
     "output_type": "display_data"
    }
   ],
   "source": [
    "n = np.linspace(0, 10, num=500)\n",
    "sol = lsim(sys_c, None, n, x_0)\n",
    "dsol = dlsim(sys_d, np.zeros_like(n), x0=x_0)\n",
    "\n",
    "plt.figure(1)\n",
    "plt.plot(sol[0], sol[1][:,0] , label=\"$x_1$\")\n",
    "plt.plot(sol[0], sol[1][:,1] , label=\"$x_2$\")\n",
    "plt.plot(sol[0], sol[1][:,2] , label=\"$u$\")\n",
    "plt.legend(loc='best')\n",
    "plt.show()\n",
    "plt.figure(2)\n",
    "plt.plot(dsol[0], dsol[1][:,0] , label=\"$x_1$\")\n",
    "plt.plot(dsol[0], dsol[1][:,1] , label=\"$x_2$\")\n",
    "plt.legend(loc='best')\n",
    "plt.show()\n",
    "plt.figure(3)\n",
    "plt.plot(dsol[0][dsol[0]>2], dsol[1][:,2][dsol[0]>2] , label=\"$u$\")\n",
    "plt.legend(loc='best')\n",
    "plt.show()"
   ]
  },
  {
   "cell_type": "code",
   "execution_count": 121,
   "metadata": {},
   "outputs": [
    {
     "data": {
      "text/plain": [
       "array([0.08979999, 6.52332171])"
      ]
     },
     "execution_count": 121,
     "metadata": {},
     "output_type": "execute_result"
    }
   ],
   "source": [
    "np.linalg.eigvals(np.array([[float(x) for x in y] for y in (A + B * u_x).tolist()]))"
   ]
  },
  {
   "cell_type": "markdown",
   "metadata": {},
   "source": [
    "No exercício 7 ambas abordagens contínua e discreta convergiram, enquanto que no exercício 8 apenas a abordagem discreta convergiu."
   ]
  }
 ],
 "metadata": {
  "kernelspec": {
   "display_name": "Python 3",
   "language": "python",
   "name": "python3"
  },
  "language_info": {
   "codemirror_mode": {
    "name": "ipython",
    "version": 3
   },
   "file_extension": ".py",
   "mimetype": "text/x-python",
   "name": "python",
   "nbconvert_exporter": "python",
   "pygments_lexer": "ipython3",
   "version": "3.7.3"
  }
 },
 "nbformat": 4,
 "nbformat_minor": 4
}
