{
 "cells": [
  {
   "cell_type": "markdown",
   "metadata": {},
   "source": [
    "# Lista de Exercícios 4\n",
    "## Cálculo Variacional Aplicado a Controle Ótimo\n",
    "### Ex. 1 - Determine as condições de contorno envolvidas na resolução das equações oriundas da condição necessária para o controle ótimo para os seguintes casos:"
   ]
  },
  {
   "cell_type": "markdown",
   "metadata": {},
   "source": [
    "#### 1) Problemas com tempo final definido\n",
    "Seja o modelo definido como\n",
    "$$\\dot x(t) = a(x(t), u(t), t)$$\n",
    "$$ J(u) = h(x(t_f), t_f) + \\int_{t_0}^{t_f} g(x(t),u(t),t)dt $$\n",
    "\n",
    "de posse do hamiltoniano que define o problema:\n",
    "$$ \\mathscr H(x(t), u(t), p(t), t) = g(x(t), u(t), t) + p^T(t)[a(x(t),u(t),t)]$$\n",
    "as condições necessárias para garantir a otimalidade da trajetória $u^*(t)$ (aém das condições iniciais) são:\n",
    "$$\\dot x^*(t) = \\frac{\\partial}{\\partial p(t)}\\mathscr H(x^*(t), u^*(t), p^*(t), t)$$\n",
    "$$\\dot p^*(t) = -\\frac{\\partial}{\\partial x(t)}\\mathscr H(x^*(t), u^*(t), p^*(t), t)$$\n",
    "$$0 = \\frac{\\partial}{\\partial u(t)}\\mathscr H(x^*(t), u^*(t), p^*(t), t)$$\n",
    "\n",
    "e\n",
    "\n",
    "$$ \\left[\\frac{\\partial}{\\partial x}h(x^*(t_f),  t_f) - p^*(t_f)\\right]^T\\delta x_f + \\left[ \\mathscr H (x^*(t_f), u^*(t_f), p^*(t_f), t_f)  +  \\frac{\\partial}{\\partial t}h(x^*(t_f),  t_f)\\right]\\delta t_f = 0$$\n",
    "\n",
    "Para o caso com tempo final definido, o variacional $\\delta t_f$ se torna nulo, tornando a equação anterior em\n",
    "$$ \\left[\\frac{\\partial}{\\partial x}h(x^*(t_f),  t_f) - p^*(t_f)\\right]^T\\delta x_f = 0$$\n",
    "\n",
    "Para um valor $x(t_f)$ fixo, o variacional $\\delta x(t_f)$ também é anulado, levando à condição de contorno:\n",
    "$$x^*(t_f) = x_f$$"
   ]
  },
  {
   "cell_type": "markdown",
   "metadata": {},
   "source": [
    "Se $x(t_f)$ for livre, o termo que multiplica $\\delta x_f$ deve ser nulo, ou seja\n",
    "$$ \\frac{\\partial}{\\partial x}h(x^*(t_f),  t_f) - p^*(t_f) = \\mathbf 0 $$"
   ]
  },
  {
   "cell_type": "markdown",
   "metadata": {},
   "source": [
    "Se porém, $x(t_f)$ estiver atrelado a uma restrição do tipo\n",
    "$$ m(x(t_f)) = 0 $$\n",
    "o variacional dessa função deve ser nulo, e portanto:\n",
    "$$ \\delta m(x(t_f)) = \\frac{\\partial}{\\partial x} m(x(t_f))\\delta x_f = 0$$"
   ]
  },
  {
   "cell_type": "markdown",
   "metadata": {},
   "source": [
    "#### 2) Problemas com tempo final livre"
   ]
  },
  {
   "cell_type": "markdown",
   "metadata": {},
   "source": [
    "Nesse caso $\\delta t_f$ é arbitrário, sendo necessário atender:\n",
    "$$ \\left[\\frac{\\partial}{\\partial x}h(x^*(t_f),  t_f) - p^*(t_f)\\right]^T\\delta x_f + \\left[ \\mathscr H (x^*(t_f), u^*(t_f), p^*(t_f), t_f)  +  \\frac{\\partial}{\\partial t}h(x^*(t_f),  t_f)\\right]\\delta t_f = 0$$\n"
   ]
  },
  {
   "cell_type": "markdown",
   "metadata": {},
   "source": [
    "Para o caso de $x(t_f)$ ser definido, o variacional de $x$ se torna nulo e basta garantir\n",
    "$$\\mathscr H (x^*(t_f), u^*(t_f), p^*(t_f), t_f)  +  \\frac{\\partial}{\\partial t}h(x^*(t_f),  t_f) = 0$$\n",
    "se $x(t_f)$ for livre, uma segunda condição é:\n",
    "$$\\frac{\\partial}{\\partial x}h(x^*(t_f),  t_f) - p^*(t_f) = 0$$"
   ]
  },
  {
   "cell_type": "markdown",
   "metadata": {},
   "source": [
    "se $x(t_f)$ estiver atrelado a uma restrição do tipo\n",
    "$$ m(x(t)) = 0$$\n",
    "a primeira condição continua válida, porém $\\delta x_f$ se torna dependente da relação imposta, sendo necessários\n",
    "$$\\mathscr H (x^*(t_f), u^*(t_f), p^*(t_f), t_f)  +  \\frac{\\partial}{\\partial t}h(x^*(t_f),  t_f) = 0$$\n",
    "$$ \\delta m(x(t_f)) = \\frac{\\partial}{\\partial x}m(x(t_f))\\delta x(t_f) = 0 $$\n",
    "de forma a atender\n",
    "$$ \\left[\\frac{\\partial}{\\partial x}h(x^*(t_f),  t_f) - p^*(t_f)\\right]^T\\delta x_f = 0.$$"
   ]
  },
  {
   "cell_type": "markdown",
   "metadata": {},
   "source": [
    "Se a restrição for da forma\n",
    "$$m(x(t_f), t_f) = 0$$\n",
    "o variacional da função se torna\n",
    "$$ \\delta m(x(t_f),t_f) = \\frac{\\partial}{\\partial x}m(x(t_f),t_f)\\delta x(t_f) + \\frac{\\partial}{\\partial t_f}m(x(t),t_f)\\delta t_f = 0 $$\n",
    "\n",
    "que deve ser atendido em conjunto a\n",
    "$$ \\left[\\frac{\\partial}{\\partial x}h(x^*(t_f),  t_f) - p^*(t_f)\\right]^T\\delta x_f + \\left[ \\mathscr H (x^*(t_f), u^*(t_f), p^*(t_f), t_f)  +  \\frac{\\partial}{\\partial t}h(x^*(t_f),  t_f)\\right]\\delta t_f = 0$$"
   ]
  },
  {
   "cell_type": "markdown",
   "metadata": {},
   "source": [
    "### Ex. 2 - Mostre que, para o problema do regulador linear quadrático com $x(t_f)$ livre, a matrix K(t) satisfaz a equação de Riccati\n",
    "$$\\dot K(t) = -K(t)A(t) - A^T(t)K(t) - Q(t)+K(t)B(t)R^{-1}(t)B^T(t)K(t)$$\n",
    "com condições de contorno $K(t_f) = H$. Também mostre que a matriz K(t) é simétrica. "
   ]
  },
  {
   "cell_type": "markdown",
   "metadata": {},
   "source": [
    "Seja o problema do regulador linear quadrático:\n",
    "$$\\dot x(t) = A(t)x(t) + B(t)u(t)$$\n",
    "$$J = \\frac{1}{2}x^T(t_f)Hx(t_f) + \\frac{1}{2}\\int_{t_0}^{t_f} [x^T(t)Q(t)x(t) + u^T(t)R(t)u(t)]dt $$"
   ]
  },
  {
   "cell_type": "markdown",
   "metadata": {},
   "source": [
    "usando cálculo variacional pode-se provar que\n",
    "$$\\dot p^*(t) = -Q(t)x^*(t) - A^T(t)p^*(t)$$\n",
    "$$p^*(t) = K(t)x^*(t).$$\n",
    "$$u^*(t) = -R^{-1}(t)B^T(t)p^*(t) = -R^{-1}(t)B^T(t)K(t)x^*(t)$$\n",
    "\n",
    "\n",
    "Derivando ambos os lados da equação $p^*(t) = K(t)x^*(t)$:\n",
    "$$\\dot p^*(t) = \\dot K(t)x^*(t) +  K(t)\\dot x^*(t)$$\n",
    "\n",
    "$$\\dot p^*(t) = \\dot K(t)x^*(t) +  K(t)\\left[ A(t)x(^*t) + B(t)u(t) \\right]$$\n",
    "\n",
    "$$\\dot p^*(t) = \\dot K(t)x^*(t) +  K(t)\\left[ A(t)x^*(t) - B(t)R^{-1}(t)B^T(t)K(t)x^*(t) \\right]$$\n",
    "\n",
    "$$\\dot p^*(t) = \\dot K(t)x^*(t) +  K(t)\\left[ A(t) - B(t)R^{-1}(t)B^T(t)K(t) \\right]x^*(t)$$\n",
    "\n",
    "$$\\dot p^*(t) =  \\left[ \\dot K(t) +  K(t)A(t) - K(t)B(t)R^{-1}(t)B^T(t)K(t) \\right]x^*(t)$$\n",
    "\n",
    "substituindo $\\dot p^*(t)$:\n",
    "$$-Q(t)x^*(t) - A^T(t)p^*(t) =  \\left[ \\dot K(t) +  K(t)A(t) - K(t)B(t)R^{-1}(t)B^T(t)K(t) \\right]x^*(t)$$\n",
    "\n",
    "$$\\left[ -Q(t) - A^T(t)K(t)\\right]x^*(t) =  \\left[ \\dot K(t) +  K(t)A(t) - K(t)B(t)R^{-1}(t)B^T(t)K(t) \\right]x^*(t)$$\n",
    "\n",
    "$$-Q(t) - A^T(t)K(t)=   \\dot K(t) +  K(t)A(t) - K(t)B(t)R^{-1}(t)B^T(t)K(t)$$\n",
    "\n",
    "portanto\n",
    "$$\\dot K(t) = -K(t)A(t) - A^T(t)K(t) - Q(t)+K(t)B(t)R^{-1}(t)B^T(t)K(t)$$"
   ]
  },
  {
   "cell_type": "markdown",
   "metadata": {},
   "source": [
    "Da condição de contorno:\n",
    "$$K^T(t_f) = H^T = H$$\n",
    "e da equação de Ricatti:\n",
    "$$\\dot K^T(t) = \\left[ -K(t)A(t) - A^T(t)K(t) - Q(t)+K(t)B(t)R^{-1}(t)B^T(t)K(t)\\right]^T$$\n",
    "$$\\dot K^T(t) = -K^T(t)A(t) - A^T(t)K^T(t) - Q^T(t)+ K^T(t)B(t)[R^{-1}]^T(t)B^T(t)K^T(t)$$\n",
    "\n",
    "como porém, ambas $Q(t)$ e $R(t)$ são simétricas:\n",
    "$$\\dot K^T(t) = -K^T(t)A(t) - A^T(t)K^T(t) - Q(t)+ K^T(t)B(t)R^{-1}(t)B^T(t)K^T(t)$$\n",
    "\n",
    "E uma vez que ambas $K(t)$ e $K^T(t)$ obedecem a mesma equação diferencial com a mesma condição de contorno:\n",
    "$$K(t) = K^T(t)$$\n",
    "ou seja, $K(t)$ é simétrica"
   ]
  },
  {
   "cell_type": "markdown",
   "metadata": {},
   "source": [
    "### Ex. 3 - O sistema\n",
    "$$\\dot x = \\begin{bmatrix} 0 & 1 \\\\ 2 & -1 \\end{bmatrix}x + \\begin{bmatrix} 0\\\\1 \\end{bmatrix}u(t)$$\n",
    "deve ser controlado para minimizar\n",
    "$$J(u) = \\frac{1}{2}[x(T) - 1]^T\\left[\\matrix{2 &0\\\\0&0} \\right][x(T) - 1] + \\frac{1}{2}\\int_0^T {[x(t)-1]^T\\left[ \\matrix{2 & 0\\\\0&0} \\right][x(t)-1] + 0,005u^2(t)}dt$$\n",
    "\n",
    "para $T = 15$ s e $x(T)$ livre. Os estados e controle não são limitados. Elabore um programa para resolver o problema de LTP."
   ]
  },
  {
   "cell_type": "markdown",
   "metadata": {},
   "source": [
    "O controlador ótimo é dado por\n",
    "$$u^*(t) = -R^{-1}B^Tp^*(t)$$\n",
    "tal que\n",
    "$$p^*(t) = K(t)x^*(t) + s(t)$$\n",
    "\n",
    "$K(t)$ e $s(t)$ obedecem:\n",
    "$$ -\\dot K(t) = K(t)A + A^TK(t) + Q - K(t)BR^{-1}B^TK(t)$$\n",
    "$$ -\\dot s(t) = [A^T -K(t)BR^{-1}B^T]s(t) - Qr(t) $$\n",
    "que no caso presente reduz-se a\n",
    "$$ -\\dot s(t) = [A^T -K(t)BR^{-1}B^T]s(t) - [2\\ 0]^T $$\n",
    "\n",
    "com condições de contorno\n",
    "$$ K(T) = H $$\n",
    "$$ s(T) = -Hr(T)$$"
   ]
  },
  {
   "cell_type": "code",
   "execution_count": 25,
   "metadata": {},
   "outputs": [
    {
     "data": {
      "image/png": "[encoded data removed]",
      "text/plain": [
       "<Figure size 432x288 with 1 Axes>"
      ]
     },
     "metadata": {
      "needs_background": "light"
     },
     "output_type": "display_data"
    },
    {
     "data": {
      "image/png": "[encoded data removed]",
      "text/plain": [
       "<Figure size 432x288 with 1 Axes>"
      ]
     },
     "metadata": {
      "needs_background": "light"
     },
     "output_type": "display_data"
    }
   ],
   "source": [
    "import sympy as sp\n",
    "from scipy.integrate import solve_ivp as solve\n",
    "import matplotlib.pyplot as plt\n",
    "\n",
    "T = 15\n",
    "\n",
    "A = sp.Matrix([[0,1],[2,-1]])\n",
    "B = sp.Matrix([[0],[1]])\n",
    "\n",
    "H = sp.Matrix([[2,0],[0,0]])\n",
    "Q = H\n",
    "\n",
    "R_inv = 1 / 0.005\n",
    "\n",
    "r = sp.Matrix([[1],[0]])\n",
    "\n",
    "BR_1BT = B * R_inv * B.T\n",
    "\n",
    "def eq(t, y):\n",
    "    k11, k12, k22, s1, s2 = y\n",
    "    K = sp.Matrix([[k11, k12], [k12, k22]])\n",
    "    s = sp.Matrix([[s1],[s2]])\n",
    "    \n",
    "    # -dK/dt:\n",
    "    dK = K * A + A.T * K + Q - K * BR_1BT * K\n",
    "    \n",
    "    # -ds/dt:\n",
    "    ds = (A.T - K * BR_1BT) * s - 2 * r\n",
    "    \n",
    "    return [dK[0,0], dK[0,1], dK[1,1], ds[0,0], ds[1,0]]\n",
    "\n",
    "sol = solve(eq, [0, T], [H[0,0], H[0,1], H[1,1], -H[0,0], 0])    \n",
    "\n",
    "plt.figure(1)\n",
    "plt.plot(T - sol.t, sol.y[0], label=\"$k_{11}$\")\n",
    "plt.plot(T - sol.t, sol.y[1], label=\"$k_{12}, k_{21}$\")\n",
    "plt.plot(T - sol.t, sol.y[2], label=\"$k_{22}$\")\n",
    "plt.legend(loc=\"best\")\n",
    "plt.show()\n",
    "plt.figure(2)\n",
    "plt.plot(T - sol.t, sol.y[3], label=\"$s_{1}$\")\n",
    "plt.plot(T - sol.t, sol.y[4], label=\"$s_{2}$\")\n",
    "plt.legend(loc=\"best\")\n",
    "plt.show()"
   ]
  },
  {
   "cell_type": "markdown",
   "metadata": {},
   "source": [
    "### Ex. 4 - O sistema\n",
    "$$\\dot x = \\begin{bmatrix} 0 & 1 \\\\ 2 & -1 \\end{bmatrix}x + \\begin{bmatrix} 0\\\\1 \\end{bmatrix}u(t)$$\n",
    "deve ser controlado para minimizar\n",
    "$$J(u) = \\frac{1}{2}\\int_0^T {[x(t)-0,2t]^T\\left[ \\matrix{2 & 0\\\\0&0} \\right][x(t)-1] + 0,005u^2(t)}dt$$\n",
    "\n",
    "para $T = 15$ s e $x(T)$ livre. Os estados e controle não são limitados. Elabore um programa para resolver o problema de LTP."
   ]
  },
  {
   "cell_type": "markdown",
   "metadata": {},
   "source": [
    "$K(t)$ e $s(t)$ obedecem:\n",
    "$$ -\\dot K(t) = K(t)A + A^TK(t) + Q - K(t)BR^{-1}B^TK(t)$$\n",
    "$$ -\\dot s(t) = [A^T -K(t)BR^{-1}B^T]s(t) - Qr(t) $$\n",
    "\n",
    "com condições de contorno\n",
    "$$ K(T) = H $$\n",
    "$$ s(T) = -Hr(T)$$"
   ]
  },
  {
   "cell_type": "code",
   "execution_count": 26,
   "metadata": {},
   "outputs": [
    {
     "name": "stdout",
     "output_type": "stream",
     "text": [
      "\u001b[H\u001b[2J"
     ]
    },
    {
     "data": {
      "image/png": "[encoded data removed]",
      "text/plain": [
       "<Figure size 432x288 with 1 Axes>"
      ]
     },
     "metadata": {
      "needs_background": "light"
     },
     "output_type": "display_data"
    },
    {
     "data": {
      "image/png": "[encoded data removed]",
      "text/plain": [
       "<Figure size 432x288 with 1 Axes>"
      ]
     },
     "metadata": {
      "needs_background": "light"
     },
     "output_type": "display_data"
    }
   ],
   "source": [
    "%clear\n",
    "import sympy as sp\n",
    "from scipy.integrate import solve_ivp as solve\n",
    "import matplotlib.pyplot as plt\n",
    "\n",
    "T = 15\n",
    "\n",
    "A = sp.Matrix([[0,1],[2,-1]])\n",
    "B = sp.Matrix([[0],[1]])\n",
    "\n",
    "H = sp.Matrix([[0,0],[0,0]])\n",
    "Q = sp.Matrix([[2,0],[0,0]])\n",
    "\n",
    "R_inv = 1 / 0.005\n",
    "\n",
    "BR_1BT = B * R_inv * B.T\n",
    "\n",
    "def eq(t, y):\n",
    "    k11, k12, k22, s1, s2 = y\n",
    "    K = sp.Matrix([[k11, k12], [k12, k22]])\n",
    "    s = sp.Matrix([[s1],[s2]])\n",
    "    \n",
    "    # -dK/dt:\n",
    "    dK = K * A + A.T * K + Q - K * BR_1BT * K\n",
    "    \n",
    "    # -ds/dt:\n",
    "    ds = (A.T - K * BR_1BT) * s - sp.Matrix([[0.4 * (T - t)],[0]])\n",
    "    \n",
    "    return [dK[0,0], dK[0,1], dK[1,1], ds[0,0], ds[1,0]]\n",
    "\n",
    "sol = solve(eq, [0, T], [H[0,0], H[0,1], H[1,1], -H[0,0], 0])    \n",
    "\n",
    "plt.figure(1)\n",
    "plt.plot(T - sol.t, sol.y[0], label=\"$k_{11}$\")\n",
    "plt.plot(T - sol.t, sol.y[1], label=\"$k_{12}, k_{21}$\")\n",
    "plt.plot(T - sol.t, sol.y[2], label=\"$k_{22}$\")\n",
    "plt.legend(loc=\"best\")\n",
    "plt.show()\n",
    "plt.figure(2)\n",
    "plt.plot(T - sol.t, sol.y[3], label=\"$s_{1}$\")\n",
    "plt.plot(T - sol.t, sol.y[4], label=\"$s_{2}$\")\n",
    "plt.legend(loc=\"best\")\n",
    "plt.show()"
   ]
  },
  {
   "cell_type": "code",
   "execution_count": null,
   "metadata": {},
   "outputs": [],
   "source": []
  }
 ],
 "metadata": {
  "kernelspec": {
   "display_name": "Python 3",
   "language": "python",
   "name": "python3"
  },
  "language_info": {
   "codemirror_mode": {
    "name": "ipython",
    "version": 3
   },
   "file_extension": ".py",
   "mimetype": "text/x-python",
   "name": "python",
   "nbconvert_exporter": "python",
   "pygments_lexer": "ipython3",
   "version": "3.7.3"
  }
 },
 "nbformat": 4,
 "nbformat_minor": 4
}
