{
 "cells": [
  {
   "cell_type": "markdown",
   "metadata": {},
   "source": [
    "# Lista de Exercícios 3\n",
    "## Cálculo Variacional\n",
    "\n",
    "### Ex. 1 :  Determine i variacional dos funcionais, consideranco que os pontos nos extremos das funções sejam especificados:\n",
    "\n",
    "#### a) $J(x) = \\int_{t_0}^{t_f} [x^3(t) - x^2(t)\\dot x(t)]dt$"
   ]
  },
  {
   "cell_type": "markdown",
   "metadata": {},
   "source": [
    "$$\\Delta J =\\int_{t_0}^{t_f} \\{[x(t) + \\delta x(t)]^3 - [x(t) + \\delta x(t)]^2[\\dot x(t) + \\delta \\dot x(t)]\\}dt - \\int_{t_0}^{t_f} [x^3(t) - x^2(t)\\dot x(t)]dt$$\n",
    "\n",
    "$$\\Delta J =\\int_{t_0}^{t_f} [x^3(t) + 3x^2(t)\\delta x(t) + 3 x(t)\\delta x^2(t) + \\delta x(t)^3 - x^2(t)\\dot x(t) - x^2(t)\\delta \\dot x(t) -2x(t)\\delta x(t)\\dot x(t) - 2x(t)\\delta x(t)\\delta \\dot x(t) - \\delta x^2(t)\\dot x(t) - \\delta x^2(t)\\delta \\dot x(t) - x^3(t) + x^2(t)\\dot x(t)]dt$$"
   ]
  },
  {
   "cell_type": "markdown",
   "metadata": {},
   "source": [
    "$$\\Delta J =\\int_{t_0}^{t_f} [3x^2(t)\\delta x(t) - x^2(t)\\delta \\dot x(t) -2x(t)\\delta x(t)\\dot x(t)]dt  + \\int_{t_0}^{t_f} [3 x(t)\\delta x^2(t) + \\delta x(t)^3   - 2x(t)\\delta x(t)\\delta \\dot x(t) - \\delta x^2(t)\\dot x(t) - \\delta x^2(t)\\delta \\dot x(t)]dt$$"
   ]
  },
  {
   "cell_type": "markdown",
   "metadata": {},
   "source": [
    "\\begin{align}\n",
    "&\\lim_{||\\delta x||\\to 0}g(x, \\dot x, \\delta x, \\delta \\dot x) = \\\\\n",
    "&\\quad\\lim_{||\\delta x||\\to 0} \\frac{1}{||\\delta x||}\\int_{t_0}^{t_f} [3 x(t)\\delta x^2(t) + \\delta x^3(t)  - 2x(t)\\delta x(t)\\delta \\dot x(t) - \\delta x^2(t)\\dot x(t) - \\delta x^2(t)\\delta \\dot x(t)]dt = 0\n",
    "\\end{align}"
   ]
  },
  {
   "cell_type": "markdown",
   "metadata": {},
   "source": [
    "$$\\delta J =\\int_{t_0}^{t_f} \\{ [3x^2(t) - 2x(t)\\dot x(t)]\\delta x(t) - x^2(t)\\delta \\dot x(t)\\}dt $$"
   ]
  },
  {
   "cell_type": "markdown",
   "metadata": {},
   "source": [
    "#### b) $J(x) = \\int_{t_0}^{t_f} [x_1^2(t) - x_1(t)x_2(t) + x_2^2(t) + 2\\dot x_1 \\dot x_2]dt$"
   ]
  },
  {
   "cell_type": "markdown",
   "metadata": {},
   "source": [
    "\\begin{align}\n",
    "&\\Delta J=\\int_{t_0}^{t_f} [x_1^2(t) + 2x_1(t)\\delta x_1(t) + \\delta x_1^2(t) -x_1(t)x_2(t)\\\\\n",
    "&\\qquad- x_1(t)\\delta x_2(t) - x_2(t)\\delta x_1(t) - \\delta x_1(t)\\delta x_2(t) \\\\\n",
    "&\\qquad+ x_2^2(t) + 2x_2(t)\\delta x_2(t) + \\delta x_2^2(t) + 2\\dot x_1 \\dot x_2  \\\\\n",
    "&\\qquad+ 2\\dot x_1 \\delta\\dot x_2 + 2\\dot x_2 \\delta\\dot x_1 + 2\\delta\\dot x_1 \\delta\\dot x_2 \\\\\n",
    "&\\qquad-x_1^2(t) + x_1(t)x_2(t) - x_2^2(t) - 2\\dot x_1 \\dot x_2]dt\n",
    "\\end{align}"
   ]
  },
  {
   "cell_type": "markdown",
   "metadata": {},
   "source": [
    "\\begin{align}\n",
    "&\\Delta J=\\int_{t_0}^{t_f} [2x_1(t)\\delta x_1(t) + \\delta x_1^2(t)\\\\\n",
    "&\\qquad- x_1(t)\\delta x_2(t) - x_2(t)\\delta x_1(t) \\\\\n",
    "&\\qquad- \\delta x_1(t)\\delta x_2(t) \\\\\n",
    "&\\qquad+ 2x_2(t)\\delta x_2(t) + \\delta x_2^2(t) \\\\\n",
    "&\\qquad+ 2\\dot x_1 \\delta\\dot x_2 + 2\\dot x_2 \\delta\\dot x_1 + 2\\delta\\dot x_1 \\delta\\dot x_2]dt\n",
    "\\end{align}"
   ]
  },
  {
   "cell_type": "markdown",
   "metadata": {},
   "source": [
    "\\begin{align}\n",
    "&\\Delta J=\\int_{t_0}^{t_f} [2x_1(t)\\delta x_1(t) - x_1(t)\\delta x_2(t) - x_2(t)\\delta x_1(t) \\\\\n",
    "&\\qquad+ 2x_2(t)\\delta x_2(t) + 2\\dot x_1 \\delta\\dot x_2 + 2\\dot x_2 \\delta\\dot x_1]dt \\\\\n",
    "&\\qquad+ \\int_{t_0}^{t_f} [\\delta x_1^2(t) - \\delta x_1(t)\\delta x_2(t) + \\delta x_2^2(t) \\\\\n",
    "&\\qquad+ 2\\delta\\dot x_1 \\delta\\dot x_2 ]dt\n",
    "\\end{align}"
   ]
  },
  {
   "cell_type": "markdown",
   "metadata": {},
   "source": [
    "$$\\lim_{||\\delta x||\\to 0} \\frac{1}{||\\delta \\mathbf x||}\\int_{t_0}^{t_f} [\\delta x_1^2(t) - \\delta x_1(t)\\delta x_2(t) + \\delta x_2^2(t)\n",
    "+ 2\\delta\\dot x_1 \\delta\\dot x_2 ]dt = 0$$"
   ]
  },
  {
   "cell_type": "markdown",
   "metadata": {},
   "source": [
    "$$\\delta J = \\int_{t_0}^{t_f} \\{[2x_1(t) - x_2(t)]\\delta x_1(t) + [2x_2(t) - x_1(t)]\\delta x_2(t) + 2\\dot x_1 \\delta\\dot x_2 + 2\\dot x_2 \\delta\\dot x_1]dt$$"
   ]
  },
  {
   "cell_type": "markdown",
   "metadata": {},
   "source": [
    "#### c) $J(x) = \\int_{t_0}^{t_f} e^{x(t)}dt$"
   ]
  },
  {
   "cell_type": "markdown",
   "metadata": {},
   "source": [
    "$$ \\Delta J = \\int_{t_0}^{t_f} [e^{x(t) + \\delta x(t)}-e^{x(t)}]dt$$"
   ]
  },
  {
   "cell_type": "markdown",
   "metadata": {},
   "source": [
    "$$ \\Delta J = \\int_{t_0}^{t_f} e^{x(t)}[e^{\\delta x(t)}-1]dt$$"
   ]
  },
  {
   "cell_type": "markdown",
   "metadata": {},
   "source": [
    "expandindo $e^{\\delta x(t)} -1$:\n",
    "$$ \\Delta J = \\int_{t_0}^{t_f} e^{x(t)}[1 + \\delta x(t) + \\delta x^2(t) + \\ldots -1]dt$$"
   ]
  },
  {
   "cell_type": "markdown",
   "metadata": {},
   "source": [
    "e como\n",
    "$$ \\lim_{||\\delta x(t)||\\to 0}\\Delta J = \\frac{1}{||\\delta x(t)||}\\int_{t_0}^{t_f} e^{x(t)}[\\delta x^2(t) + \\delta x^2(t) +\\ldots]dt = 0$$"
   ]
  },
  {
   "cell_type": "markdown",
   "metadata": {},
   "source": [
    "$$ \\delta J = \\int_{t_0}^{t_f} e^{x(t)}\\delta x(t)dt$$"
   ]
  },
  {
   "cell_type": "markdown",
   "metadata": {},
   "source": [
    "### Ex. 2 Determine os extremos das funções:\n",
    "#### a) $f(t) = 0,333t^3 + 1,5t^2 + 2t + 5$"
   ]
  },
  {
   "cell_type": "markdown",
   "metadata": {},
   "source": [
    "um extremo ocorre quando\n",
    "$$\\frac{d}{dt} f(t) = 0 $$\n",
    "portanto"
   ]
  },
  {
   "cell_type": "markdown",
   "metadata": {},
   "source": [
    "$$0 = t^2 + 3t + 2$$\n",
    "$t$ = -1 ou -2"
   ]
  },
  {
   "cell_type": "markdown",
   "metadata": {},
   "source": [
    "#### b) $f(t) = te^{-2t}, t\\geq 0$"
   ]
  },
  {
   "cell_type": "markdown",
   "metadata": {},
   "source": [
    "$$[1-2t]e^{-2t} = 0$$\n",
    "$e^{-2t}$ iguala a zero apenas no infinito, portanto:\n",
    "$t$ = $\\frac{1}{2}$"
   ]
  },
  {
   "cell_type": "markdown",
   "metadata": {},
   "source": [
    "#### c) $f(q) = q_1^2 + 2q_2^2 + 9q_1 - q_2 + q_1q_2 + 22$"
   ]
  },
  {
   "cell_type": "markdown",
   "metadata": {},
   "source": [
    "$$\\frac{\\partial}{\\partial \\mathbf q} f = \n",
    "\\begin{bmatrix}2q_1 + 9 + q_2 \\\\4q_2 - 1 + q_1  \n",
    "\\end{bmatrix} = \\mathbf 0$$"
   ]
  },
  {
   "cell_type": "markdown",
   "metadata": {},
   "source": [
    "$$ \\mathbf q = \\begin{bmatrix} -\\frac{37}{7} \\\\ \\frac{11}{7} \\end{bmatrix} $$"
   ]
  },
  {
   "cell_type": "markdown",
   "metadata": {},
   "source": [
    "### Ex. 3 Determine as extremais para os seguintes funcionais\n",
    "#### a) $J(x) = \\int_0^1[x^2(t) + \\dot x^2(t)]dt; x(0) = 0, x(1) = 1$"
   ]
  },
  {
   "cell_type": "markdown",
   "metadata": {},
   "source": [
    "$$\\delta J(x, \\delta x) = \\int_{t_0}^{t_f} \\left\\{2x(t) - 2\\ddot x(t) \\right\\} \\delta x(t)dt$$"
   ]
  },
  {
   "cell_type": "markdown",
   "metadata": {},
   "source": [
    "$$x(t) - \\ddot x(t) = 0$$"
   ]
  },
  {
   "cell_type": "markdown",
   "metadata": {},
   "source": [
    "se a função $x(t)$ é da forma $x^*(t) = ke^{st}$\n",
    "$$ ke^{st} - ks^2e^{st} = 0 $$\n",
    "$$ s= \\pm 1$$\n",
    "$$ x(t) = k_1e^{t} + k_2e^{-t}$$"
   ]
  },
  {
   "cell_type": "markdown",
   "metadata": {},
   "source": [
    "das condições de contorno:\n",
    "$$x(0) = 0 \\to k_2 = -k_1$$\n",
    "$$x(1) = 1 \\to k_1 = \\frac{1}{e - e^{-1}}$$\n",
    "$$x(t) = \\frac{e^t - e^{-t}}{e - e^{-1}}$$"
   ]
  },
  {
   "cell_type": "markdown",
   "metadata": {},
   "source": [
    "#### b) $J(x) = \\int_0^2[x^2(t) + 2\\dot x(t)x(t) + \\dot x^2(t)]dt; x(0) = 1; x(2) = -3$"
   ]
  },
  {
   "cell_type": "markdown",
   "metadata": {},
   "source": [
    "$$\\delta J = \\int_0^2 [ 2x(t) +2\\dot x(t) -2\\dot x(t) - 2\\ddot x(t) ]\\delta x(t)dt$$\n",
    "$$x(t) - \\ddot x(t) = 0$$\n",
    "$$ x(t) = k_1e^{t} + k_2e^{-t}$$"
   ]
  },
  {
   "cell_type": "markdown",
   "metadata": {},
   "source": [
    "das condições de contorno:\n",
    "$$x(0) = 1 \\to k_1 = 1-k_2$$\n",
    "$$x(2) = -3 \\to x(t) = \\left(1 +\\frac{3 + e^{2}}{(e^{-2} - e^{2})}\\right)e^{t} -\\frac{3 + e^{2}}{(e^{-2} - e^{2})}e^{-t} $$\n",
    "$$ x(t) = \\frac{3 + e^{-2}}{(e^{-2} - e^{2})}e^{t} -\\frac{3 + e^{2}}{(e^{-2} - e^{2})}e^{-t} $$\n"
   ]
  },
  {
   "cell_type": "markdown",
   "metadata": {},
   "source": [
    "#### c) $J(x) = \\int_0^{\\pi/2} [\\dot x_1^2(t) + \\dot x_2^2(t) + 2x_1(t)x_2(t)]dt; x_1(0) = 0, x_1(\\pi/2) =1; x_2(0)=0; x_2(\\pi/2) = 1 $"
   ]
  },
  {
   "cell_type": "markdown",
   "metadata": {},
   "source": [
    "$$ \\delta J = \\int_0^{\\pi/2} \\{ [2x_2 -2\\ddot x_1]\\delta x_1 + [2x_1 -2\\ddot x_2]\\delta x_2 \\}dt $$\n",
    "\n",
    "$$ \\begin{bmatrix} 0 & 2 \\\\ 2 & 0 \\end{bmatrix} \\mathbf{x}(t) - \\begin{bmatrix} 2 & 0 \\\\ 0 & 2 \\end{bmatrix} \\mathbf{\\ddot x}(t) = \\mathbf{0} $$\n",
    "\n",
    "$$ \\begin{bmatrix} 1/2 & 0 \\\\ 0 & 1/2 \\end{bmatrix} \\begin{bmatrix} 0 & 2 \\\\ 2 & 0 \\end{bmatrix} \\mathbf{x}(t) - \\mathbf{\\ddot x}(t) = \\mathbf{0} $$\n",
    "\n",
    "$$ \\mathbf{\\ddot x}(t) = \\begin{bmatrix} 0 & 1 \\\\ 1 & 0 \\end{bmatrix} \\mathbf{x}(t) $$\n",
    "\n",
    "para autovalores $\\lambda_1 = 1; \\lambda_2 = -1$ toma-se $x(t) = (k_1e^t + k_2e^{-t}) \\begin{bmatrix} 1 \\\\ 1 \\end{bmatrix} + (k_3e^{it} + k4e^{-it}) \\begin{bmatrix} -1 \\\\ 1 \\end{bmatrix}$. Das condições de contorno:\n",
    "\n",
    "$$ \\mathbf x(0) = \\mathbf 0 \\to \\begin{bmatrix} k_1 + k_2 - k_3 - k_4 \\\\ k_1+ k_2 + k_3 + k_4\\end{bmatrix} = \\mathbf 0 \\to k_1 = -k_2; k_3 = -k_4$$\n",
    "$$ \\mathbf x(\\pi/2) = \\begin{bmatrix} 1 \\\\ 1 \\end{bmatrix} \\to  \\begin{bmatrix} k_1(e^{\\pi/2} -e^{-\\pi/2}) - k_3(e^{i\\pi/2} -e^{-i\\pi/2})\\\\ k_1(e^{\\pi/2} -e^{-\\pi/2}) + k_3(e^{i\\pi/2} -e^{-i\\pi/2})\\end{bmatrix} = \\begin{bmatrix} 1 \\\\ 1 \\end{bmatrix} \\to \\mathbf x(t) = \\frac{e^t -e^{-t}}{e^{\\pi/2} -e^{-\\pi/2}} \\begin{bmatrix} 1 \\\\ 1 \\end{bmatrix} $$"
   ]
  },
  {
   "cell_type": "markdown",
   "metadata": {},
   "source": [
    "### Ex. 4 - Determine as extremais para os seguintes funcionais\n",
    "#### a) $J(x) = \\int_0^1[x^2(t) + \\dot x^2(t)]dt; x(0) = 0, x(1)$ = livre\n",
    "\n",
    "$$\\delta J(x, \\delta x) = 2\\dot x\\delta x(t) \\bigg|{\\matrix{1\\\\0}} +  \\int_{0}^{1} \\left\\{2x(t) - 2\\ddot x(t) \\right\\} \\delta x(t)dt = 0$$\n",
    "$$2x(t) - 2\\ddot x(t) = 0$$\n",
    "$$ x(t) = k_1e^{t} + k_2e^{-t}$$\n",
    "\n",
    "$$x(0) = 0 \\to k_1 = -k_2$$\n",
    "$$2\\dot x(1) = 0 \\to x^*(t) = 0$$\n"
   ]
  },
  {
   "cell_type": "markdown",
   "metadata": {},
   "source": [
    "#### b) $J(x) = \\int_0^2[0,5\\dot x^2(t) + x(t)\\dot x(t) + \\dot x(t) + x(t)]dt; x(0) = 0,5, x(1) = livre$\n",
    "0bs: o índice de desempenho como apresentado na lista torna muito complexa a questão (até pro wolfram), optei por adotar a versão do livro (mantendo os limites de integração) pra conseguir resolver."
   ]
  },
  {
   "cell_type": "markdown",
   "metadata": {},
   "source": [
    "$$\\delta J(x, \\delta x) = [\\dot x(t) + x(t) + 1]\\delta x(t)\\bigg|\\matrix{2\\\\0}  +\\int_0^2 [1 - \\ddot x(t)]\\delta x(t)dt = 0$$"
   ]
  },
  {
   "cell_type": "markdown",
   "metadata": {},
   "source": [
    "$$ 1 - \\ddot x(t) = 0$$\n",
    "$$ x^*(t) = \\int\\int \\ddot x(t) dt^2 = \\int (t + C) dt = 0,5t^2 + C_1 t + C_2$$\n",
    "\n",
    "$$ x(0) = C_2 = 0,5 $$\n",
    "\n",
    "$$ \\dot x(2) + x(2) + 1 = 0 $$\n",
    "$$ (2 + C_1) + (2 + 2C_1 + C_2) + 1 = 0 $$\n",
    "$$ C_1= -\\frac{11}{6} $$\n",
    "\n",
    "$$ x^*(t) = 0,5t^2 -\\frac{11}{6} + 0,5 $$\n"
   ]
  },
  {
   "cell_type": "markdown",
   "metadata": {},
   "source": [
    "#### c)$ J(x) = \\int_0^{\\pi /2}[\\dot x_1^2(t) + \\dot x_2^2(t) + 2x_1(t) x_2(t) ]dt; x_1(0) = 0, x_2(0) = 0; x_1(\\pi /2) = \\text{livre}, x_2(\\pi /2) = 1 $"
   ]
  },
  {
   "cell_type": "markdown",
   "metadata": {},
   "source": [
    "$$ \\delta J = 2\\dot x_1(t) \\bigg|\\matrix{\\pi/2\\\\0} + \\int_0^{\\pi/2} \\{ [2x_2(t) -2\\ddot x_1(t)]\\delta x_1(t) + [2x_1(t) -2\\ddot x_2(t)]\\delta x_2(t)\\}dt $$"
   ]
  },
  {
   "cell_type": "markdown",
   "metadata": {},
   "source": [
    "$$\\left[\\matrix{0 & 2\\\\2 & 0}\\right]\\mathbf x(t) - \\left[\\matrix{2 & 0\\\\0 & 2}\\right]\\mathbf{ \\ddot x}(t) = \\mathbf 0$$\n",
    "$$\\left[\\matrix{0 & 1\\\\1 & 0}\\right]\\mathbf x(t) = \\mathbf{ \\ddot x}(t)$$\n",
    "\n",
    "$$x^*(t) = (k_1e^t + k_2e^{-t}) \\begin{bmatrix} 1 \\\\ 1 \\end{bmatrix} + (k_3e^{it} + k4e^{-it}) \\begin{bmatrix} -1 \\\\ 1 \\end{bmatrix}$$"
   ]
  },
  {
   "cell_type": "markdown",
   "metadata": {},
   "source": [
    "$$x(0) = \\left[\\matrix{k_1 + k_2 -k_3 -k_4 \\\\ k_1 + k_2 +k_3 +k_4}\\right] = \\mathbf 0$$\n",
    "$$x^*(t) = k_1(e^t -e^{-t}) \\begin{bmatrix} 1 \\\\ 1 \\end{bmatrix} + k_2(e^{it} - e^{-it}) \\begin{bmatrix} -1 \\\\ 1 \\end{bmatrix}$$"
   ]
  },
  {
   "cell_type": "markdown",
   "metadata": {},
   "source": [
    "como $\\dot x_1(\\pi/2) = 0$ e $x_2(\\pi/2) = 1$\n",
    "\n",
    "$$ \\dot x(t) =  k_1(e^t + e^{-t}) \\begin{bmatrix} 1 \\\\ 1 \\end{bmatrix} + ik_2(e^{it} + e^{-it}) \\begin{bmatrix} -1 \\\\ 1 \\end{bmatrix} $$\n",
    "$$ \\dot x_1(t) = k_1(e^t + e^{-t}) - ik_2(e^{it} + e^{-it})$$\n",
    "\n",
    "$$ \\dot x_1(\\pi/2) = k_1(e^{\\pi/2} + e^{-\\pi/2}) - ik_2(e^{i\\pi/2} + e^{-i\\pi/2}) = 0$$\n",
    "$$ x_2(\\pi/2) = k_1(e^{\\pi/2} - e^{-\\pi/2}) + k_2(e^{i\\pi/2} - e^{-i\\pi/2}) = 1$$\n",
    "\n",
    "$$ k_1(e^{\\pi/2} + e^{-\\pi/2}) - i2k_2cos(\\pi/2) = 0$$\n",
    "$$ k_1(e^{\\pi/2} - e^{-\\pi/2}) + 2k_2sen(\\pi/2) = 1$$\n",
    "\n",
    "$$ k_1 = 0$$\n",
    "$$ k_2 = 0,5$$\n",
    "\n",
    "$$x^*(t) = 0,5(e^{it} - e^{-it}) \\begin{bmatrix} -1 \\\\ 1 \\end{bmatrix} $$"
   ]
  },
  {
   "cell_type": "markdown",
   "metadata": {},
   "source": [
    "### Ex. 5 - Determine uma extremal para o funcional\n",
    "$$J(x) = \\int_0^{t_f} \\sqrt{1 + \\dot x^2(t)} dt$$\n",
    "$x(0) = 2, x(t_f)$ restrito a linha $\\theta(t) = -4t + 5$"
   ]
  },
  {
   "cell_type": "markdown",
   "metadata": {},
   "source": [
    "da equação de Euler:\n",
    "$$\\frac{\\ddot x(t) - \\ddot x(t)\\dot x^2(t)[1 + \\dot x^2(t)]^{-1}}{\\sqrt{1+\\dot x^2(t)}} = 0$$\n",
    "$$\\frac{\\ddot x(t)\\{ 1 - \\dot x^2(t)[1 + \\dot x^2(t)]^{-1}\\}}{\\sqrt{1+\\dot x^2(t)}} = 0$$\n",
    "$$\\frac{\\ddot x(t)\\{ [1 + \\dot x^2(t)] - \\dot x^2(t)\\}}{[1 + \\dot x^2(t)]\\sqrt{1+\\dot x^2(t)}} = 0$$\n",
    "$$\\frac{\\ddot x(t)}{[1 + \\dot x^2(t)]\\sqrt{1+\\dot x^2(t)}} = 0$$\n",
    "\n",
    "$$\\ddot x(t) = 0$$\n",
    "$$ x^*(t) = C_1t + C_2$$\n",
    "\n",
    "a equação deve atender ainda:\n",
    "$$ \\sqrt{1 + \\dot x^2(t_f)} + \\frac{\\dot x(t_f)}{\\sqrt{1+\\dot x^2(t_f)}}[\\frac{d}{dt}\\theta(t_f) - \\dot x(t)] = 0$$\n",
    "$$ \\sqrt{1 + C_1^2} + \\frac{C_1}{\\sqrt{1+ C_1^2}}[-4 -C_1]  = 0$$\n",
    "$$ C_1 = 0,25$$\n",
    "\n",
    "da condição inicial:\n",
    "$$x(0) = 0,25(0) + C_2 = 2$$\n",
    "$$C_2 = 2$$"
   ]
  },
  {
   "cell_type": "markdown",
   "metadata": {},
   "source": [
    "### Ex. 6 - Determine as equações que devem ser resolvidas para se encontrar as constantes de integração para o funcional a seguir se as condições de contorno são:\n",
    "$$J(x)  = \\int_0^{\\pi/2} [\\dot x_1^2(t) + \\dot x_2^2(t) + 2x_1(t)x_2(t)]dt$$\n",
    "\n",
    "#### a) $x_1(0) = 0$, $x_2(0) = 0$, $t_f$ livre e $x(t_f)$ relaciona-se com $t$ da seguinte maneira:\n",
    "$$\\theta(t) = \\begin{bmatrix}5t + 3\\\\\\frac{1}{2}t^2\\end{bmatrix}$$"
   ]
  },
  {
   "cell_type": "markdown",
   "metadata": {},
   "source": [
    "o variacional da função custo para o caso de $x_f$ e $t_f$ livres e relacionados é:\n",
    "$$ \\delta J(x^*,  \\delta x(t)) = \\left\\{ g(x^*(t_f), \\dot x^*(t_f), t_f) +  \\left[ \\frac{\\partial}{\\partial \\dot x}g(x^*(t_f), \\dot x^*(t_f), t_f) \\right]^T \\left[ \\frac{d}{dt}\\theta(t_f) - \\dot x^*(t_f) \\right] \\right\\}\\delta t_f + \\int_0^{t_f} \\left\\{ g(x^*(t), \\dot x^*(t), t) - \\frac{d}{dt}\\left[ \\frac{\\partial}{\\partial \\dot x} g(x^*(t), \\dot x^*(t), t)\\right] \\right\\}^T\\delta x(t) dt$$\n",
    "\n",
    "e para que a função $x^*$ seja extremal, tanto a equação de Euler quanto a igualdade do variacional à origem devem ser atendidas:\n",
    "$$g(x^*(t), \\dot x^*(t), t) - \\frac{d}{dt}\\left[ \\frac{\\partial}{\\partial \\dot x} g(x^*(t), \\dot x^*(t), t)\\right] = 0$$\n",
    "$$\\delta J = 0 \\to \\left\\{ g(x^*(t_f), \\dot x^*(t_f), t_f) +  \\left[ \\frac{\\partial}{\\partial \\dot x}g(x^*(t_f), \\dot x^*(t_f), t_f) \\right]^T \\left[ \\frac{d}{dt}\\theta(t_f) - \\dot x^*(t_f) \\right] \\right\\}\\delta t_f = 0$$\n",
    "e uma vez que $\\delta t$ pode assumir quaquer valor:\n",
    "$$g(x^*(t_f), \\dot x^*(t_f), t_f) +  \\left[ \\frac{\\partial}{\\partial \\dot x}g(x^*(t_f), \\dot x^*(t_f), t_f) \\right]^T \\left[ \\frac{d}{dt}\\theta(t_f) - \\dot x^*(t_f) \\right] = 0$$"
   ]
  },
  {
   "cell_type": "markdown",
   "metadata": {},
   "source": [
    "portanto o sistema de equações a ser resolvido é:\n",
    "$$\\ddot x(t) = \\begin{bmatrix} 0 & 1 \\\\ 1 & 0 \\end{bmatrix} x(t)$$\n",
    "para\n",
    "$$x(0) = \\mathbf 0$$\n",
    "$$0 = \\dot x_1^2(t_f) + \\dot x_2^2(t_f) + 2x_1(t_f)x_2(t_f) -2\\mathbf{\\dot x}^T(t_f)\\left\\{ \\begin{bmatrix} 5 \\\\ t_f \\end{bmatrix} - \\mathbf{\\dot x}(t_f)\\right\\}$$"
   ]
  },
  {
   "cell_type": "markdown",
   "metadata": {},
   "source": [
    "#### b) $x_1(0) = 0, x_2(0) = 0, t_f$  livre e $x(t_f)$ deve estar na superfície $x_1(t) + 3x_2(t) + 5t = 15$\n"
   ]
  },
  {
   "cell_type": "markdown",
   "metadata": {},
   "source": [
    "Nesse segundo caso, a equação de Euler e a condição inicial devem continuar sendo atendidas. Assumindo $x^*_1, x^*_2, t_f^*$ sejam as extremais do funcional, tem-se que:\n",
    "$$ x^*_1(t_f) + 3x^*_2(t_f) + 5t_f* = 15$$\n",
    "e qualquer outra solução deve obedecer:\n",
    "$$ x^*_1(t_f) + \\delta x_1 + 3x_2^* +3\\delta x_2(t_f) + 5t_f^* + 5\\delta t_f = 15$$\n",
    "subtraindo as duas equações anteriores obtém-se a relação entre os variacionais:\n",
    "$$ \\delta x_1 + 3\\delta x_2 + 5\\delta t_f = 0$$"
   ]
  },
  {
   "cell_type": "markdown",
   "metadata": {},
   "source": [
    "nesse caso, verifica-se que ao menos dois variacionais serão independentes, sendo necessário considerar:\n",
    "$$ \\delta J(x^*,  \\delta x(t)) = \\left[ \\frac{\\partial}{\\partial \\dot x}g(x^*(t_f), \\dot x^*(t_f), t_f) \\right]^T \\delta x(t_f) + \\left\\{ g(x^*(t_f), \\dot x^*(t_f), t_f) -  \\left[ \\frac{\\partial}{\\partial \\dot x}g(x^*(t_f), \\dot x^*(t_f), t_f) \\right]^T \\dot x^*(t_f) \\right\\}\\delta t_f + \\int_0^{t_f} \\left\\{ g(x^*(t), \\dot x^*(t), t) - \\frac{d}{dt}\\left[ \\frac{\\partial}{\\partial \\dot x} g(x^*(t), \\dot x^*(t), t)\\right] \\right\\}^T\\delta x(t) dt$$"
   ]
  },
  {
   "cell_type": "markdown",
   "metadata": {},
   "source": [
    "escolhe-se portanto, um variacional dependente dos demais para expandir\n",
    "$$\\left[ \\frac{\\partial}{\\partial \\dot x}g(x^*(t_f), \\dot x^*(t_f), t_f) \\right]^T \\delta x(t_f) + \\left\\{ g(x^*(t_f), \\dot x^*(t_f), t_f) -  \\left[ \\frac{\\partial}{\\partial \\dot x}g(x^*(t_f), \\dot x^*(t_f), t_f) \\right]^T \\dot x^*(t_f) \\right\\}\\delta t_f =0$$"
   ]
  },
  {
   "cell_type": "markdown",
   "metadata": {},
   "source": [
    "de forma a obter duas equações do tipo\n",
    "$$f(x(t_f), \\dot x(t_f), t_f)\\delta y_1 + h(x(t_f), \\dot x(t_f), t_f)\\delta y_2 = 0$$\n"
   ]
  },
  {
   "cell_type": "markdown",
   "metadata": {},
   "source": [
    "e uma vez que os variacionais são arbitrários:\n",
    "$$f(x(t_f), \\dot x(t_f), t_f) = 0$$\n",
    "$$h(x(t_f), \\dot x(t_f), t_f) = 0$$"
   ]
  },
  {
   "cell_type": "markdown",
   "metadata": {},
   "source": [
    "### Ex. 7 - Determine um ponto sobre a curva $y_2 = y_1^2 -4,5$ que minimize a função $f(y_1,y_2) = y_1^2 + y_2^2$."
   ]
  },
  {
   "cell_type": "markdown",
   "metadata": {},
   "source": [
    "a função de lagrange que modela a função é\n",
    "$$f_a(y_1, y_2, p) = y_1^2 + y_2^2 + p[y_1^2 - y_2 -4,5]$$\n",
    "o extremo da função é dado quando $ df_a = 0$:\n",
    "$$df_a = \\frac{\\partial}{\\partial y_1}f_a \\Delta y_1 + \\frac{\\partial}{\\partial y_2}f_a \\Delta y_2 + \\frac{\\partial}{\\partial p}f_a \\Delta p = 0 $$\n",
    "$$[2y_1 + 2y_1p] \\Delta y_1 + [2y_2 - p] \\Delta y_2 + [y_1^2 - y_2 -4,5] \\Delta p = 0 $$"
   ]
  },
  {
   "cell_type": "markdown",
   "metadata": {},
   "source": [
    "Como qualquer solução válida anula o termo que multiplica $\\Delta p$, basta garantirmos\n",
    "$$2y_1 + 2y_1p = 0$$\n",
    "$$2y_2 - p = 0$$\n",
    "\n",
    "$$p = -1$$\n",
    "$$y_2 = -\\frac{1}{2}$$\n",
    "logo\n",
    "$$y_1^2 = 4 \\to y_1 = \\pm 2$$\n"
   ]
  },
  {
   "cell_type": "code",
   "execution_count": 1,
   "metadata": {},
   "outputs": [
    {
     "data": {
      "text/plain": [
       "<Figure size 640x480 with 1 Axes>"
      ]
     },
     "metadata": {},
     "output_type": "display_data"
    }
   ],
   "source": [
    "import matplotlib.pyplot as plt\n",
    "import numpy as np\n",
    "y_1 = np.linspace(-3, 3)\n",
    "plt.figure(1)\n",
    "plt.plot(y_1, y_1 ** 2 - 4.5, label=\"$y_2 = y_1^2 - 4,5$\")\n",
    "plt.plot(y_1, y_1 ** 2 + y_1 ** 4 - 9 * y_1 ** 2 + 4.5 ** 2, \n",
    "         label=\"$y_1^2 + y_2^2$\")\n",
    "plt.plot([-2, 2], [-0.5, -0.5], \"ko\")\n",
    "plt.legend(loc=\"best\")\n",
    "plt.show()"
   ]
  },
  {
   "cell_type": "markdown",
   "metadata": {},
   "source": [
    "### Ex. 8 Determine as condições necessárias (excluindo as condições de contorno) que devem ser satisfeitas por extremais para os funcionais:\n",
    "#### a) $J(w) = \\int_{t_0}^{t_f} [w_1^2(t) + w_1(t)w_2(t) + w_3^2(t)]dt$\n",
    "atendendo \n",
    "$$\\dot w_1(t) = w_2(t)$$ $$\\dot w_2(t) = -w_1(t) + [1 - w_1^2(t)]w_2(t) + w_3(t)$$"
   ]
  },
  {
   "cell_type": "markdown",
   "metadata": {},
   "source": [
    "o funcional aumentado:\n",
    "$$J_a(\\mathbf{w}(t), \\mathbf{\\dot w}(t), \\mathbf{p}(t)) = \\int_{t_0}^{t_f} \\left\\{ w_1^2(t) + w_1(t)w_2(t) + w_3^2(t) + \\mathbf{p}^T(t)\\begin{bmatrix} \\dot w_1(t) -w_2(t) \\\\ \\dot w_2(t) + w_1(t) - [1 - w_1^2(t)]w_2(t) - w_3(t) \\end{bmatrix}\\right\\}dt$$"
   ]
  },
  {
   "cell_type": "markdown",
   "metadata": {},
   "source": [
    "inserindo variações em $\\mathbf{w}(t), \\mathbf{\\dot w}(t), \\mathbf{p}(t)$, obtém-se\n",
    "$$\\delta J_a(\\mathbf{w}(t), \\mathbf{\\dot w}(t), \\mathbf{p}(t)) = \\int_{t_0}^{t_f} \\left\\{ \\left( \\begin{bmatrix} 2w_1(t) + w_2(t) \\\\ w_1(t) \\\\ 2w_3(t) \\end{bmatrix}^T + \\mathbf p^T(t) \\begin{bmatrix} 0 & -1 & 0 \\\\ 1 + 2w_1w_2 & w_1^2 - 1 & -1  \\end{bmatrix}\\right)\\delta \\mathbf{w}(t) + \\mathbf p^T(t) \\begin{bmatrix} 1 & 0 & 0 \\\\ 0 & 1 & 0 \\end{bmatrix}\\delta \\mathbf{\\dot w}(t) + \\begin{bmatrix} \\dot w_1(t) -w_2(t) \\\\ \\dot w_2(t) + w_1(t) - [1 - w_1^2(t)]w_2(t) - w_3(t) \\end{bmatrix}^T \\delta \\mathbf p(t) \\right\\}dt$$"
   ]
  },
  {
   "cell_type": "markdown",
   "metadata": {},
   "source": [
    "Que deve ser nulo para que as funções sejam extremais. Como qualquer solução aceitável obedece às equações diferenciais de restrição, o termo que multiplica $\\delta \\mathbf p(t)$ é sempre nulo. Intergrando por partes a parcela que contém $\\delta \\mathbf{\\dot w}(t)$ e desconsiderando a parte fora da integral:\n",
    "\n",
    "$$\\int_{t_0}^{t_f} \\left\\{  \\begin{bmatrix} 2w_1(t) + w_2(t) \\\\ w_1(t) \\\\ 2w_3(t) \\end{bmatrix}^T + \\mathbf p^T(t) \\begin{bmatrix} 0 & -1 & 0 \\\\ 1 + 2w_1w_2 & w_1^2 - 1 & -1  \\end{bmatrix} -\\frac{d}{dt}\\left( \\mathbf p^T(t) \\begin{bmatrix} 1 & 0 & 0 \\\\ 0 & 1 & 0 \\end{bmatrix} \\right) \\right\\}\\delta \\mathbf{w}(t)dt = 0$$"
   ]
  },
  {
   "cell_type": "markdown",
   "metadata": {},
   "source": [
    "As condições necessárias além das condições de contorno a serem atendidas para garantir a otimalidade são, portanto:\n",
    "$$\\begin{bmatrix} 2w_1(t) + w_2(t) \\\\ w_1(t) \\\\ 2w_3(t) \\end{bmatrix} + \\begin{bmatrix} 0 & 1 + 2w_1w_2 \\\\ -1 & w_1^2 - 1 \\\\ 0  & -1  \\end{bmatrix}\\mathbf p(t) -\\frac{d}{dt}\\left(  \\begin{bmatrix} 1 & 0 \\\\ 0 & 1 \\\\ 0& 0 \\end{bmatrix}\\mathbf p(t) \\right)  = \\mathbf 0$$"
   ]
  },
  {
   "cell_type": "markdown",
   "metadata": {},
   "source": [
    "#### b) $J(w) = \\int_{t_0}^{t_f} [\\lambda + w_3^2]dt, \\lambda > 0$\n",
    "atendendo \n",
    "$$\\dot w_1(t) = w_2(t)$$\n",
    "$$\\dot w_2(t) = w_3(t)$$"
   ]
  },
  {
   "cell_type": "markdown",
   "metadata": {},
   "source": [
    "semelhantemente ao caso anterior, as condições necessárias a serem atendidas além das condições de contorno são obtidas a partir da função aumentada:\n",
    "$$\\frac{\\partial}{\\partial w(t)} g_a - \\frac{d}{dt}\\left[ \\frac{\\partial}{\\partial \\dot w(t)} g_a \\right] = 0$$\n",
    "\n",
    "$$g_a(w(t), \\delta w(t)) = \\lambda + w_3^2(t) + \\mathbf p(t)^T \\begin{bmatrix} \\dot w_1(t) - w_2(t) \\\\ \\dot w_2(t) -w_3(t) \\end{bmatrix}$$"
   ]
  },
  {
   "cell_type": "markdown",
   "metadata": {},
   "source": [
    "portanto\n",
    "$$ \\begin{bmatrix} 0 \\\\ 0 \\\\ 2w_3(t) \\end{bmatrix} + \\begin{bmatrix} 0 & 0 \\\\ -1 & 0 \\\\ 0 & -1 \\end{bmatrix}\\mathbf p(t) - \\frac{d}{dt}\\left[ \\begin{bmatrix} 1 & 0 \\\\ 0 & 1 \\\\ 0 & 0 \\end{bmatrix}\\mathbf p(t) \\right] = 0$$"
   ]
  },
  {
   "cell_type": "markdown",
   "metadata": {},
   "source": [
    "#### c) $J(w) = \\int_{t_0}^{t_f} [\\lambda + w_3^2]dt, \\lambda > 0$\n",
    "atendendo \n",
    "$$\\dot w_1(t) = w_2(t)$$ $$\\dot w_2(t) = -w_2(t)|w_2(t)| + w_3(t)$$"
   ]
  },
  {
   "cell_type": "markdown",
   "metadata": {},
   "source": [
    "\n",
    "$$g_a(w(t), \\delta w(t)) = \\lambda + w_3^2(t) + \\mathbf p(t)^T \\begin{bmatrix} \\dot w_1(t) - w_2(t) \\\\ \\dot w_2(t) +w_2(t)|w_2(t)| -w_3(t) \\end{bmatrix}$$"
   ]
  },
  {
   "cell_type": "markdown",
   "metadata": {},
   "source": [
    "$$ \\begin{bmatrix} 0 \\\\ 0 \\\\ 2w_3(t) \\end{bmatrix} + \\begin{bmatrix} 0 & 0 \\\\ -1 & -2|w_2(t)| \\\\ 0 & -1 \\end{bmatrix}\\mathbf p(t) - \\frac{d}{dt}\\left[ \\begin{bmatrix} 1 & 0 \\\\ 0 & 1 \\\\ 0 & 0 \\end{bmatrix}\\mathbf p(t) \\right] = 0$$"
   ]
  },
  {
   "cell_type": "markdown",
   "metadata": {},
   "source": [
    "### Ex. 9 - Determine as extremais para o funcional\n",
    "$$ J(x) = \\int_0^1[\\dot x^2(t) + t^2]dt $$\n",
    "que satisfaça $x(0) = 0, x(1) = 0$ e\n",
    "$$\\int_0^1 x^2(t)dt = 2$$"
   ]
  },
  {
   "cell_type": "markdown",
   "metadata": {},
   "source": [
    "seja $\\dot z(t) = x^2(t)$ tal que \n",
    "\n",
    "$$z(0) = \\int_0^0 x^2(t)dt = 0$$\n",
    "$$z(1) = \\int_0^1 x^2(t)dt = 2$$"
   ]
  },
  {
   "cell_type": "markdown",
   "metadata": {},
   "source": [
    "podemos reescrever a condição de contorno:\n",
    "$$x(0) = 0; x(1) = 0; z(0) = 0; z(1) = 2$$\n",
    "$$\\dot z(t) = x^2(t)$$"
   ]
  },
  {
   "cell_type": "markdown",
   "metadata": {},
   "source": [
    "$$g_a(x(t), \\dot x(t), z(t), \\dot z(t), t) = \\dot x^2(t) + t^2 + \\mathbf p(t)[\\dot z(t) - x^2(t)]$$"
   ]
  },
  {
   "cell_type": "markdown",
   "metadata": {},
   "source": [
    "$$\\frac{\\partial}{\\partial x(t)} g_a - \\frac{d}{dt}\\left[ \\frac{\\partial}{\\partial \\dot x(t)} g_a \\right] = 0$$\n",
    "$$\\frac{\\partial}{\\partial z(t)} g_a - \\frac{d}{dt}\\left[ \\frac{\\partial}{\\partial \\dot z(t)} g_a \\right] = 0$$"
   ]
  },
  {
   "cell_type": "markdown",
   "metadata": {},
   "source": [
    "$$2x(t)p(t) -2\\ddot x(t)= 0$$\n",
    "$$\\dot p(t) = 0$$\n",
    "\n",
    "$$\\ddot x(t) = cx(t)$$"
   ]
  },
  {
   "cell_type": "markdown",
   "metadata": {},
   "source": [
    "fazendo $x(t) = ke^{st}$\n",
    "$$ks^2e^{st} = cke^{st}$$\n",
    "$$s^2 = c$$\n",
    "\n",
    "$$x(t) = k_1e^{\\sqrt{c}t} + k_2e^{-\\sqrt{c}t}$$"
   ]
  },
  {
   "cell_type": "markdown",
   "metadata": {},
   "source": [
    "das condições de contorno:\n",
    "$$x(0) = k_1 + k_2 = 0$$\n",
    "$$x(1) = k_1(e^{\\sqrt{c}} - e^{-\\sqrt{c}}) = 0$$\n",
    "\n",
    "como $\\int_0^1 x^2(t)dt = 2$, $x(t)$ é necessariamente diferende de zero, portanto:\n",
    "$$e^{\\sqrt{c}} - e^{-\\sqrt{c}} = 0$$\n",
    "verifica-se que que $\\sqrt{c}$ pode assumir valores complexos:\n",
    "$$e^{c_2} - e^{-c_2} = 0$$\n",
    "ou\n",
    "$$e^{ic_2} - e^{-ic_2} = 0$$\n",
    "tal que $c_2 = \\sqrt{|c|}$.\n",
    "\n",
    "Para o primeiro caso necessariamente $c = 0$, o que faria x(t) = 0; contudo isso não atenderia a condição apresentada. Portanto\n",
    "$$e^{ic_2} - e^{-ic_2} = 0 \\to sen(c_2) = 0 \\to c_2 = \\pm n\\pi, n=1, 2, \\ldots$$\n",
    "\n",
    "$$x(t) = \\pm k_1sen(n\\pi t); \\quad n=1, 2, \\ldots$$"
   ]
  },
  {
   "cell_type": "markdown",
   "metadata": {},
   "source": [
    "da condição de contorno:\n",
    "$$\\int_0^1 x^2(t)dt = 2$$\n",
    "$$\\int_0^1 k_1^2sen^2(n\\pi t)dt = 2$$\n",
    "\n",
    "$$ {k_1^2}\\left[\\frac{1}{2} + \\frac{sen(2n\\pi)}{4n\\pi}\\right] = {2}$$\n",
    "como $n$ é um número natural:\n",
    "$$ {k_1^2}\\frac{1}{2} = 2$$\n",
    "$$ k_1 = \\pm 2$$\n",
    "\n",
    "$$x^*(t) = \\pm 2sen(n\\pi t); \\quad n=1, 2, \\ldots$$"
   ]
  }
 ],
 "metadata": {
  "kernelspec": {
   "display_name": "Python 3",
   "language": "python",
   "name": "python3"
  },
  "language_info": {
   "codemirror_mode": {
    "name": "ipython",
    "version": 3
   },
   "file_extension": ".py",
   "mimetype": "text/x-python",
   "name": "python",
   "nbconvert_exporter": "python",
   "pygments_lexer": "ipython3",
   "version": "3.7.3"
  }
 },
 "nbformat": 4,
 "nbformat_minor": 4
}
