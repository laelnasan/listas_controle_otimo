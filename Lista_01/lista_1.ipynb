{
 "cells": [
  {
   "cell_type": "markdown",
   "metadata": {},
   "source": [
    "Lista de Exercícios 1\n",
    "=====================\n",
    "\n",
    "## Resumo do artigo: *Synthesis of Feedback Controls Using Optimization Theory - An Example*\n",
    "\n",
    "O artigo, publicado em 1962 por F. J. Ellert e C. W. \n",
    "Merriam, apresenta a modelagem e design de um \n",
    "controlador ótimo para o sistema de pouso de uma \n",
    "aeronave.\n",
    "O Método de Expansão Paramétrica foi utilizado para a \n",
    "síntese do controlador.\n",
    "O sistema a ser controlado é introduzido ao leitor já na \n",
    "sua forma simplificada e linearizada, desprezando a \n",
    "influência de grandezas como a velocidade horizontal ou \n",
    "translado lateral da aeronave."
   ]
  },
  {
   "cell_type": "markdown",
   "metadata": {},
   "source": [
    "### Modelo do Sistema\n",
    "\n",
    "O problema é modelado a partir da relação entre a altura da \n",
    "aeronave [$h(t)$] e o angulo de ataque do profundor (*elevator*) [$\\delta_e(t)$]:\n",
    "\\begin{equation}\n",
    "    \\label{eq:dif-eq-model}\\tag{1}\n",
    "    \\frac{d^4h(t)}{dt^4} + 2\\zeta\\omega_s\\frac{d^3h(t)}{dt^3}\n",
    "    +\\omega_s^2\\frac{d^2h(t)}{dt^2} = K_sV\\omega_s\\delta_e(t)\n",
    "\\end{equation}\n",
    "para:\n",
    " * [$\\zeta\\ $] o fator de amortecimento de curto período [0,5];\n",
    " * [$\\omega_s$] a frequência de ressonância de curto período [1 rad/s];\n",
    " * [$K_s$]  o ganho de curto período [-0,95 s\\textsuperscript{-1}]; e \n",
    " * $V\\ $]  a velocidade horizontal da aeronave, contante e igual a aproximadamente 281 km/h (256 ft/s)\n",
    "\n",
    "A equação diferencial de quarta ordem apresentada em \n",
    "\\eqref{eq:dif-eq-model} é completamente definida com um espaço\n",
    "de estados de igualmente quarta ordem. Dessa forma o conjunto \n",
    "de variáveis $h(t)$, $h'(t)$, $h''(t)$, $h'''(t)$ define \n",
    "completamente o estado do sistema.\n",
    "\n",
    "As grandezas $h(t)$ e $h'(t)$ além de associarem-se a grandezas \n",
    "físicas de grande significância, são também facilmente mensuráveis a partir de instrumentos como altimetro e variômetro respectivamente, diferentemente das duas outras.\n",
    "Por esse motivo, o autor substituiu, no espaço de estados, as derivadas de maior ordem por grandezas associadas ao ângulo de inclinação negativa do nariz da aeronave [$\\theta(t)$], por meio da equação apresentada em \\eqref{eq:eq-dif-substituicao}:\n",
    "\\begin{equation}\n",
    "    \\label{eq:eq-dif-substituicao}\\tag{2}\n",
    "    h'(t) = \\frac{V}{sT_s + 1}\\theta(t)\n",
    "\\end{equation}\n",
    "\n",
    "em que $T_s$ é uma constante de tempo do trajeto e igual a \n",
    "2,5 s. A equação \\eqref{eq:eq-dif-substituicao} é expandida para:\n",
    "$$\n",
    "    h''(t) = \\frac{V}{T_s}\\theta(t) - \\frac{h'(t)}{T_s}\n",
    "$$\n",
    "$$\n",
    "    h'''(t) = \\frac{V}{T_s}\\theta'(t) - \\frac{V}{T_s^2}\\theta(t)\n",
    "    + \\frac{h'(t)}{T_s^2}\n",
    "$$\n",
    "$$\n",
    "    h''''(t) = \\frac{V}{T_s}\\theta''(t) - \\frac{V}{T_s^2}\\theta'(t) + \\frac{V}{T_s^3}\\theta - \\frac{h'(t)}{T_s^3}\n",
    "$$\n",
    "\n",
    "O modelo do sistema de pouso da aeronave em espaço de estados é \n",
    "então obtida a partir das equações acima e da equação \n",
    "\\eqref{eq:dif-eq-model}:\n",
    "\n",
    "\\begin{equation}\n",
    "    \\dot x = Ax + Bu\n",
    "\\end{equation}\n",
    "tal que:\n",
    "\\begin{align}\n",
    "    x = \\begin{bmatrix}\n",
    "        \\theta '(t) \\\\\n",
    "        \\theta (t) \\\\\n",
    "        h'(t) \\\\\n",
    "        h(t)\n",
    "    \\end{bmatrix} \\quad A = \\begin{bmatrix}\n",
    "        a & b & c & 0 \\\\\n",
    "        1 & 0 & 0 & 0 \\\\\n",
    "        0 & d & e & 0 \\\\\n",
    "        0 & 0 & 1 & 0 \n",
    "    \\end{bmatrix} \\quad B = \\begin{bmatrix} \n",
    "        f \\\\ 0 \\\\ 0 \\\\ 0\n",
    "    \\end{bmatrix} \\quad u = \\delta_e(t) \\\\\n",
    "    a = -2\\omega_s\\zeta + \\frac{1}{T_s}; \\quad\n",
    "    b = -\\omega_s^2 + \\frac{2\\omega_s\\zeta}{T_s} - \\frac{1}{T_s^2}; \\\\\n",
    "    c = \\frac{\\omega_s^{2}}{V} - \\frac{2 \\omega_s \\zeta}{T_{s} V} \n",
    "        + \\frac{1}{T_{s}^{2} V}; \\quad\n",
    "    d = V/T_s; \\quad\n",
    "    e = -1/T_s; \\quad\n",
    "    f = K_sT_s\\omega_s^2\n",
    "\\end{align}\n",
    "\n",
    "\n",
    "### Formulação da Função de Custo\n",
    "A função custo do sistema é modelado pelo funcional\n",
    "$$\n",
    "    J = \\int_t^T e(\\sigma) d\\sigma\n",
    "$$\n",
    "tal que $e(\\sigma)$ é o erro quadrático ponderado definido por:\n",
    "\n",
    "$$\n",
    "   e(\\sigma) = [x_d(\\sigma) - x(\\sigma)]^T\\Phi(\\sigma) [x_d(\\sigma) - x(\\sigma)] + \\delta_e(\\sigma)^2;\n",
    "$$\n",
    "tal que \n",
    "$$\n",
    "\\Phi(\\sigma) = \\begin{bmatrix} \n",
    "       \\Phi_1(\\sigma) &0 &0 &0\\\\\n",
    "        0&\\Phi_2(\\sigma)&0&0 \\\\\n",
    "        0&0&\\Phi_3(\\sigma)&0 \\\\\n",
    "        0&0&0&\\Phi_4(\\sigma) \n",
    "    \\end{bmatrix} \\text{, e }\n",
    "    x_d(\\sigma) = \\begin{bmatrix} \n",
    "        \\theta'_d(\\sigma) \\\\\n",
    "        \\theta_d(\\sigma) \\\\\n",
    "        h'_d(\\sigma) \\\\\n",
    "        h_d(\\sigma) \n",
    "    \\end{bmatrix}\n",
    "$$\n",
    "sejam $\\Phi$ o vetor de coeficientes de ponderação dependentes do tempo $\\sigma$, $x_d$ a trajetória desejável para os estados do sistema durante o período de pouso, $T$ a operação de transposição da matriz. \n",
    "\n",
    "No artigo, os autores desenvolvem uma argumentação para justificar a escolha da trajetória desejada e dos coeficientes de ponderação apresentados a seguir, em termos de conforto, segurança e limites de operação da aeronave:\n",
    "$$\n",
    "x_d(\\sigma) = \\begin{bmatrix}\n",
    "   0 \\\\\n",
    "   2 \\\\\n",
    "   h_d'(\\sigma)\\\\\n",
    "   h_d(\\sigma)\n",
    "\\end{bmatrix} \\quad\n",
    "h_d(\\sigma) = \\begin{cases}\n",
    "    100e^{-\\sigma/5}, \\quad & 0\\leq \\sigma \\leq 15\\\\\n",
    "    20 - \\sigma \\quad & 15 < \\sigma \\leq 20\n",
    "\\end{cases}; \\quad\n",
    "h'_d(\\sigma) = \\begin{cases}\n",
    "    -20e^{-\\sigma/5}, \\quad & 0\\leq \\sigma \\leq 15\\\\\n",
    "    - 1 \\quad & 15 < \\sigma \\leq 20\n",
    "\\end{cases}\n",
    "$$\n",
    "$$\n",
    "   \\Phi_1(\\sigma) = \\phi_1; \\quad\n",
    "   \\Phi_{2}(\\sigma) = \\phi_{2f} i(\\sigma - 20); \\quad\n",
    "   \\Phi_3(\\sigma) = \\phi_3 d(\\sigma - 15) + \\phi_{3f}i(\\sigma - 20); \\quad\n",
    "   \\Phi_4(\\sigma) = \\phi_4 + \\phi_{4f}i(\\sigma -20)\n",
    "$$\n",
    "para $i(t)$ e $d(t)$ as funções impulso e degrau, respectivamente, e $\\phi_1, \\phi_{2f}. \\phi_3, \\phi_{3f}, \\phi_4, \\phi_{4f}$ constantes reais.\n",
    "\n",
    "### Método de Expansão Paramétrica\n",
    "\n",
    "Seja portanto a função custo definida por $J(t)$, suponha-se que exista uma trajetória de controle ótima $\\delta_e^*(t)$ que minimize a função custo para qualquer ponto de partida no espaço de estados.\n",
    "Segundo o autor, a condição necessária para que um custo mínimo $J^*[x(\\mu), \\mu]$ exista é:\n",
    "$$\n",
    " \\min_{\\delta_e(\\mu)}\\left\\{e(\\mu) + \\frac{dJ^*}{d\\mu}\\right\\} = 0 \n",
    "$$\n",
    "\n",
    "Uma vez que $J^*$ é função de duas variáveis, pode-se expandir a expressão anterior para:\n",
    "$$\n",
    "   \\min_{\\delta_e(\\mu)}\\left\\{e(\\mu) + \\frac{\\partial J^*}{\\partial \\mu} + \\sum_{n=1}^N \\frac{\\partial J^*}{\\partial x_n} \\frac{d x_n}{d \\mu}  \\right\\} = 0 \n",
    "$$\n",
    "$$\n",
    "   \\min_{\\delta_e(\\mu)}\\left\\{e(\\mu) + \\frac{\\partial J^*}{\\partial \\mu} + \\sum_{n=1}^N \\frac{\\partial J^*}{\\partial x_n} \\dot{x_n}  \\right\\} = 0 \n",
    "$$\n",
    "$$\n",
    "   \\min_{\\delta_e(\\mu)}\\left\\{e(\\mu) + \\frac{\\partial J^*}{\\partial \\mu} + \\left( \\frac{\\partial J^*}{\\partial x}\\right)^T \\dot{x}  \\right\\} = 0 \n",
    "$$\n",
    "e uma vez que o termo $\\frac{\\partial J^*}{\\partial \\mu}$ independe da variação da ação de controle $\\delta_e(\\mu)$:\n",
    "\\begin{equation}\n",
    "   \\label{eq:HJB}\\tag{3}\n",
    "   \\min_{\\delta_e(\\mu)}\\left\\{e(\\mu)  + \\left( \\frac{\\partial J^*}{\\partial x}\\right)^T \\dot{x}  \\right\\}+ \\frac{\\partial J^*}{\\partial \\mu} = 0\n",
    "\\end{equation}\n",
    "também conhecida como a equação de Hamilton-Jacobi-Bellman.\n",
    "\n",
    "A equação é satisfeita assumindo-se uma trajetória de controle ótima, ou seja, uma trajetória $\\delta_e^*(\\mu)$ que minimize a equação. O valor mínimo é obtido, no entanto, quando a derivada da equação a ser minimizada em relação a $\\delta_e$ é igual a zero:\n",
    "$$\n",
    "   \\frac{\\partial \\left[e(\\mu) + \\left( \\frac{\\partial J^*}{\\partial x}\\right)^T \\dot{x}\\right]}{\\partial \\delta_e} \\Bigg|_{\\delta_e^*} = 0\n",
    "$$\n",
    "$$\n",
    "   2\\delta_e^* + \\frac{\\partial J^*}{\\partial x_1} \\left( K_sT_s\\omega_s \\right) = 0\n",
    "$$\n",
    "\\begin{equation}\n",
    "   \\label{eq:ocontrol}\\tag{4}\n",
    "   \\delta_e^* = -\\frac{1}{2}\\frac{\\partial J^*}{\\partial x_1} \\left( K_sT_s\\omega_s^2 \\right)\n",
    "\\end{equation}\n",
    "\n",
    "Assumindo que a função custo ótima possui uma forma:\n",
    "\\begin{equation}\n",
    "   \\label{eq:ocost}\\tag{5}\n",
    "   J^* = k(\\mu) - 2\\sum_{m=1}^N k_m(\\mu)x_m(\\mu) + \\sum_{m=1}^N\\sum_{p=1}^N k_{mp}(\\mu)x_m(\\mu)x_p(\\mu)\n",
    "\\end{equation}\n",
    "tal que $k_{mp} = k_{pm}$. A equação \\eqref{eq:ocontrol} toma então a forma:\n",
    "\\begin{equation}\n",
    "   \\label{eq:ocontrol-expanded}\\tag{6}\n",
    "   \\delta_e^* = \\left(k_1(\\mu) - \\sum_{m=1}^4 k_{1m}(\\mu)x_m(\\mu) \\right)(K_sT_s\\omega_s^2)\n",
    "\\end{equation}\n",
    "e portanto os coeficientes da expansão \\eqref{eq:ocontrol} tornam-se os parâmetros da ação de controle.\n",
    "\n",
    "Substituindo-se a equações \\eqref{eq:ocontrol-expanded} e \\eqref{eq:ocost} em \\eqref{eq:HJB}, obtém-se uma equação diferencial em termos das matrizes do sistema e dos coeficientes $k_m$ e $k_{mp}$ da forma:\n",
    "$$\n",
    "    P_0 + \\sum_{m=1}^N P_mx_m(\\mu) + \\sum_{m=1}^N\\sum_{p=1}^N P_{mp}x_m(\\mu)x_p(\\mu) = 0\n",
    "$$\n",
    "que para ser garantida verdadeira para qualquer trajetória:\n",
    "$$\n",
    "   P_0 = P_m = P_{mp} = 0\n",
    "$$\n",
    "que termina por formular um sistema de $1 + N + \\frac{N(N+1)}{2}$ equações com condição de contorno\n",
    "$$\n",
    "   k(T) = k_m(T) = k_{mp}(T) = 0.\n",
    "$$\n",
    "a solução dessas equações para o período $t\\leq \\mu \\leq T$ resulta na determinação da trajetória de \n",
    "controle ótima."
   ]
  },
  {
   "cell_type": "code",
   "execution_count": 1,
   "metadata": {},
   "outputs": [],
   "source": [
    "import numpy as np\n",
    "from scipy import signal as sgn\n",
    "from scipy.integrate import solve_ivp\n",
    "from scipy.interpolate import interp1d\n",
    "import matplotlib.pyplot as plt\n",
    "\n",
    "## Definição do Modelo\n",
    "# constantes\n",
    "T_s     = 2.5   # s\n",
    "K_s     = -0.95 # s^{-1}\n",
    "omega_s = 1     # rad/s\n",
    "zeta    = 0.5   # \n",
    "V       = 256    # ft/s\n",
    "\n",
    "# matriz de transição de estados:\n",
    "a = 1 / T_s - 2 * omega_s * zeta\n",
    "b = 2 * omega_s * zeta / T_s - omega_s ** 2 \\\n",
    "    - 1 / T_s ** 2\n",
    "c = (omega_s ** 2 - 2 * omega_s * zeta / T_s \\\n",
    "    + 1 / T_s ** 2) / V\n",
    "d = V / T_s\n",
    "e = -1 / T_s\n",
    "f = K_s * T_s * omega_s ** 2\n",
    "\n",
    "A = [[a, b, c, 0.], [1., 0., 0., 0.],\n",
    "     [0., d, e, 0.], [0., 0., 1., 0.]]\n",
    "B = [[f], [0.], [0.], [0.]]\n",
    "C = [0., 0., 0., 1.]\n",
    "D = 0.0\n",
    "\n",
    "A = np.array(A)\n",
    "B = np.array(B)\n",
    "\n",
    "sys = sgn.StateSpace(A,B,C,D)\n",
    "\n",
    "# Condições de Contorno\n",
    "x0_1 = [0., -0.0625, -16., 120.]\n",
    "x0_2 = [0., -0.0781, -20., 100.] \n",
    "x0_3 = [0., -0.0938, -24., 80.] "
   ]
  },
  {
   "cell_type": "code",
   "execution_count": 2,
   "metadata": {},
   "outputs": [
    {
     "data": {
      "image/png": "[encoded data removed]",
      "text/plain": [
       "<Figure size 432x288 with 1 Axes>"
      ]
     },
     "metadata": {
      "needs_background": "light"
     },
     "output_type": "display_data"
    }
   ],
   "source": [
    "plt.figure(1)\n",
    "t = np.linspace(0, 20)\n",
    "plt.plot(t, \n",
    "    np.hstack(\n",
    "        (-20 * np.exp(-t[t <= 15] / 5),\n",
    "        -np.ones_like(t[t > 15]))),\n",
    "        'k-',linewidth=2,label=\"$h\\'_d$\")\n",
    "plt.xlabel('Tempo (s)')\n",
    "plt.ylabel('Trajetória Desejável')\n",
    "plt.legend(loc='best')\n",
    "plt.show()"
   ]
  },
  {
   "cell_type": "code",
   "execution_count": 3,
   "metadata": {},
   "outputs": [
    {
     "data": {
      "image/png": "[encoded data removed]",
      "text/plain": [
       "<Figure size 432x288 with 1 Axes>"
      ]
     },
     "metadata": {
      "needs_background": "light"
     },
     "output_type": "display_data"
    }
   ],
   "source": [
    "plt.figure(1)\n",
    "plt.plot(t, \n",
    "    np.hstack(\n",
    "        (100 * np.exp(-t[t <= 15] / 5),\n",
    "         (20 - t[t > 15]))),\n",
    "        'k-',linewidth=2,label='$h_d$')\n",
    "plt.xlabel('Tempo (s)')\n",
    "plt.ylabel('Trajetória Desejável')\n",
    "plt.legend(loc='best')\n",
    "plt.show()"
   ]
  },
  {
   "cell_type": "markdown",
   "metadata": {},
   "source": [
    "Computação das equações K\n",
    "-------------------------\n",
    "\n",
    "Para determinar os parâmetros ótimos de controle são necessários definir os casos de estudo e consequentemente os valores dos coeficientes da função custo. \n",
    "Nesse `notebook` apenas um dos casos deve ser selecionado por vez para correta computação do sistema."
   ]
  },
  {
   "cell_type": "code",
   "execution_count": 4,
   "metadata": {},
   "outputs": [],
   "source": [
    "## Caso I :\n",
    "def phi_1(n): return 0\n",
    "def phi_2(n): return 0\n",
    "def phi_3(n): return 0\n",
    "def phi_4(n): return 0.000171"
   ]
  },
  {
   "cell_type": "code",
   "execution_count": 81,
   "metadata": {},
   "outputs": [],
   "source": [
    "## Caso II :\n",
    "# [n = 20 - t]\n",
    "def phi_1(n): return 0\n",
    "def phi_2(n): return 0\n",
    "def phi_3(n): return 0\n",
    "\n",
    "# a função impulso depende do passo de \n",
    "# simulação. Portanto assume-se um passo\n",
    "# mínimo de 1e-6:\n",
    "def phi_4(n): return 1 / 1e-6 if n == 0. \\\n",
    "                else 0"
   ]
  },
  {
   "cell_type": "code",
   "execution_count": 4,
   "metadata": {},
   "outputs": [],
   "source": [
    "## Caso III :\n",
    "# [n = 20 - t]\n",
    "def phi_1(n): return 99.\n",
    "# a função impulso depende do passo de \n",
    "# simulação. Portanto assume-se um passo\n",
    "# mínimo de 1e-6:\n",
    "def phi_2(n): return 10. / 1e-6 if n == 0.\\\n",
    "                else 0.\n",
    "def phi_3(n): return 1e-4 if n != 0. \\\n",
    "                else 1e-4 + 0.01 / 1e-6\n",
    "def phi_4(n): return 5e-5 if n != 0. \\\n",
    "                else 5e-5 + 1e-3 / 1e-6"
   ]
  },
  {
   "cell_type": "code",
   "execution_count": 5,
   "metadata": {},
   "outputs": [],
   "source": [
    "def k_eq(t, w):\n",
    "    k1, k2, k3, k4, k11, k12, k13, k14, \\\n",
    "    k22, k23, k24, k33, k34, k44 = w\n",
    "\n",
    "    # p_#, d_# = phi_#, x_d#\n",
    "    p_1 = phi_1(t)\n",
    "    p_2 = phi_2(t)\n",
    "    p_3 = phi_3(t)\n",
    "    p_4 = phi_4(t)\n",
    "    d_1 = 0\n",
    "    d_2 = 2\n",
    "    d_3 = -1 if t < 5 else \\\n",
    "        -20 * np.exp(t / 5 - 4)\n",
    "    d_4 = t if t < 5 else \\\n",
    "        100 * np.exp(t / 5 - 4)\n",
    "    \n",
    "    K1  = p_1 * d_1 + a * k1 + k2 \\\n",
    "        - f ** 2 * k1 * k11\n",
    "    K2  = p_2 * d_2 + b * k1 + d * k3 \\\n",
    "        - f ** 2 * k1 * k12\n",
    "    K3  = p_3 * d_3 + c * k1 + e * k3 \\\n",
    "        + k4 - f ** 2 * k1 * k13\n",
    "    K4  = p_4 * d_4 - f ** 2 * k1 * k14\n",
    "    K11 = p_1 + 2 * a * k11 + 2 * k12 \\\n",
    "        - f ** 2 * k11 ** 2\n",
    "    K12 = a * k12 + b * k11 + k22 + d * k13 \\\n",
    "        - f ** 2 * k11 * k12\n",
    "    K13 = a * k13 + c * k11 + k23 + e * k13 \\\n",
    "        + k14 - f ** 2 * k11 * k13\n",
    "    K14 = a * k14 + k24 - f ** 2 * k11 * k14\n",
    "    K22 = p_2 + 2 * b * k12 + 2 * d * k23 \\\n",
    "        - f ** 2 * k12 ** 2\n",
    "    K23 = e * k23 + b * k13 + c * k12 \\\n",
    "        + d * k33 + k24 - f ** 2 * k12 * k13\n",
    "    K24 = b * k14 + d * k34 \\\n",
    "        - f ** 2 * k12 * k14\n",
    "    K33 = p_3 + 2 * e * k33 + 2 * c * k13 \\\n",
    "        + 2 * k34 - f ** 2 * k13 ** 2\n",
    "    K34 = e * k34 + c * k14 + k44 \\\n",
    "        - f ** 2 * k13 * k14\n",
    "    K44 = p_4 - f ** 2 * k14 ** 2\n",
    "    \n",
    "    return [K1, K2, K3, K4, K11, K12, K13,\n",
    "        K14, K22, K23, K24, K33, K34, K44]\n",
    "\n",
    "k_f = [0., 0., 0., 0., 0., 0., 0., 0., 0.,\n",
    "       0., 0., 0., 0., 0.]"
   ]
  },
  {
   "cell_type": "code",
   "execution_count": 6,
   "metadata": {},
   "outputs": [],
   "source": [
    "sol = solve_ivp(k_eq, [0, 20], k_f, \n",
    "                dense_output=True,\n",
    "                rtol=1e-6, \n",
    "                atol=1e-8,\n",
    "#                max_step=5e-4,\n",
    "                first_step = 1e-6)"
   ]
  },
  {
   "cell_type": "code",
   "execution_count": 7,
   "metadata": {},
   "outputs": [
    {
     "data": {
      "image/png": "[encoded data removed]",
      "text/plain": [
       "<Figure size 432x288 with 1 Axes>"
      ]
     },
     "metadata": {
      "needs_background": "light"
     },
     "output_type": "display_data"
    }
   ],
   "source": [
    "plt.figure(1)\n",
    "plt.plot(20-sol.t,sol.y[0],'k-.',linewidth=2,label='k1')\n",
    "\n",
    "plt.xlabel('Tempo (s)')\n",
    "plt.ylabel('Parâmetros')\n",
    "plt.legend(loc='best')\n",
    "plt.show()"
   ]
  },
  {
   "cell_type": "code",
   "execution_count": 8,
   "metadata": {},
   "outputs": [
    {
     "data": {
      "image/png": "[encoded data removed]",
      "text/plain": [
       "<Figure size 432x288 with 1 Axes>"
      ]
     },
     "metadata": {
      "needs_background": "light"
     },
     "output_type": "display_data"
    }
   ],
   "source": [
    "plt.figure(1)\n",
    "plt.plot(20-sol.t,sol.y[4],'k-',linewidth=2,label='k11')\n",
    "plt.plot(20-sol.t,sol.y[5],'k:',linewidth=2,label='k12')\n",
    "\n",
    "plt.xlabel('Tempo (s)')\n",
    "plt.ylabel('Parâmetros')\n",
    "plt.legend(loc='best')\n",
    "plt.show()"
   ]
  },
  {
   "cell_type": "code",
   "execution_count": 9,
   "metadata": {},
   "outputs": [
    {
     "data": {
      "image/png": "[encoded data removed]",
      "text/plain": [
       "<Figure size 432x288 with 1 Axes>"
      ]
     },
     "metadata": {
      "needs_background": "light"
     },
     "output_type": "display_data"
    }
   ],
   "source": [
    "plt.figure(1)\n",
    "plt.plot(20-sol.t,sol.y[6],'k--',linewidth=2,label='k13')\n",
    "plt.plot(20-sol.t,sol.y[7],'k-',linewidth=2,label='k14')\n",
    "\n",
    "plt.xlabel('Tempo (s)')\n",
    "plt.ylabel('Parâmetros')\n",
    "plt.legend(loc='best')\n",
    "plt.show()"
   ]
  },
  {
   "cell_type": "markdown",
   "metadata": {},
   "source": [
    "### Solução do Sistema em Malha Fechada\n",
    "\n",
    "Uma vez encontrados os parâmetros de controle, pode-se fazer a simulação do sistema em malha fechada:"
   ]
  },
  {
   "cell_type": "code",
   "execution_count": 10,
   "metadata": {},
   "outputs": [],
   "source": [
    "k1  = interp1d(20-sol.t, sol.y[0])\n",
    "k11 = interp1d(20-sol.t, sol.y[4])\n",
    "k12 = interp1d(20-sol.t, sol.y[5])\n",
    "k13 = interp1d(20-sol.t, sol.y[6])\n",
    "k14 = interp1d(20-sol.t, sol.y[7])\n",
    "\n",
    "def system(t, w):\n",
    "    # x' = Ax + Bu\n",
    "    # u = f[k1 - k^T * x]\n",
    "    # k = [k11, k12, k13, k14]^T\n",
    "    \n",
    "    x  = np.transpose([w])\n",
    "    k  = np.array([[k11(t), k12(t), \n",
    "                   k13(t), k14(t)]])\n",
    "    u  = f * (k1(t) - k @ x)\n",
    "    dx = A @ x + B * u\n",
    "    \n",
    "    return dx.transpose()[0]"
   ]
  },
  {
   "cell_type": "code",
   "execution_count": 11,
   "metadata": {},
   "outputs": [],
   "source": [
    "x1 = solve_ivp(system, [0., 20.], x0_1,\n",
    "                rtol=1e-6, \n",
    "                atol=1e-8)\n",
    "x2 = solve_ivp(system, [0., 20.], x0_2,\n",
    "                rtol=1e-6, \n",
    "                atol=1e-8)\n",
    "x3 = solve_ivp(system, [0., 20.], x0_3,\n",
    "                rtol=1e-6, \n",
    "                atol=1e-8)"
   ]
  },
  {
   "cell_type": "code",
   "execution_count": 12,
   "metadata": {},
   "outputs": [
    {
     "data": {
      "image/png": "[encoded data removed]",
      "text/plain": [
       "<Figure size 432x288 with 1 Axes>"
      ]
     },
     "metadata": {
      "needs_background": "light"
     },
     "output_type": "display_data"
    }
   ],
   "source": [
    "def h_d(x) : return np.hstack(\n",
    "         (100 * np.exp(-x.t[x.t <= 15] / 5),\n",
    "          (20 - x.t[x.t > 15]) ))\n",
    "\n",
    "plt.figure(1)\n",
    "plt.plot(x1.t, x1.y[3] - h_d(x1),\n",
    "         'k-',linewidth=2,label='120 ft')\n",
    "plt.plot(x2.t, x2.y[3] - h_d(x2),\n",
    "         'k--',linewidth=2,label='100 ft')\n",
    "plt.plot(x3.t, x3.y[3] - h_d(x3),\n",
    "         'k:',linewidth=2,label='80 ft')\n",
    "\n",
    "plt.xlabel('Tempo (s)')\n",
    "plt.ylabel('$h - h_d$')\n",
    "plt.legend(loc='best')\n",
    "plt.show()"
   ]
  },
  {
   "cell_type": "code",
   "execution_count": 13,
   "metadata": {},
   "outputs": [
    {
     "data": {
      "image/png": "[encoded data removed]",
      "text/plain": [
       "<Figure size 432x288 with 1 Axes>"
      ]
     },
     "metadata": {
      "needs_background": "light"
     },
     "output_type": "display_data"
    }
   ],
   "source": [
    "def dh_d(x) : return np.hstack(\n",
    "        (-20 * np.exp(-x.t[x.t <= 15] / 5),\n",
    "        -np.ones_like(x.t[x.t > 15])))\n",
    "\n",
    "plt.figure(1)\n",
    "plt.plot(x1.t,x1.y[2] - dh_d(x1),\n",
    "         'k-',linewidth=2,label='120 ft')\n",
    "plt.plot(x2.t, x2.y[2] - dh_d(x2),\n",
    "         'k--',linewidth=2,label='100 ft')\n",
    "plt.plot(x3.t, x3.y[2] - dh_d(x3),\n",
    "         'k:',linewidth=2,label='80 ft')\n",
    "\n",
    "plt.xlabel('Tempo (s)')\n",
    "plt.ylabel('$h\\' - h\\'_d$')\n",
    "plt.legend(loc='best')\n",
    "plt.show()"
   ]
  },
  {
   "cell_type": "code",
   "execution_count": 14,
   "metadata": {},
   "outputs": [
    {
     "data": {
      "image/png": "[encoded data removed]",
      "text/plain": [
       "<Figure size 432x288 with 1 Axes>"
      ]
     },
     "metadata": {
      "needs_background": "light"
     },
     "output_type": "display_data"
    }
   ],
   "source": [
    "def u(x) : \n",
    "    return f * (k1(x.t) - k11(x.t) * x.y[0] \\\n",
    "      - k12(x.t) * x.y[1] - k13(x.t) * x.y[2]\\\n",
    "      - k14(x.t) * x.y[3])\n",
    "\n",
    "plt.figure(1)\n",
    "plt.plot(x1.t, u(x1),\n",
    "         'k-',linewidth=2,label='120 ft')\n",
    "\n",
    "plt.plot(x2.t, u(x2),\n",
    "         'k--',linewidth=2,label='100 ft')\n",
    "\n",
    "plt.plot(x3.t, u(x3),\n",
    "         'k:',linewidth=2,label='80 ft')\n",
    "\n",
    "plt.xlabel('Tempo (s)')\n",
    "plt.ylabel('$\\delta_e$')\n",
    "plt.legend(loc='best')\n",
    "plt.show()"
   ]
  },
  {
   "cell_type": "markdown",
   "metadata": {},
   "source": [
    "#### Conclusões\n",
    "\n",
    "O artigo apresenta um estudo de caso simplificado de projeto de controlador ótimo para sistema de pouso de uma aeronave. O Método de Expansão de Parâmetros é utilizado.\n",
    "\n",
    "A maior parte da discussão é desenvolvida em torno da formulação da função custo e do impácto causado pela escolha dos coeficientes de ponderação. Tanto no artigo quanto na reprodução feita aqui é possível perceber que o problema de projeto do controlador se dá na escolha desses parâmetros, uma vez que as demais etapas são sintetizadas automaticamente."
   ]
  },
  {
   "cell_type": "markdown",
   "metadata": {},
   "source": [
    "### Ex 2:\n",
    "\n",
    "#### a) Escreva as equações de estado do sistema\n",
    "\n",
    "As equações que regem o sistema são:\n",
    "$$ L_f \\frac{di_f(t)}{dt} + R_fi_f + K_f \\dot{\\theta}(t) = e(t)$$\n",
    "$$ \\lambda(t) = \\ddot{\\theta}(t)I + \\dot{\\theta}(t)B + \\lambda_L(t)$$\n",
    "$$ \\lambda(t) = K_f i_f $$\n",
    "assim, é possível descrever o sistema em espaço de estados como:"
   ]
  },
  {
   "cell_type": "markdown",
   "metadata": {},
   "source": [
    "$$\\dot{x} = Ax + Bu$$\n",
    "tal que\n",
    "\\begin{align}\n",
    "    x = \\begin{bmatrix} \n",
    "        i_f\\\\ \n",
    "        \\dot{\\theta}\n",
    "    \\end{bmatrix}; \\quad\n",
    "    u = \\begin{bmatrix}\n",
    "        e(t) \\\\ \\lambda_L(t)\n",
    "    \\end{bmatrix}; \\quad\n",
    "    A = \\begin{bmatrix}\n",
    "        -\\frac{R_f}{L_f} & \n",
    "        -\\frac{K_f}{L_f}\\\\\n",
    "        \\frac{K_f}{I} & \n",
    "        -\\frac{B}{I}\n",
    "    \\end{bmatrix}; \\quad\n",
    "    B = \\begin{bmatrix}\n",
    "        \\frac{1}{L_f} & 0 \\\\\n",
    "        0 & -\\frac{1}{I}\n",
    "    \\end{bmatrix}\n",
    "\\end{align}"
   ]
  },
  {
   "cell_type": "markdown",
   "metadata": {},
   "source": [
    "#### b) Determinar um conjunto de restrições fisicamente razoáveis para os estados e controle\n",
    "\n",
    "As restrições mais óbvias são os limites de operação da fonte regulada de tensão contínua. Considerando uma fonte chaveada é razoável admitir limites mínimo e máximo de tensão tais que:\n",
    "$$ 0 < V_{min} \\leq e(t) \\leq V_{max} $$\n",
    "limites máximos de corrente podem ser estipulados como\n",
    "$$ 0 < i_f(t) < I_{max} $$\n",
    "\n",
    "Quanto à parte mecânica do sistema, podemos considerar que o movimento e a carga são limitadas a um único sentido e limitados por um valor máximo:\n",
    "$$ 0 \\leq \\dot{\\theta}(t) < \\dot{\\theta}_{max} $$\n",
    "$$ 0 \\leq \\lambda_L(t) < \\lambda_{max} $$"
   ]
  },
  {
   "cell_type": "markdown",
   "metadata": {},
   "source": [
    "#### c) Sugira um índice de desempenho se\n",
    "#### i) $L_f = 0$\n",
    "\n",
    "Se a indutância é nula, a corrente se comportará de forma estática, formando um novo espaço de estados unidimensional:\n",
    "\n",
    "\\begin{align}\n",
    "x = \\dot{\\theta}(t); \\quad \n",
    "u = \\begin{bmatrix}\n",
    "        e(t) \\\\ \\lambda_L(t)\n",
    "    \\end{bmatrix}; \\quad\n",
    "A = -\\frac{B}{I} - \\frac{K_f^2}{R_fI}; \\quad\n",
    "B = \\begin{bmatrix}\n",
    "        \\frac{K_f}{R_fI} & -\\frac{1}{I}\n",
    "    \\end{bmatrix}\n",
    "\\end{align}\n",
    "\n",
    "Dessa forma, a única variável de interesse a ser considerada é a velocidade angular do rotor que deve ser a mais próxima possível da velocidade desejada ($\\alpha\\times$5 rad/s) onde $\\alpha$ é uma constante de transformação dada as características físicas do veículo.\n",
    "\n",
    "Uma vez que a única variável que pode ser controlada para diminuir o esforço da fonte é o próprio sinal de controle $e(t)$, pode-se definir uma função custo de operação para um período de tempo $[t, t_f]$ como a seguir:\n",
    "\n",
    "$$ J = \\int_t^{t_f} [q_{\\theta}(\\dot{\\theta}(\\tau) - 5\\alpha)^2 + re(\\tau)] d\\tau $$\n",
    "para $r$ e $q_\\theta$ coeficientes de ponderação da função custo.\n",
    "\n",
    "#### ii) $L_f \\neq 0$\n",
    "\n",
    "Com a presença da corrente como uma variável de estado, é de interesse que essa seja \n",
    "a menor possível a fim de reduzir a potência, e principalmente aumentar a vida útil da bateria. Dessa forma modela-se uma função custo como:\n",
    "\n",
    "$$ J = \\int_t^{t_f} [q_i(i_f(\\tau) - 0)^2 + q_{\\theta}(\\dot{\\theta}(\\tau) - 5\\alpha)^2 + re(\\tau)] d\\tau $$"
   ]
  },
  {
   "cell_type": "markdown",
   "metadata": {},
   "source": [
    "### Ex. 3\n",
    "#### a) determine as restrições de estados e controle\n",
    "\n",
    "Supoem-se que os propulsores apresentam um torque máximo de operação, porém esse valor pode ser tanto positivo quanto negativo, de forma que:\n",
    "\n",
    "$$  |\\lambda(t)| \\leq \\lambda_{max}$$\n",
    "\n",
    "Supondo que o controle da atitude da nave se dá com o objetivo de controlar a trajetória do veículo, assume-se que variações muito grandes podem desviar completamente a trajetória. Seja $\\delta_\\theta$ uma variação de ângulo máxima remediável, tem-se:\n",
    "$$|\\theta(t) - 15| \\leq \\delta_\\theta.$$\n",
    "\n",
    "De igual modo, assume-se uma velocidade angular máxima remediável $\\delta_\\dot\\theta$ tal que\n",
    "$$|\\dot\\theta(t)| \\leq \\delta_\\dot\\theta$$\n",
    "\n",
    "#### b) Sugira um critério de desempenho apropriado\n",
    "\n",
    "$$J = (x(30) - \\delta)^TH(x(30) - \\delta) + \\int_0^{30} [(x(t) - \\delta)^TQ(x(t) - \\delta) + Ru(t)] dt$$\n",
    "para\n",
    "$$ x(\\tau) = \\begin{bmatrix} \\dot\\theta(\\tau) \\\\ \\theta(\\tau) \\end{bmatrix}; \\quad \\delta = \\begin{bmatrix} 0 \\\\ 15 \\end{bmatrix}; \\quad u(\\tau) = \\lambda(\\tau)$$\n",
    "e $H$, $Q$ e $R$ matrizes de ponderação que determinam a característica da função custo."
   ]
  },
  {
   "cell_type": "markdown",
   "metadata": {},
   "source": [
    "### Ex. 4\n",
    "Considerando-se o tempo mínimo, a função custo passa a ter uma parcela referente ao tempo dentro da integral:\n",
    "\n",
    "$$J = (x(30) - \\delta)^TH(x(30) - \\delta) + \\int_0^{30} [(x(t) - \\delta)^TQ(x(t) - \\delta) + Ru(t) + \\gamma] dt$$\n",
    "para $\\gamma$ um coeficiente de ponderação do tempo gasto para alcançar o objetivo."
   ]
  },
  {
   "cell_type": "markdown",
   "metadata": {},
   "source": [
    "### Ex. 5\n",
    "#### a) Conjunto de restrições\n",
    "\n",
    "Iniciando pelas variáveis de controle poder-se-ía determinar como inconsistente um empuxo negativo, ou com angulo maior que uma rotação completa:\n",
    "$$ 0 \\leq T(t) \\leq T_{max} ;\\quad 0 \\leq \\beta(t) < 2\\pi.$$\n",
    "\n",
    "Para as variáveis de estado, considera-se limites para as posições e velocidades tais que sejam positivas ou zero, uma vez que objetiva-se alcançar valores positivos de $x$ e $y$:\n",
    "$$x_1(t) \\geq 0;\\quad x_2(t) \\geq 0;\\quad x_3(t) \\geq 0;\\quad x_4(t) \\geq 0.$$\n",
    "\n",
    "Quanto à massa, existe um limite óbvio definido pelo valor inicial de massa do veículo e um peso mínimo após a depleção de combustível:\n",
    "$$m_{min} < x_5(t) \\leq x_5(0).$$"
   ]
  },
  {
   "cell_type": "markdown",
   "metadata": {},
   "source": [
    "#### b) Sugira um critério de desempenho para $y(t_f)$ = 3 km e $\\max{x(t_f)}$, $t_f$ fixo.\n",
    "\n",
    "Dado um tempo fixo de controle, assume-se que a nave deva estacionar no instante $t_f$. Para tanto assume-se a seguinte função custo:\n",
    "\n",
    "$$J = h(x(t_f), t_f) + \\int_t^{t_f} g(x(\\tau), \\tau)d\\tau$$\n",
    "$$ h(x(t_f), t_f) = h_y(x_3-3)^2 + h_\\dot{x}(x_2)^2 + h_\\dot{y}(x_4)^2$$\n",
    "$$ g(x(\\tau), \\tau) = -q_xx_1(\\tau)$$\n",
    "\n",
    "para $h_i$ e $q_i$ constantes de ponderação.\n",
    "\n",
    "#### c) Sugira um critério de desempenho para $x(t_f)$ = 500 km, $y(t_f)$ = 3 km, $t_f$ fixo, e máxima massa.\n",
    "$$ h(x(t_f), t_f) = h_x(x_1-500)^2 + h_y(x_3-3)^2 + h_\\dot{x}(x_2)^2 + h_\\dot{y}(x_4)^2$$\n",
    "$$ g(x(\\tau), \\tau) = -q_mx_5(\\tau)$$\n",
    "\n"
   ]
  }
 ],
 "metadata": {
  "kernelspec": {
   "display_name": "Python 3",
   "language": "python",
   "name": "python3"
  },
  "language_info": {
   "codemirror_mode": {
    "name": "ipython",
    "version": 3
   },
   "file_extension": ".py",
   "mimetype": "text/x-python",
   "name": "python",
   "nbconvert_exporter": "python",
   "pygments_lexer": "ipython3",
   "version": "3.7.3"
  }
 },
 "nbformat": 4,
 "nbformat_minor": 4
}
